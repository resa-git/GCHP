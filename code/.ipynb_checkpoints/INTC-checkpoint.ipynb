{
 "cells": [
  {
   "cell_type": "markdown",
   "id": "ff93934c-0d5b-4a0d-afb5-cdaaeb1ebd49",
   "metadata": {},
   "source": [
    "# Using manipulated data"
   ]
  },
  {
   "cell_type": "code",
   "execution_count": 1,
   "id": "0d2da3db-510b-4eaf-a462-7789892188dd",
   "metadata": {},
   "outputs": [],
   "source": [
    "%matplotlib inline"
   ]
  },
  {
   "cell_type": "code",
   "execution_count": 2,
   "id": "02f643b8-98da-42db-9535-b3641d2cade1",
   "metadata": {},
   "outputs": [],
   "source": [
    "import numpy as np\n",
    "import pandas as pd\n",
    "import matplotlib.pyplot as plt\n",
    "import tick\n",
    "from tick.base import TimeFunction\n",
    "from tick.hawkes import SimuHawkesExpKernels\n",
    "from tick.plot import plot_point_process\n",
    "from tick.hawkes import HawkesExpKern\n",
    "from tick.plot import plot_hawkes_kernel_norms\n",
    "import os"
   ]
  },
  {
   "cell_type": "code",
   "execution_count": 3,
   "id": "077fbd3f-0791-482c-bb4e-88464ec2d93e",
   "metadata": {},
   "outputs": [],
   "source": [
    "# Set global font properties\n",
    "plt.rcParams['font.family'] = 'serif'\n",
    "plt.rcParams['font.serif'] = ['Times New Roman', 'Palatino', 'Georgia']\n",
    "plt.rcParams['font.size'] = 14"
   ]
  },
  {
   "cell_type": "code",
   "execution_count": 4,
   "id": "e195e4db-22dd-46b1-b83f-ed61c224d62c",
   "metadata": {},
   "outputs": [],
   "source": [
    "def simulate_markov_chain(P, num_steps, start_state=0, sc = 0.01):\n",
    "    \"\"\"\n",
    "    Simulate a Markov chain given a transition matrix P.\n",
    "    \n",
    "    Parameters:\n",
    "    - P: Transition matrix (2D numpy array)\n",
    "    - num_steps: Number of steps to simulate\n",
    "    - start_state: Initial state (default is 0)\n",
    "    \n",
    "    Returns:\n",
    "    - List of states over time\n",
    "    \"\"\"\n",
    "    np.random.seed(0)\n",
    "    # Ensure the matrix is a numpy array\n",
    "    P = np.array(P)\n",
    "    \n",
    "    # Initialize the current state and the list to store the sequence of states\n",
    "    current_state = start_state\n",
    "    states = [current_state]\n",
    "    Values = np.array([-sc, sc])\n",
    "    # Simulate the Markov chain\n",
    "    for _ in range(num_steps):\n",
    "        next_state = np.random.choice(len(P), p=P[current_state])\n",
    "        states.append(next_state)\n",
    "        current_state = next_state\n",
    "    val = [Values[s] for s in states]    \n",
    "    return val"
   ]
  },
  {
   "cell_type": "markdown",
   "id": "0db4dde5-4d2d-4d70-a46b-a6a2c1d9a623",
   "metadata": {},
   "source": [
    "## Read data"
   ]
  },
  {
   "cell_type": "markdown",
   "id": "a974a656-b0a7-4e07-becd-45e9b889d00e",
   "metadata": {},
   "source": [
    "from 2020 paper we have <br/>\n",
    "\n",
    "|     |  λ | α   |  β | Emp. E[N([0, 1])] |pdd |puu |σ| a∗|\n",
    "| --- | --- | --- | --- | --- |--- |--- |--- |--- |\n",
    "| AMZN | 0.6443 | 653.7524 | 1556.1702 | 1.1110|  0.4635| 0.4576| 0.0046 |−2.7373 × 10−5|\n",
    "\n",
    "In this case, −δ will be state one, and δ with be state two.\n"
   ]
  },
  {
   "cell_type": "markdown",
   "id": "9ec54ab6-f97b-4d4d-8bf7-0e8847383dc1",
   "metadata": {},
   "source": [
    "standard parameter from the above table are not stable"
   ]
  },
  {
   "cell_type": "code",
   "execution_count": 5,
   "id": "8881f20a-a226-45d4-b67b-08be6f245214",
   "metadata": {},
   "outputs": [],
   "source": [
    "stock = 'INTC'\n",
    "lob_level = 1\n",
    "p = 'lobdataread'\n",
    "msgfile = os.path.join(os.getcwd(), f'{p}' ,\"data\", f'{stock}_2012-06-21_34200000_57600000_message_{lob_level}.csv')\n",
    "obfile =  os.path.join(os.getcwd(), f'{p}' ,\"data\", f'{stock}_2012-06-21_34200000_57600000_orderbook_{lob_level}.csv')\n",
    "df1=pd.read_csv(msgfile, sep=',', header=None, \n",
    "        names=['time', 'type', 'ord_id', 'size', 'price', 'dir'],\n",
    "        dtype={'time':np.float64, 'type':np.int32, 'ord_id':np.int32, \n",
    "               'size':np.int64, 'price':np.int64, 'dir':np.int32})\n",
    "\n",
    "df2=pd.read_csv(obfile, sep=',', header=None, \n",
    "        names=['ask_prc_L1', 'ask_sz_L1', 'bid_prc_L1', 'bid_sz_L1'],\n",
    "        dtype={'ask_prc_L1':np.float64, 'ask_sz_L1':np.int64, 'bid_prc_L1':np.float64, 'bid_sz_L1':np.int64})\n",
    "\n",
    "df3 = pd.concat([df1, df2], axis=1)\n",
    "df3 = df3.drop_duplicates(subset='time', keep='first')\n",
    "df3['mid_price'] = (df3['ask_prc_L1'] + df3['bid_prc_L1'])/2\n",
    "df3['datetime'] = pd.to_timedelta(df3['time'], unit='s') + pd.Timestamp(\"2012-06-21\")\n",
    "df3 = df3[(df3['datetime'].dt.time >= pd.Timestamp('2012-06-21 09:46:00').time()) & \n",
    "                 (df3['datetime'].dt.time <= pd.Timestamp('2012-06-21 15:44:00').time())]"
   ]
  },
  {
   "cell_type": "code",
   "execution_count": 56,
   "id": "4a6d3d8e-71c3-4437-a111-b2d6393c1845",
   "metadata": {},
   "outputs": [
    {
     "data": {
      "text/html": [
       "<div>\n",
       "<style scoped>\n",
       "    .dataframe tbody tr th:only-of-type {\n",
       "        vertical-align: middle;\n",
       "    }\n",
       "\n",
       "    .dataframe tbody tr th {\n",
       "        vertical-align: top;\n",
       "    }\n",
       "\n",
       "    .dataframe thead th {\n",
       "        text-align: right;\n",
       "    }\n",
       "</style>\n",
       "<table border=\"1\" class=\"dataframe\">\n",
       "  <thead>\n",
       "    <tr style=\"text-align: right;\">\n",
       "      <th></th>\n",
       "      <th>time</th>\n",
       "      <th>type</th>\n",
       "      <th>ord_id</th>\n",
       "      <th>size</th>\n",
       "      <th>price</th>\n",
       "      <th>dir</th>\n",
       "      <th>ask_prc_L1</th>\n",
       "      <th>ask_sz_L1</th>\n",
       "      <th>bid_prc_L1</th>\n",
       "      <th>bid_sz_L1</th>\n",
       "      <th>mid_price</th>\n",
       "      <th>datetime</th>\n",
       "    </tr>\n",
       "  </thead>\n",
       "  <tbody>\n",
       "    <tr>\n",
       "      <th>41062</th>\n",
       "      <td>35160.279815</td>\n",
       "      <td>1</td>\n",
       "      <td>35222791</td>\n",
       "      <td>200</td>\n",
       "      <td>273300</td>\n",
       "      <td>-1</td>\n",
       "      <td>273300.0</td>\n",
       "      <td>9389</td>\n",
       "      <td>273200.0</td>\n",
       "      <td>6800</td>\n",
       "      <td>273250.0</td>\n",
       "      <td>2012-06-21 09:46:00.279815253</td>\n",
       "    </tr>\n",
       "    <tr>\n",
       "      <th>41063</th>\n",
       "      <td>35160.644008</td>\n",
       "      <td>3</td>\n",
       "      <td>35222791</td>\n",
       "      <td>200</td>\n",
       "      <td>273300</td>\n",
       "      <td>-1</td>\n",
       "      <td>273300.0</td>\n",
       "      <td>9189</td>\n",
       "      <td>273200.0</td>\n",
       "      <td>6800</td>\n",
       "      <td>273250.0</td>\n",
       "      <td>2012-06-21 09:46:00.644008345</td>\n",
       "    </tr>\n",
       "    <tr>\n",
       "      <th>41064</th>\n",
       "      <td>35160.644074</td>\n",
       "      <td>3</td>\n",
       "      <td>35216767</td>\n",
       "      <td>300</td>\n",
       "      <td>273300</td>\n",
       "      <td>-1</td>\n",
       "      <td>273300.0</td>\n",
       "      <td>8889</td>\n",
       "      <td>273200.0</td>\n",
       "      <td>6800</td>\n",
       "      <td>273250.0</td>\n",
       "      <td>2012-06-21 09:46:00.644074264</td>\n",
       "    </tr>\n",
       "    <tr>\n",
       "      <th>41065</th>\n",
       "      <td>35160.711482</td>\n",
       "      <td>1</td>\n",
       "      <td>35229056</td>\n",
       "      <td>600</td>\n",
       "      <td>273300</td>\n",
       "      <td>-1</td>\n",
       "      <td>273300.0</td>\n",
       "      <td>9489</td>\n",
       "      <td>273200.0</td>\n",
       "      <td>6800</td>\n",
       "      <td>273250.0</td>\n",
       "      <td>2012-06-21 09:46:00.711481589</td>\n",
       "    </tr>\n",
       "    <tr>\n",
       "      <th>41066</th>\n",
       "      <td>35160.711560</td>\n",
       "      <td>1</td>\n",
       "      <td>35229060</td>\n",
       "      <td>300</td>\n",
       "      <td>273300</td>\n",
       "      <td>-1</td>\n",
       "      <td>273300.0</td>\n",
       "      <td>9789</td>\n",
       "      <td>273200.0</td>\n",
       "      <td>6800</td>\n",
       "      <td>273250.0</td>\n",
       "      <td>2012-06-21 09:46:00.711559714</td>\n",
       "    </tr>\n",
       "  </tbody>\n",
       "</table>\n",
       "</div>"
      ],
      "text/plain": [
       "               time  type    ord_id  size   price  dir  ask_prc_L1  ask_sz_L1  \\\n",
       "41062  35160.279815     1  35222791   200  273300   -1    273300.0       9389   \n",
       "41063  35160.644008     3  35222791   200  273300   -1    273300.0       9189   \n",
       "41064  35160.644074     3  35216767   300  273300   -1    273300.0       8889   \n",
       "41065  35160.711482     1  35229056   600  273300   -1    273300.0       9489   \n",
       "41066  35160.711560     1  35229060   300  273300   -1    273300.0       9789   \n",
       "\n",
       "       bid_prc_L1  bid_sz_L1  mid_price                      datetime  \n",
       "41062    273200.0       6800   273250.0 2012-06-21 09:46:00.279815253  \n",
       "41063    273200.0       6800   273250.0 2012-06-21 09:46:00.644008345  \n",
       "41064    273200.0       6800   273250.0 2012-06-21 09:46:00.644074264  \n",
       "41065    273200.0       6800   273250.0 2012-06-21 09:46:00.711481589  \n",
       "41066    273200.0       6800   273250.0 2012-06-21 09:46:00.711559714  "
      ]
     },
     "execution_count": 56,
     "metadata": {},
     "output_type": "execute_result"
    }
   ],
   "source": [
    "df3.head()"
   ]
  },
  {
   "cell_type": "code",
   "execution_count": 6,
   "id": "f9434d3f-990c-4511-afda-69c3dde28c08",
   "metadata": {},
   "outputs": [],
   "source": [
    "df = df3[['time', 'datetime', 'mid_price']].copy()\n",
    "df['mid_price'] = df['mid_price']/10000 \n",
    "df.loc[:, 'mid_price'] = df['mid_price'] - df['mid_price'].iloc[0]\n",
    "df.loc[:, 'time'] = df['time'] - df['time'].iloc[0]\n",
    "df.reset_index(drop=True, inplace=True)\n",
    "df['mid_diff'] = df['mid_price'].diff()\n",
    "# Replace NaN with 0 at the beginning\n",
    "df['mid_diff'].fillna(0, inplace=True)\n",
    "threshold = 1e-6\n",
    "df = df[df['mid_diff'].abs() >= threshold]\n",
    "df.reset_index(drop=True, inplace=True)"
   ]
  },
  {
   "cell_type": "code",
   "execution_count": 57,
   "id": "0d3364b0-903b-40f7-88d9-4469c9154a63",
   "metadata": {},
   "outputs": [
    {
     "data": {
      "text/html": [
       "<div>\n",
       "<style scoped>\n",
       "    .dataframe tbody tr th:only-of-type {\n",
       "        vertical-align: middle;\n",
       "    }\n",
       "\n",
       "    .dataframe tbody tr th {\n",
       "        vertical-align: top;\n",
       "    }\n",
       "\n",
       "    .dataframe thead th {\n",
       "        text-align: right;\n",
       "    }\n",
       "</style>\n",
       "<table border=\"1\" class=\"dataframe\">\n",
       "  <thead>\n",
       "    <tr style=\"text-align: right;\">\n",
       "      <th></th>\n",
       "      <th>time</th>\n",
       "      <th>datetime</th>\n",
       "      <th>mid_diff</th>\n",
       "      <th>mid_price</th>\n",
       "      <th>state</th>\n",
       "      <th>mid_price2</th>\n",
       "    </tr>\n",
       "  </thead>\n",
       "  <tbody>\n",
       "    <tr>\n",
       "      <th>0</th>\n",
       "      <td>21.008641</td>\n",
       "      <td>2012-06-21 09:46:21.288456486</td>\n",
       "      <td>0.005</td>\n",
       "      <td>0.005</td>\n",
       "      <td>1</td>\n",
       "      <td>0.005</td>\n",
       "    </tr>\n",
       "    <tr>\n",
       "      <th>1</th>\n",
       "      <td>21.010310</td>\n",
       "      <td>2012-06-21 09:46:21.290125409</td>\n",
       "      <td>0.005</td>\n",
       "      <td>0.010</td>\n",
       "      <td>1</td>\n",
       "      <td>0.010</td>\n",
       "    </tr>\n",
       "    <tr>\n",
       "      <th>2</th>\n",
       "      <td>23.676004</td>\n",
       "      <td>2012-06-21 09:46:23.955819413</td>\n",
       "      <td>0.005</td>\n",
       "      <td>0.015</td>\n",
       "      <td>1</td>\n",
       "      <td>0.015</td>\n",
       "    </tr>\n",
       "    <tr>\n",
       "      <th>3</th>\n",
       "      <td>23.676044</td>\n",
       "      <td>2012-06-21 09:46:23.955859632</td>\n",
       "      <td>0.005</td>\n",
       "      <td>0.020</td>\n",
       "      <td>1</td>\n",
       "      <td>0.020</td>\n",
       "    </tr>\n",
       "    <tr>\n",
       "      <th>4</th>\n",
       "      <td>45.936385</td>\n",
       "      <td>2012-06-21 09:46:46.216200172</td>\n",
       "      <td>0.005</td>\n",
       "      <td>0.030</td>\n",
       "      <td>1</td>\n",
       "      <td>0.025</td>\n",
       "    </tr>\n",
       "  </tbody>\n",
       "</table>\n",
       "</div>"
      ],
      "text/plain": [
       "        time                      datetime  mid_diff  mid_price  state  \\\n",
       "0  21.008641 2012-06-21 09:46:21.288456486     0.005      0.005      1   \n",
       "1  21.010310 2012-06-21 09:46:21.290125409     0.005      0.010      1   \n",
       "2  23.676004 2012-06-21 09:46:23.955819413     0.005      0.015      1   \n",
       "3  23.676044 2012-06-21 09:46:23.955859632     0.005      0.020      1   \n",
       "4  45.936385 2012-06-21 09:46:46.216200172     0.005      0.030      1   \n",
       "\n",
       "   mid_price2  \n",
       "0       0.005  \n",
       "1       0.010  \n",
       "2       0.015  \n",
       "3       0.020  \n",
       "4       0.025  "
      ]
     },
     "execution_count": 57,
     "metadata": {},
     "output_type": "execute_result"
    }
   ],
   "source": [
    "df.head(5)"
   ]
  },
  {
   "cell_type": "code",
   "execution_count": 7,
   "id": "be043a3f-8a08-4e4e-a180-ef1a80de618f",
   "metadata": {},
   "outputs": [
    {
     "data": {
      "text/plain": [
       "[-0.004999999999999005, 0.004999999999999005]"
      ]
     },
     "execution_count": 7,
     "metadata": {},
     "output_type": "execute_result"
    }
   ],
   "source": [
    "df_positive = df[df['mid_diff'] >= 0]\n",
    "df_negative = df[df['mid_diff'] < 0]\n",
    "quantiles_positive = df_positive['mid_diff'].quantile(0.5)\n",
    "quantiles_negative = df_negative['mid_diff'].quantile(0.5)\n",
    "a_ = [quantiles_negative, quantiles_positive]\n",
    "a_"
   ]
  },
  {
   "cell_type": "code",
   "execution_count": 8,
   "id": "5208d5dc-bbae-4bfa-9c3f-699c852506f2",
   "metadata": {},
   "outputs": [],
   "source": [
    "df['mid_diff'] = np.where(df['mid_diff'] >= 0, quantiles_positive, quantiles_negative)"
   ]
  },
  {
   "cell_type": "code",
   "execution_count": 9,
   "id": "53db6534-cf4b-4cd4-8361-f29888737b44",
   "metadata": {},
   "outputs": [
    {
     "data": {
      "text/plain": [
       "time         False\n",
       "datetime     False\n",
       "mid_price    False\n",
       "mid_diff     False\n",
       "dtype: bool"
      ]
     },
     "execution_count": 9,
     "metadata": {},
     "output_type": "execute_result"
    }
   ],
   "source": [
    "df.isnull().any()"
   ]
  },
  {
   "cell_type": "code",
   "execution_count": 10,
   "id": "182b9bfc-7e36-4e07-9e8a-a88f9e4b2b8e",
   "metadata": {},
   "outputs": [],
   "source": [
    "df = df[['time', 'datetime', 'mid_diff', 'mid_price']]"
   ]
  },
  {
   "cell_type": "code",
   "execution_count": 11,
   "id": "4d133b83-7507-4284-9d4c-e5da9a91e4c0",
   "metadata": {},
   "outputs": [
    {
     "data": {
      "text/html": [
       "<div>\n",
       "<style scoped>\n",
       "    .dataframe tbody tr th:only-of-type {\n",
       "        vertical-align: middle;\n",
       "    }\n",
       "\n",
       "    .dataframe tbody tr th {\n",
       "        vertical-align: top;\n",
       "    }\n",
       "\n",
       "    .dataframe thead th {\n",
       "        text-align: right;\n",
       "    }\n",
       "</style>\n",
       "<table border=\"1\" class=\"dataframe\">\n",
       "  <thead>\n",
       "    <tr style=\"text-align: right;\">\n",
       "      <th></th>\n",
       "      <th>time</th>\n",
       "      <th>datetime</th>\n",
       "      <th>mid_diff</th>\n",
       "      <th>mid_price</th>\n",
       "    </tr>\n",
       "  </thead>\n",
       "  <tbody>\n",
       "    <tr>\n",
       "      <th>0</th>\n",
       "      <td>21.008641</td>\n",
       "      <td>2012-06-21 09:46:21.288456486</td>\n",
       "      <td>0.005</td>\n",
       "      <td>0.005</td>\n",
       "    </tr>\n",
       "    <tr>\n",
       "      <th>1</th>\n",
       "      <td>21.010310</td>\n",
       "      <td>2012-06-21 09:46:21.290125409</td>\n",
       "      <td>0.005</td>\n",
       "      <td>0.010</td>\n",
       "    </tr>\n",
       "  </tbody>\n",
       "</table>\n",
       "</div>"
      ],
      "text/plain": [
       "        time                      datetime  mid_diff  mid_price\n",
       "0  21.008641 2012-06-21 09:46:21.288456486     0.005      0.005\n",
       "1  21.010310 2012-06-21 09:46:21.290125409     0.005      0.010"
      ]
     },
     "execution_count": 11,
     "metadata": {},
     "output_type": "execute_result"
    }
   ],
   "source": [
    "df.head(2)"
   ]
  },
  {
   "cell_type": "code",
   "execution_count": 12,
   "id": "d3e180bc-8bd6-4d13-ae89-15ab5744b67a",
   "metadata": {},
   "outputs": [
    {
     "data": {
      "text/plain": [
       "<AxesSubplot:>"
      ]
     },
     "execution_count": 12,
     "metadata": {},
     "output_type": "execute_result"
    },
    {
     "data": {
      "image/png": "[encoded data removed]",
      "text/plain": [
       "<Figure size 400x200 with 1 Axes>"
      ]
     },
     "metadata": {},
     "output_type": "display_data"
    }
   ],
   "source": [
    "%matplotlib inline\n",
    "df.mid_price.plot(figsize = (4,2))"
   ]
  },
  {
   "cell_type": "code",
   "execution_count": 13,
   "id": "bd559c6c-4b08-40e1-9498-f4e1a2685dc1",
   "metadata": {},
   "outputs": [],
   "source": [
    "%%capture\n",
    "timestamps_list = [df['time'].values]\n",
    "best_score = -1e100\n",
    "dd = []\n",
    "decay_candidates = np.linspace(0, 5000, 5000)\n",
    "best_decay = 0\n",
    "for i, decay in enumerate(decay_candidates):\n",
    "    hawkes_learner = HawkesExpKern(decay, verbose=False, max_iter=10000, tol=1e-10)\n",
    "    hawkes_learner.fit(timestamps_list)\n",
    "\n",
    "    hawkes_score = hawkes_learner.score()\n",
    "    dd.append(hawkes_score)\n",
    "    if hawkes_score > best_score:\n",
    "        #print('obtained {}\\n with {}\\n'.format(hawkes_score, decay))\n",
    "        best_hawkes = hawkes_learner\n",
    "        best_score = hawkes_score\n",
    "        best_decay = decay"
   ]
  },
  {
   "cell_type": "code",
   "execution_count": 14,
   "id": "cd92ba4f-0aef-4b0d-8f99-106f18cceb41",
   "metadata": {},
   "outputs": [
    {
     "data": {
      "text/plain": [
       "[<matplotlib.lines.Line2D at 0x7f2f3760d790>]"
      ]
     },
     "execution_count": 14,
     "metadata": {},
     "output_type": "execute_result"
    },
    {
     "data": {
      "image/png": "[encoded data removed]",
      "text/plain": [
       "<Figure size 1500x500 with 1 Axes>"
      ]
     },
     "metadata": {},
     "output_type": "display_data"
    }
   ],
   "source": [
    "fig, ax = plt.subplots(1,1, figsize = (15, 5))\n",
    "ax.plot(decay_candidates, dd)"
   ]
  },
  {
   "cell_type": "code",
   "execution_count": 15,
   "id": "e805a43f-1561-4c0d-bdfe-84aa715456f1",
   "metadata": {},
   "outputs": [],
   "source": [
    "#best_hawkes = hw\n",
    "#best_decay = decay"
   ]
  },
  {
   "cell_type": "code",
   "execution_count": 16,
   "id": "9125f037-d446-4737-9f33-52dac82b1da9",
   "metadata": {},
   "outputs": [
    {
     "name": "stdout",
     "output_type": "stream",
     "text": [
      "n = 1 mu = [0.06257042] alpha = [[0.34442751]] \n",
      "beta = 2626.525305061012, alpha_p = [[904.64756058]], score = 237.58300752882926\n"
     ]
    }
   ],
   "source": [
    "print(f'n = {best_hawkes.n_nodes}',\n",
    "      f'mu = {best_hawkes.baseline}', \n",
    "      f'alpha = {best_hawkes.adjacency}', '\\n'\n",
    "      f'beta = {best_decay}, alpha_p = {best_hawkes.adjacency * best_decay}, score = {best_score}')"
   ]
  },
  {
   "cell_type": "markdown",
   "id": "c2285b14-b65f-4c0d-bba3-757779196fdb",
   "metadata": {},
   "source": [
    "## Markov Process"
   ]
  },
  {
   "cell_type": "code",
   "execution_count": 17,
   "id": "b39283d6-d794-4d91-a4f3-f788f631d432",
   "metadata": {},
   "outputs": [],
   "source": [
    "#ts = hw.timestamps[0] #ts\n",
    "# Compute total milliseconds between 9:45 and 15:45\n",
    "# hours_diff = 15 + 45/60 - (9 + 45/60)  # 6 hours\n",
    "#total_milliseconds = hours_diff * 60 * 60 * 1000  # Convert hours to milliseconds\n",
    "\n",
    "# Rescale the values in ts\n",
    "#ts_rescaled = (ts - ts.min()) / (ts.max() - ts.min()) * total_milliseconds\n",
    "\n",
    "# Convert ts_rescaled to datetime\n",
    "#start_time = pd.Timestamp('2012-06-21 00:00:00') \n",
    "#datetime_array = start_time + pd.to_timedelta(ts, unit='s')\n",
    "\n",
    "# Convert ts_rescaled to seconds\n",
    "#ts_seconds1 = ts / 1\n",
    "\n",
    "# Create a DataFrame\n",
    "#df = pd.DataFrame({\n",
    "#    'datetime': datetime_array,\n",
    "#    'time': ts_seconds1\n",
    "#})"
   ]
  },
  {
   "cell_type": "code",
   "execution_count": 18,
   "id": "37d418a1-885e-4569-b700-c70a6af359bc",
   "metadata": {},
   "outputs": [],
   "source": [
    "df['state'] = np.nan\n",
    "df.loc[df['mid_diff'] < 0, 'state'] = 0\n",
    "df.loc[df['mid_diff'] >= 0, 'state'] = 1 \n",
    "df['state'] = df['state'].astype(int)"
   ]
  },
  {
   "cell_type": "code",
   "execution_count": 19,
   "id": "b4b81842-7389-4f8a-9c70-7d58b8faf637",
   "metadata": {},
   "outputs": [],
   "source": [
    "#pdd = 0.46530078\n",
    "#puu = 0.45586017\n",
    "#P = [[pdd, 1-pdd],\n",
    "#    [1-puu, puu]]"
   ]
  },
  {
   "cell_type": "code",
   "execution_count": 20,
   "id": "4170b125-5407-492c-b5e8-6e0360c5f6f1",
   "metadata": {},
   "outputs": [],
   "source": [
    "#num_steps = len(ts)\n",
    "#start_state = 0\n",
    "#X = np.array(simulate_markov_chain(P, num_steps, start_state))[1:]\n",
    "#S = np.cumsum(X)\n",
    "#\n",
    "#df['jump'] = range(1, len(df) + 1)\n",
    "#df['mid_diff'] = X\n",
    "#df['mid_price'] = S\n",
    "#df = df[['time', 'datetime', 'mid_price', 'mid_diff']]"
   ]
  },
  {
   "cell_type": "code",
   "execution_count": 21,
   "id": "4a5a737a-a341-4b71-b94f-6095f954342d",
   "metadata": {},
   "outputs": [],
   "source": [
    "#S = df.mid_price\n",
    "#Sx = np.cumsum(np.ones_like(df.mid_price))\n",
    "#Si = np.cumsum(-np.ones_like(df.mid_price))\n",
    "#fig, ax = plt.subplots(1, 1, figsize=(20, 4))\n",
    "#ax.plot(ts, S, \".-\", label='Sample Data')\n",
    "#ax.plot(ts, Sx, \"-\", label='Ideal Max')\n",
    "#ax.plot(ts, Si, \"-\", label='Ideal Min')\n",
    "\n",
    "\n",
    "# Add labels and title\n",
    "#ax.set_xlabel('Time')\n",
    "#ax.set_ylabel('Stock')\n",
    "#ax.set_title('Time vs Value')\n",
    "#ax.legend()\n",
    "\n",
    "# Display the plot\n",
    "#plt.show()"
   ]
  },
  {
   "cell_type": "markdown",
   "id": "6855d5db-a677-41c0-adf3-acf408356af9",
   "metadata": {},
   "source": [
    "## Read data"
   ]
  },
  {
   "cell_type": "code",
   "execution_count": 22,
   "id": "05265379-5863-4fb7-a4d5-08e9958e8438",
   "metadata": {},
   "outputs": [],
   "source": [
    "#df.head()"
   ]
  },
  {
   "cell_type": "markdown",
   "id": "62fcd8df-e072-43f7-9d99-9c6e1835a680",
   "metadata": {},
   "source": [
    "## Transition probability"
   ]
  },
  {
   "cell_type": "code",
   "execution_count": 23,
   "id": "95d3ac27-5fbe-4d1e-ad5e-c2e186ff7eac",
   "metadata": {},
   "outputs": [
    {
     "name": "stdout",
     "output_type": "stream",
     "text": [
      "[[0.61531365 0.38468635]\n",
      " [0.43271222 0.56728778]]\n"
     ]
    }
   ],
   "source": [
    "n_state_tot = 2\n",
    "# Initialize transition matrix\n",
    "transition_matrix = np.zeros((n_state_tot, n_state_tot))\n",
    "\n",
    "# Compute transitions\n",
    "for i in range(len(df['state']) - 1):\n",
    "    current_state = df['state'].iloc[i]\n",
    "    next_state = df['state'].iloc[i + 1]\n",
    "    transition_matrix[current_state][next_state] += 1\n",
    "\n",
    "# Normalize to get probabilities\n",
    "transition_probs = transition_matrix / transition_matrix.sum(axis=1)[:, None]\n",
    "print(transition_probs)"
   ]
  },
  {
   "cell_type": "code",
   "execution_count": 24,
   "id": "14f4fbf7-f899-47b0-88cb-4206e3adcee6",
   "metadata": {},
   "outputs": [
    {
     "name": "stdout",
     "output_type": "stream",
     "text": [
      "[0.52937727 0.47062273]\n",
      "================\n",
      "[0.52937727 0.47062273]\n",
      "================\n",
      "1.0\n"
     ]
    }
   ],
   "source": [
    "# Assuming transition_probs is your transition matrix\n",
    "P = transition_probs\n",
    "\n",
    "# Create a matrix where each row is P - I\n",
    "matrix = P.T - np.eye(P.shape[0])\n",
    "\n",
    "# Replace the last row with ones to account for the probability constraint\n",
    "matrix[-1, :] = 1\n",
    "\n",
    "# Create the target vector, with a 1 at the end for the probability constraint\n",
    "target = np.zeros(P.shape[0])\n",
    "target[-1] = 1\n",
    "\n",
    "# Solve the linear system\n",
    "stationary_probs = np.linalg.solve(matrix, target)\n",
    "\n",
    "print(stationary_probs)\n",
    "print(\"================\")\n",
    "print(stationary_probs @ P)\n",
    "print(\"================\")\n",
    "print(np.sum(stationary_probs))"
   ]
  },
  {
   "cell_type": "markdown",
   "id": "44821bea-8163-42ea-88ad-27006fdd9cd5",
   "metadata": {},
   "source": [
    "## Hawkes process"
   ]
  },
  {
   "cell_type": "code",
   "execution_count": 25,
   "id": "e0ef7423-aeb9-4825-bedf-246a7a94a2a5",
   "metadata": {},
   "outputs": [],
   "source": [
    "#best_hawkes = hw\n",
    "#best_decay = decay"
   ]
  },
  {
   "cell_type": "code",
   "execution_count": 26,
   "id": "8b647053-c27f-4cd2-a532-587c98bb0074",
   "metadata": {},
   "outputs": [],
   "source": [
    "#best_hawkes.n_nodes, best_hawkes.baseline, best_hawkes.adjacency, best_decay\n",
    "#best_hawkes.coeffs "
   ]
  },
  {
   "cell_type": "markdown",
   "id": "54efc3e3-0b65-40a2-818e-b94c6902f831",
   "metadata": {},
   "source": [
    "## General compound"
   ]
  },
  {
   "cell_type": "markdown",
   "id": "db7bb823-301b-4f43-87a8-4ebf03449634",
   "metadata": {},
   "source": [
    "\\begin{equation}\n",
    "v(i) = b(i)^2 + \\sum_{j \\in S} (g(j) - g(i))^2 P(i, j) - 2b(i) \\sum_{j \\in S} (g(j) - g(i)) P(i, j)\n",
    "\\end{equation}"
   ]
  },
  {
   "cell_type": "code",
   "execution_count": 27,
   "id": "e9a36e2e-522d-419f-b984-6ac026ea784b",
   "metadata": {},
   "outputs": [],
   "source": [
    "def compute_v(b, g, P):\n",
    "    \"\"\"\n",
    "    Compute v based on the given formula.\n",
    "    \n",
    "    Parameters:\n",
    "    - i: the current state\n",
    "    - b: a function or dictionary that gives b(i) for each i\n",
    "    - g: a function or dictionary that gives g(i) for each i\n",
    "    - P: a 2D array or dictionary of dictionaries that gives P(i, j) for each pair i, j    \n",
    "    Returns:\n",
    "    - v\n",
    "    \"\"\"\n",
    "    v = np.zeros(b.shape)\n",
    "    S = np.array([i for i in range(len(b))])\n",
    "    for i in range(len(b)):\n",
    "        term1 = b[i]**2\n",
    "        term2 = np.sum([(g[j] - g[i])**2 * P[i][j] for j in S])\n",
    "        term3 = -2 * b[i] * np.sum([(g[j] - g[i]) * P[i][j] for j in S])\n",
    "        v[i] = term1 + term2 + term3\n",
    "    \n",
    "    return v"
   ]
  },
  {
   "cell_type": "code",
   "execution_count": 28,
   "id": "d76b45e5-00ca-4c03-807c-70e812eff55e",
   "metadata": {},
   "outputs": [],
   "source": [
    "# np.dot(stationary_probs, transition_probs), stationary_probs"
   ]
  },
  {
   "cell_type": "code",
   "execution_count": 29,
   "id": "5a22d66d-ec04-448e-8b94-756585feab52",
   "metadata": {},
   "outputs": [],
   "source": [
    "lam = best_hawkes.baseline\n",
    "alpha = best_hawkes.adjacency\n",
    "beta = best_decay\n",
    "mu_hat = alpha# (alpha*beta)/beta\n",
    "a = np.array(a_)#a_negative + a_positive)\n",
    "a_star = np.dot(stationary_probs, a)\n",
    "b = a - a_star\n",
    "# # compute g \n",
    "P = transition_probs\n",
    "Pi = np.tile(stationary_probs, (len(stationary_probs), 1))\n",
    "# Identity matrix\n",
    "I = np.eye(n_state_tot)\n",
    "# Compute the inverse of P + Pi - I\n",
    "g = np.linalg.inv(P + Pi - I)@ b\n",
    "v =compute_v(b, g, P) \n",
    "sigma_2 = np.dot(stationary_probs, v)\n",
    "sigma = np.sqrt(sigma_2)\n",
    "sigma_star = sigma * np.sqrt(lam / (1 - mu_hat))"
   ]
  },
  {
   "cell_type": "code",
   "execution_count": 30,
   "id": "d8e7d737-517f-4b55-be8e-a99b38995cc1",
   "metadata": {},
   "outputs": [
    {
     "data": {
      "text/plain": [
       "(array([[0.61531365, 0.38468635],\n",
       "        [0.43271222, 0.56728778]]),\n",
       " 0.006003732880066343,\n",
       " -0.0002937726506949717,\n",
       " array([[0.34442751]]),\n",
       " array([0.06257042]))"
      ]
     },
     "execution_count": 30,
     "metadata": {},
     "output_type": "execute_result"
    }
   ],
   "source": [
    "transition_probs, sigma, a_star, mu_hat, lam"
   ]
  },
  {
   "cell_type": "code",
   "execution_count": 31,
   "id": "84ebb381-2f7c-4894-82d0-027b1f168d22",
   "metadata": {},
   "outputs": [],
   "source": [
    "#for w in range(10, 20, 10):\n",
    "#    print(str(w) + 'S')"
   ]
  },
  {
   "cell_type": "code",
   "execution_count": 32,
   "id": "3a761415-cd75-4003-98b1-5a57f6b4749c",
   "metadata": {},
   "outputs": [],
   "source": [
    "df['mid_price2'] = np.cumsum(df['mid_diff'])\n",
    "df['datetime'] = pd.to_datetime(df['datetime'])"
   ]
  },
  {
   "cell_type": "code",
   "execution_count": 33,
   "id": "56b2b560-0f92-4147-878f-bd20c67e2d09",
   "metadata": {},
   "outputs": [
    {
     "data": {
      "image/png": "[encoded data removed]",
      "text/plain": [
       "<Figure size 2500x500 with 1 Axes>"
      ]
     },
     "metadata": {},
     "output_type": "display_data"
    }
   ],
   "source": [
    "%matplotlib inline\n",
    "import matplotlib\n",
    "fig, ax = plt.subplots(1,1, figsize  = (25,5))\n",
    "ax.plot(df.datetime, df.mid_price)\n",
    "ax.plot(df.datetime, df.mid_price2)\n",
    "ax.xaxis.set_major_formatter(matplotlib.dates.DateFormatter('%H:%M'))\n",
    "#ax.set_xlim([0, 21400])\n",
    "#ax.set_ylim([-5, 2])"
   ]
  },
  {
   "cell_type": "code",
   "execution_count": 34,
   "id": "687392e3-485d-443e-b530-edd6c3d523b4",
   "metadata": {},
   "outputs": [
    {
     "data": {
      "text/html": [
       "<div>\n",
       "<style scoped>\n",
       "    .dataframe tbody tr th:only-of-type {\n",
       "        vertical-align: middle;\n",
       "    }\n",
       "\n",
       "    .dataframe tbody tr th {\n",
       "        vertical-align: top;\n",
       "    }\n",
       "\n",
       "    .dataframe thead th {\n",
       "        text-align: right;\n",
       "    }\n",
       "</style>\n",
       "<table border=\"1\" class=\"dataframe\">\n",
       "  <thead>\n",
       "    <tr style=\"text-align: right;\">\n",
       "      <th></th>\n",
       "      <th>time</th>\n",
       "      <th>datetime</th>\n",
       "      <th>mid_diff</th>\n",
       "      <th>mid_price</th>\n",
       "      <th>state</th>\n",
       "      <th>mid_price2</th>\n",
       "    </tr>\n",
       "  </thead>\n",
       "  <tbody>\n",
       "    <tr>\n",
       "      <th>2046</th>\n",
       "      <td>21452.919430</td>\n",
       "      <td>2012-06-21 15:43:33.199245064</td>\n",
       "      <td>0.005</td>\n",
       "      <td>-0.610</td>\n",
       "      <td>1</td>\n",
       "      <td>-0.575</td>\n",
       "    </tr>\n",
       "    <tr>\n",
       "      <th>2047</th>\n",
       "      <td>21454.223017</td>\n",
       "      <td>2012-06-21 15:43:34.502831884</td>\n",
       "      <td>-0.005</td>\n",
       "      <td>-0.615</td>\n",
       "      <td>0</td>\n",
       "      <td>-0.580</td>\n",
       "    </tr>\n",
       "    <tr>\n",
       "      <th>2048</th>\n",
       "      <td>21454.224686</td>\n",
       "      <td>2012-06-21 15:43:34.504500853</td>\n",
       "      <td>-0.005</td>\n",
       "      <td>-0.620</td>\n",
       "      <td>0</td>\n",
       "      <td>-0.585</td>\n",
       "    </tr>\n",
       "    <tr>\n",
       "      <th>2049</th>\n",
       "      <td>21476.544711</td>\n",
       "      <td>2012-06-21 15:43:56.824525874</td>\n",
       "      <td>-0.005</td>\n",
       "      <td>-0.625</td>\n",
       "      <td>0</td>\n",
       "      <td>-0.590</td>\n",
       "    </tr>\n",
       "    <tr>\n",
       "      <th>2050</th>\n",
       "      <td>21476.545401</td>\n",
       "      <td>2012-06-21 15:43:56.825216174</td>\n",
       "      <td>-0.005</td>\n",
       "      <td>-0.630</td>\n",
       "      <td>0</td>\n",
       "      <td>-0.595</td>\n",
       "    </tr>\n",
       "  </tbody>\n",
       "</table>\n",
       "</div>"
      ],
      "text/plain": [
       "              time                      datetime  mid_diff  mid_price  state  \\\n",
       "2046  21452.919430 2012-06-21 15:43:33.199245064     0.005     -0.610      1   \n",
       "2047  21454.223017 2012-06-21 15:43:34.502831884    -0.005     -0.615      0   \n",
       "2048  21454.224686 2012-06-21 15:43:34.504500853    -0.005     -0.620      0   \n",
       "2049  21476.544711 2012-06-21 15:43:56.824525874    -0.005     -0.625      0   \n",
       "2050  21476.545401 2012-06-21 15:43:56.825216174    -0.005     -0.630      0   \n",
       "\n",
       "      mid_price2  \n",
       "2046      -0.575  \n",
       "2047      -0.580  \n",
       "2048      -0.585  \n",
       "2049      -0.590  \n",
       "2050      -0.595  "
      ]
     },
     "execution_count": 34,
     "metadata": {},
     "output_type": "execute_result"
    }
   ],
   "source": [
    "df.tail()"
   ]
  },
  {
   "cell_type": "code",
   "execution_count": 50,
   "id": "6be1125e-8add-4123-bc66-611206ec9c5c",
   "metadata": {},
   "outputs": [],
   "source": [
    "df_ = df\n",
    "df_ = df.set_index('datetime')\n",
    "windows = range(360, 1200, 20)  # This will create a list [10, 20, 30, ..., 800]\n",
    "std_values = {}\n",
    "std_values_theory = {}\n",
    "for window in windows:\n",
    "    window = str(window) + 'S'\n",
    "    mid_price =  df_['mid_price'].resample(window).apply(lambda x: x[-1] - x[0])\n",
    "    jump = df_['mid_price'].resample(window).size() * a_star\n",
    "    p_result = mid_price - jump\n",
    "                  \n",
    "    std_value = p_result.dropna().std()\n",
    "    std_values[window] = std_value\n",
    "    n = float(window.replace('S',''))\n",
    "    std_values_theory[window] = (np.sqrt(lam/(1 - mu_hat))*sigma*np.sqrt(n)).item()\n",
    "\n",
    "# Plotting the results\n",
    "#std_values, std_values_theory\n",
    "#std_values, std_values_theory\n",
    "x = [int(key[:-1]) for key in std_values.keys()]\n",
    "y = list(std_values.values())\n",
    "# Fit 2nd order polynomial\n",
    "z2 = np.polyfit(x, y, 2)\n",
    "p2 = np.poly1d(z2)\n",
    "\n",
    "# Fit 3rd order polynomial\n",
    "z3 = np.polyfit(x, y, 3)\n",
    "p3 = np.poly1d(z3)"
   ]
  },
  {
   "cell_type": "code",
   "execution_count": 55,
   "id": "52dbd402-e47c-469e-865f-8a20603396fa",
   "metadata": {},
   "outputs": [
    {
     "name": "stdout",
     "output_type": "stream",
     "text": [
      "0.0012979806196642062\n",
      "0.0019396167837172117& -0.001081876415380022& 0.0012979806196642062\n"
     ]
    }
   ],
   "source": [
    "from scipy.optimize import curve_fit\n",
    "from sklearn.metrics import mean_squared_error\n",
    "def mycurvefit(std_values, std_values_theory):\n",
    "    x = [int(key[:-1]) for key in std_values.keys()]\n",
    "    y = list(std_values.values())\n",
    "\n",
    "    def func(x, a, b):\n",
    "        return a * np.sqrt(x) + b\n",
    "    params, covariance = curve_fit(func, x, y)\n",
    "    a, b = params\n",
    "    y_pred = func(x, a, b)\n",
    "    y_true = list(std_values_theory.values())\n",
    "    #y_signal = y\n",
    "    return  y_pred, y_true, a, b\n",
    "y_pred, y_true, a, b = mycurvefit(std_values, std_values_theory)\n",
    "rmse = mean_squared_error(y_true, y_pred, squared=False)\n",
    "print(rmse)\n",
    "print(\"& \".join(map(str, [a, b, rmse])))"
   ]
  },
  {
   "cell_type": "code",
   "execution_count": 52,
   "id": "4635018e-f13e-4f17-b427-3e59b3684005",
   "metadata": {},
   "outputs": [
    {
     "data": {
      "image/png": "[encoded data removed]",
      "text/plain": [
       "<Figure size 500x500 with 1 Axes>"
      ]
     },
     "metadata": {},
     "output_type": "display_data"
    }
   ],
   "source": [
    "# Plotting the results\n",
    "plt.figure(figsize=(5, 5))\n",
    "plt.plot(list(std_values.keys()), list(std_values.values()), marker='o', label='Empirical')\n",
    "plt.plot(list(std_values_theory.keys()), list(std_values_theory.values()), marker='x', linestyle='--', label='Theoretical')\n",
    "#plt.plot(list(std_values.keys()), p2(x), color='red', label='2nd order fit')\n",
    "plt.xlabel('Window Size (seconds)')\n",
    "plt.ylabel('Standard Deviation')\n",
    "plt.title('INTC Result across Window Sizes', y=1.05)\n",
    "plt.legend()\n",
    "#plt.xticks(rotation=90)\n",
    "n = 5\n",
    "keys = list(std_values.keys())\n",
    "plt.xticks(keys[::n], keys[::n], rotation=90)\n",
    "\n",
    "plt.ylim([0, 0.09])\n",
    "#plt.grid(True)\n",
    "plt.savefig(\"./pics/intc_std.png\", dpi=300, bbox_inches='tight')\n",
    "plt.show()"
   ]
  },
  {
   "cell_type": "code",
   "execution_count": null,
   "id": "f19bfcea-3d24-4953-a910-9f93166f498f",
   "metadata": {},
   "outputs": [],
   "source": []
  },
  {
   "cell_type": "code",
   "execution_count": null,
   "id": "3ffc3f30-8bd7-4f19-927e-a925db09edb3",
   "metadata": {},
   "outputs": [],
   "source": []
  },
  {
   "cell_type": "code",
   "execution_count": null,
   "id": "06a1a1b6-2ea9-44d5-a1b1-884ed563243e",
   "metadata": {},
   "outputs": [],
   "source": []
  },
  {
   "cell_type": "code",
   "execution_count": null,
   "id": "6caabc13-7168-49d6-94f8-96efa85e39db",
   "metadata": {},
   "outputs": [],
   "source": []
  },
  {
   "cell_type": "code",
   "execution_count": null,
   "id": "f7b4b0ff-4de3-440e-8c70-c5820a8b79e8",
   "metadata": {},
   "outputs": [],
   "source": []
  },
  {
   "cell_type": "code",
   "execution_count": null,
   "id": "dbf0dc3c-caaa-4d85-8e25-22215dbd539c",
   "metadata": {},
   "outputs": [],
   "source": []
  },
  {
   "cell_type": "code",
   "execution_count": null,
   "id": "cd72af20-3a70-4024-8907-a6e3e67660f5",
   "metadata": {},
   "outputs": [],
   "source": []
  },
  {
   "cell_type": "code",
   "execution_count": null,
   "id": "540fc76a-8abe-41e0-8cee-eaf2a36763e1",
   "metadata": {},
   "outputs": [],
   "source": []
  },
  {
   "cell_type": "code",
   "execution_count": null,
   "id": "a1ecf50f-1888-46e9-aff5-f9c68c5e09be",
   "metadata": {},
   "outputs": [],
   "source": []
  }
 ],
 "metadata": {
  "kernelspec": {
   "display_name": "ml",
   "language": "python",
   "name": "ml"
  },
  "language_info": {
   "codemirror_mode": {
    "name": "ipython",
    "version": 3
   },
   "file_extension": ".py",
   "mimetype": "text/x-python",
   "name": "python",
   "nbconvert_exporter": "python",
   "pygments_lexer": "ipython3",
   "version": "3.7.15"
  }
 },
 "nbformat": 4,
 "nbformat_minor": 5
}
