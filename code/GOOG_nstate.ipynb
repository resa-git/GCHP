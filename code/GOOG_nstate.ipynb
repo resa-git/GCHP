{
 "cells": [
  {
   "cell_type": "markdown",
   "id": "ff93934c-0d5b-4a0d-afb5-cdaaeb1ebd49",
   "metadata": {},
   "source": [
    "# Using manipulated data"
   ]
  },
  {
   "cell_type": "code",
   "execution_count": 2,
   "id": "0d2da3db-510b-4eaf-a462-7789892188dd",
   "metadata": {},
   "outputs": [],
   "source": [
    "%matplotlib inline"
   ]
  },
  {
   "cell_type": "code",
   "execution_count": 55,
   "id": "02f643b8-98da-42db-9535-b3641d2cade1",
   "metadata": {},
   "outputs": [],
   "source": [
    "import numpy as np\n",
    "import pandas as pd\n",
    "import matplotlib.pyplot as plt\n",
    "import tick\n",
    "from tick.base import TimeFunction\n",
    "from tick.hawkes import SimuHawkesExpKernels\n",
    "from tick.plot import plot_point_process\n",
    "from tick.hawkes import HawkesExpKern\n",
    "from tick.plot import plot_hawkes_kernel_norms\n",
    "import os\n",
    "from scipy.optimize import curve_fit\n",
    "from sklearn.metrics import mean_squared_error"
   ]
  },
  {
   "cell_type": "code",
   "execution_count": 4,
   "id": "db090873-328b-41bc-bd2b-320fc7aab7e5",
   "metadata": {},
   "outputs": [],
   "source": [
    "# Set global font properties\n",
    "plt.rcParams['font.family'] = 'serif'\n",
    "plt.rcParams['font.serif'] = ['Times New Roman', 'Palatino', 'Georgia']\n",
    "plt.rcParams['font.size'] = 14"
   ]
  },
  {
   "cell_type": "code",
   "execution_count": 5,
   "id": "e195e4db-22dd-46b1-b83f-ed61c224d62c",
   "metadata": {},
   "outputs": [],
   "source": [
    "def simulate_markov_chain(P, num_steps, start_state=0, sc = 0.01):\n",
    "    \"\"\"\n",
    "    Simulate a Markov chain given a transition matrix P.\n",
    "    \n",
    "    Parameters:\n",
    "    - P: Transition matrix (2D numpy array)\n",
    "    - num_steps: Number of steps to simulate\n",
    "    - start_state: Initial state (default is 0)\n",
    "    \n",
    "    Returns:\n",
    "    - List of states over time\n",
    "    \"\"\"\n",
    "    np.random.seed(0)\n",
    "    # Ensure the matrix is a numpy array\n",
    "    P = np.array(P)\n",
    "    \n",
    "    # Initialize the current state and the list to store the sequence of states\n",
    "    current_state = start_state\n",
    "    states = [current_state]\n",
    "    Values = np.array([-sc, sc])\n",
    "    # Simulate the Markov chain\n",
    "    for _ in range(num_steps):\n",
    "        next_state = np.random.choice(len(P), p=P[current_state])\n",
    "        states.append(next_state)\n",
    "        current_state = next_state\n",
    "    val = [Values[s] for s in states]    \n",
    "    return val"
   ]
  },
  {
   "cell_type": "markdown",
   "id": "0db4dde5-4d2d-4d70-a46b-a6a2c1d9a623",
   "metadata": {},
   "source": [
    "## Read data"
   ]
  },
  {
   "cell_type": "markdown",
   "id": "a974a656-b0a7-4e07-becd-45e9b889d00e",
   "metadata": {},
   "source": [
    "from 2020 paper we have <br/>\n",
    "\n",
    "|     |  λ | α   |  β | Emp. E[N([0, 1])] |pdd |puu |σ| a∗|\n",
    "| --- | --- | --- | --- | --- |--- |--- |--- |--- |\n",
    "| AMZN | 0.6443 | 653.7524 | 1556.1702 | 1.1110|  0.4635| 0.4576| 0.0046 |−2.7373 × 10−5|\n",
    "\n",
    "In this case, −δ will be state one, and δ with be state two.\n"
   ]
  },
  {
   "cell_type": "markdown",
   "id": "9ec54ab6-f97b-4d4d-8bf7-0e8847383dc1",
   "metadata": {},
   "source": [
    "standard parameter from the above table are not stable"
   ]
  },
  {
   "cell_type": "code",
   "execution_count": 6,
   "id": "8881f20a-a226-45d4-b67b-08be6f245214",
   "metadata": {},
   "outputs": [],
   "source": [
    "stock = 'GOOG'\n",
    "lob_level = 1\n",
    "p = 'lobdataread'\n",
    "msgfile = os.path.join(os.getcwd(), f'{p}' ,\"data\", f'{stock}_2012-06-21_34200000_57600000_message_{lob_level}.csv')\n",
    "obfile =  os.path.join(os.getcwd(), f'{p}' ,\"data\", f'{stock}_2012-06-21_34200000_57600000_orderbook_{lob_level}.csv')\n",
    "df1=pd.read_csv(msgfile, sep=',', header=None, \n",
    "        names=['time', 'type', 'ord_id', 'size', 'price', 'dir'],\n",
    "        dtype={'time':np.float64, 'type':np.int32, 'ord_id':np.int32, \n",
    "               'size':np.int64, 'price':np.int64, 'dir':np.int32})\n",
    "\n",
    "df2=pd.read_csv(obfile, sep=',', header=None, \n",
    "        names=['ask_prc_L1', 'ask_sz_L1', 'bid_prc_L1', 'bid_sz_L1'],\n",
    "        dtype={'ask_prc_L1':np.float64, 'ask_sz_L1':np.int64, 'bid_prc_L1':np.float64, 'bid_sz_L1':np.int64})\n",
    "\n",
    "df3 = pd.concat([df1, df2], axis=1)\n",
    "df3 = df3.drop_duplicates(subset='time', keep='first')\n",
    "df3['mid_price'] = (df3['ask_prc_L1'] + df3['bid_prc_L1'])/2\n",
    "df3['datetime'] = pd.to_timedelta(df3['time'], unit='s') + pd.Timestamp(\"2012-06-21\")\n",
    "df3 = df3[(df3['datetime'].dt.time >= pd.Timestamp('2012-06-21 09:46:00').time()) & \n",
    "                 (df3['datetime'].dt.time <= pd.Timestamp('2012-06-21 15:44:00').time())]"
   ]
  },
  {
   "cell_type": "code",
   "execution_count": 7,
   "id": "f9434d3f-990c-4511-afda-69c3dde28c08",
   "metadata": {},
   "outputs": [],
   "source": [
    "df = df3[['time', 'datetime', 'mid_price']].copy()\n",
    "df['mid_price'] = df['mid_price']/10000 \n",
    "df.loc[:, 'mid_price'] = df['mid_price'] - df['mid_price'].iloc[0]\n",
    "df.loc[:, 'time'] = df['time'] - df['time'].iloc[0]\n",
    "df.reset_index(drop=True, inplace=True)\n",
    "df['mid_diff'] = df['mid_price'].diff()\n",
    "# Replace NaN with 0 at the beginning\n",
    "df['mid_diff'].fillna(0, inplace=True)\n",
    "threshold = 1e-6\n",
    "df = df[df['mid_diff'].abs() >= threshold]\n",
    "df.reset_index(drop=True, inplace=True)"
   ]
  },
  {
   "cell_type": "code",
   "execution_count": 8,
   "id": "9ada663d-0be3-43f6-99e1-750559570909",
   "metadata": {},
   "outputs": [
    {
     "data": {
      "text/html": [
       "<div>\n",
       "<style scoped>\n",
       "    .dataframe tbody tr th:only-of-type {\n",
       "        vertical-align: middle;\n",
       "    }\n",
       "\n",
       "    .dataframe tbody tr th {\n",
       "        vertical-align: top;\n",
       "    }\n",
       "\n",
       "    .dataframe thead th {\n",
       "        text-align: right;\n",
       "    }\n",
       "</style>\n",
       "<table border=\"1\" class=\"dataframe\">\n",
       "  <thead>\n",
       "    <tr style=\"text-align: right;\">\n",
       "      <th></th>\n",
       "      <th>time</th>\n",
       "      <th>datetime</th>\n",
       "      <th>mid_price</th>\n",
       "      <th>mid_diff</th>\n",
       "    </tr>\n",
       "  </thead>\n",
       "  <tbody>\n",
       "    <tr>\n",
       "      <th>0</th>\n",
       "      <td>1.597966</td>\n",
       "      <td>2012-06-21 09:46:02.122630873</td>\n",
       "      <td>-0.005</td>\n",
       "      <td>-0.005</td>\n",
       "    </tr>\n",
       "    <tr>\n",
       "      <th>1</th>\n",
       "      <td>4.126696</td>\n",
       "      <td>2012-06-21 09:46:04.651360767</td>\n",
       "      <td>0.110</td>\n",
       "      <td>0.115</td>\n",
       "    </tr>\n",
       "  </tbody>\n",
       "</table>\n",
       "</div>"
      ],
      "text/plain": [
       "       time                      datetime  mid_price  mid_diff\n",
       "0  1.597966 2012-06-21 09:46:02.122630873     -0.005    -0.005\n",
       "1  4.126696 2012-06-21 09:46:04.651360767      0.110     0.115"
      ]
     },
     "execution_count": 8,
     "metadata": {},
     "output_type": "execute_result"
    }
   ],
   "source": [
    "df.head(2)"
   ]
  },
  {
   "cell_type": "code",
   "execution_count": 9,
   "id": "5e4591eb-9aba-43ac-843a-cd1dd3b2d2a9",
   "metadata": {},
   "outputs": [],
   "source": [
    "n_state = [3, 3]\n",
    "n_state_neg = n_state[0]\n",
    "n_state_pos = n_state[1]\n",
    "n_state_tot = sum(n_state)\n",
    "\n",
    "# Split data into positive and negative\n",
    "df_positive = df[df['mid_diff'] >= 0]\n",
    "df_negative = df[df['mid_diff'] < 0]\n",
    "\n",
    "\n",
    "# Calculate quantiles for positive and negative data\n",
    "quantiles_positive = df_positive['mid_diff'].quantile(list(np.linspace(0, 1, n_state_pos + 1 )[1:-1])).tolist()\n",
    "quantiles_negative = df_negative['mid_diff'].quantile(list(np.linspace(0, 1, n_state_neg + 1 )[1:-1])).tolist()\n",
    "\n",
    "# Remove duplicates\n",
    "quantiles_positive = sorted(list(set(quantiles_positive)))\n",
    "quantiles_negative = sorted(list(set(quantiles_negative)))\n",
    "\n",
    "# Calculate state values a(i) for positive data\n",
    "a_positive = []\n",
    "a_positive.append(df_positive[(df_positive['mid_diff'] <= quantiles_positive[0])]['mid_diff'].mean())\n",
    "for i in range(len(quantiles_positive) - 1):\n",
    "    a_positive.append(df_positive[(df_positive['mid_diff'] > quantiles_positive[i]) & \n",
    "                                  (df_positive['mid_diff'] <= quantiles_positive[i+1])]['mid_diff'].mean())\n",
    "a_positive.append(df_positive[(df_positive['mid_diff'] > quantiles_positive[-1])]['mid_diff'].mean())\n",
    "\n",
    "\n",
    "# Calculate state values a(i) for negative data\n",
    "a_negative = []\n",
    "a_negative.append(df_negative[(df_negative['mid_diff'] < quantiles_negative[0])]['mid_diff'].mean())\n",
    "for i in range(len(quantiles_negative) - 1):\n",
    "    a_negative.append(df_negative[(df_negative['mid_diff'] >= quantiles_negative[i]) & \n",
    "                                  (df_negative['mid_diff'] < quantiles_negative[i+1])]['mid_diff'].mean())\n",
    "a_negative.append(df_negative[(df_negative['mid_diff'] >= quantiles_negative[-1])]['mid_diff'].mean())\n"
   ]
  },
  {
   "cell_type": "code",
   "execution_count": null,
   "id": "b5ab2660-f6bb-4c30-856f-24739bd8ae6f",
   "metadata": {},
   "outputs": [],
   "source": []
  },
  {
   "cell_type": "code",
   "execution_count": 10,
   "id": "8ff4a15e-3064-4e43-9e50-b98a067385aa",
   "metadata": {},
   "outputs": [],
   "source": [
    "plt.figure(figsize=(10,5))\n",
    "plt.hist(df_positive[\"mid_diff\"], bins=30, alpha=0.7, label='Histogram of positive mid_diff')\n",
    "\n",
    "# Add vertical lines for quantiles\n",
    "for q in quantiles_positive:\n",
    "    plt.axvline(q, color='r', linestyle='--', label=f'Quantile: {q:.4f}')\n",
    "\n",
    "# Add vertical lines for the specified values\n",
    "for v in a_positive:\n",
    "    plt.axvline(v, color='g', linestyle=':', label=f'Value: {v:.4f}')\n",
    "\n",
    "plt.legend()\n",
    "plt.xlabel('mid_diff')\n",
    "plt.ylabel('Frequency')\n",
    "plt.title('Histogram of mid_diff with Quantiles and Specified Values')\n",
    "plt.tight_layout()\n",
    "plt.show()"
   ]
  },
  {
   "cell_type": "code",
   "execution_count": 11,
   "id": "8bf60caa-2412-46b0-a894-5def1ed4a762",
   "metadata": {},
   "outputs": [],
   "source": [
    "plt.figure(figsize=(10,5))\n",
    "plt.hist(df_negative[\"mid_diff\"], bins=30, alpha=0.7, label='Histogram of positive mid_diff')\n",
    "\n",
    "# Add vertical lines for quantiles\n",
    "for q in quantiles_negative:\n",
    "    plt.axvline(q, color='r', linestyle='--', label=f'Quantile: {q:.4f}')\n",
    "\n",
    "# Add vertical lines for the specified values\n",
    "for v in a_negative:\n",
    "    plt.axvline(v, color='g', linestyle=':', label=f'Value: {v:.4f}')\n",
    "\n",
    "plt.legend()\n",
    "plt.xlabel('mid_diff')\n",
    "plt.ylabel('Frequency')\n",
    "plt.title('Histogram of mid_diff with Quantiles and Specified Values')\n",
    "plt.tight_layout()\n",
    "plt.show()"
   ]
  },
  {
   "cell_type": "code",
   "execution_count": 12,
   "id": "d35b01a2-5053-4777-b5c0-2c256609c941",
   "metadata": {},
   "outputs": [],
   "source": [
    "# Assign states to price changes\n",
    "df['state'] = np.nan\n",
    "\n",
    "# Assign states for negative data\n",
    "df.loc[df['mid_diff'] < quantiles_negative[0], 'state'] = 0\n",
    "df.loc[df['mid_diff'] < quantiles_negative[0], 'state_value'] = a_negative[0]\n",
    "for i in range(1, len(quantiles_negative)):\n",
    "    df.loc[(df['mid_diff'] >= quantiles_negative[i-1]) & (df['mid_diff'] < quantiles_negative[i]), 'state'] = i\n",
    "    df.loc[(df['mid_diff'] >= quantiles_negative[i-1]) & (df['mid_diff'] < quantiles_negative[i]), 'state_value'] = a_negative[i]\n",
    "df.loc[(df['mid_diff'] >= quantiles_negative[-1])  & (df['mid_diff'] < 0), 'state'] = len(quantiles_negative)\n",
    "df.loc[(df['mid_diff'] >= quantiles_negative[-1])  & (df['mid_diff'] < 0), 'state_value'] = a_negative[-1]\n",
    "    \n",
    "    \n",
    "start_state_pos = len(a_negative) \n",
    "df.loc[(df['mid_diff'] <= quantiles_positive[0]) & (df['mid_diff'] >= 0) , 'state'] = start_state_pos \n",
    "df.loc[(df['mid_diff'] <= quantiles_positive[0]) & (df['mid_diff'] >= 0), 'state_value'] = a_positive[0]\n",
    "for i in range(1, len(quantiles_positive)):\n",
    "    df.loc[(df['mid_diff'] > quantiles_positive[i - 1]) & (df['mid_diff'] <= quantiles_positive[i]), 'state'] = start_state_pos + i\n",
    "    df.loc[(df['mid_diff'] > quantiles_positive[i - 1]) & (df['mid_diff'] <= quantiles_positive[i]), 'state_value'] = a_positive[i]\n",
    "df.loc[df['mid_diff'] > quantiles_positive[-1], 'state'] = start_state_pos + len(quantiles_positive)\n",
    "df.loc[df['mid_diff'] > quantiles_positive[-1], 'state_value'] =  a_positive[-1]\n",
    "df['state'] = df['state'].astype(int)"
   ]
  },
  {
   "cell_type": "code",
   "execution_count": 13,
   "id": "fe641dc3-34ad-44eb-a6f1-1b24692db61e",
   "metadata": {},
   "outputs": [
    {
     "data": {
      "text/html": [
       "<div>\n",
       "<style scoped>\n",
       "    .dataframe tbody tr th:only-of-type {\n",
       "        vertical-align: middle;\n",
       "    }\n",
       "\n",
       "    .dataframe tbody tr th {\n",
       "        vertical-align: top;\n",
       "    }\n",
       "\n",
       "    .dataframe thead th {\n",
       "        text-align: right;\n",
       "    }\n",
       "</style>\n",
       "<table border=\"1\" class=\"dataframe\">\n",
       "  <thead>\n",
       "    <tr style=\"text-align: right;\">\n",
       "      <th></th>\n",
       "      <th>time</th>\n",
       "      <th>datetime</th>\n",
       "      <th>mid_price</th>\n",
       "      <th>mid_diff</th>\n",
       "      <th>state</th>\n",
       "      <th>state_value</th>\n",
       "    </tr>\n",
       "  </thead>\n",
       "  <tbody>\n",
       "    <tr>\n",
       "      <th>0</th>\n",
       "      <td>1.597966</td>\n",
       "      <td>2012-06-21 09:46:02.122630873</td>\n",
       "      <td>-0.005</td>\n",
       "      <td>-0.005</td>\n",
       "      <td>2</td>\n",
       "      <td>-0.006568</td>\n",
       "    </tr>\n",
       "    <tr>\n",
       "      <th>1</th>\n",
       "      <td>4.126696</td>\n",
       "      <td>2012-06-21 09:46:04.651360767</td>\n",
       "      <td>0.110</td>\n",
       "      <td>0.115</td>\n",
       "      <td>5</td>\n",
       "      <td>0.068814</td>\n",
       "    </tr>\n",
       "    <tr>\n",
       "      <th>2</th>\n",
       "      <td>4.127149</td>\n",
       "      <td>2012-06-21 09:46:04.651813194</td>\n",
       "      <td>-0.005</td>\n",
       "      <td>-0.115</td>\n",
       "      <td>0</td>\n",
       "      <td>-0.066128</td>\n",
       "    </tr>\n",
       "    <tr>\n",
       "      <th>3</th>\n",
       "      <td>4.127233</td>\n",
       "      <td>2012-06-21 09:46:04.651896918</td>\n",
       "      <td>0.105</td>\n",
       "      <td>0.110</td>\n",
       "      <td>5</td>\n",
       "      <td>0.068814</td>\n",
       "    </tr>\n",
       "    <tr>\n",
       "      <th>4</th>\n",
       "      <td>4.127465</td>\n",
       "      <td>2012-06-21 09:46:04.652129178</td>\n",
       "      <td>-0.005</td>\n",
       "      <td>-0.110</td>\n",
       "      <td>0</td>\n",
       "      <td>-0.066128</td>\n",
       "    </tr>\n",
       "  </tbody>\n",
       "</table>\n",
       "</div>"
      ],
      "text/plain": [
       "       time                      datetime  mid_price  mid_diff  state  \\\n",
       "0  1.597966 2012-06-21 09:46:02.122630873     -0.005    -0.005      2   \n",
       "1  4.126696 2012-06-21 09:46:04.651360767      0.110     0.115      5   \n",
       "2  4.127149 2012-06-21 09:46:04.651813194     -0.005    -0.115      0   \n",
       "3  4.127233 2012-06-21 09:46:04.651896918      0.105     0.110      5   \n",
       "4  4.127465 2012-06-21 09:46:04.652129178     -0.005    -0.110      0   \n",
       "\n",
       "   state_value  \n",
       "0    -0.006568  \n",
       "1     0.068814  \n",
       "2    -0.066128  \n",
       "3     0.068814  \n",
       "4    -0.066128  "
      ]
     },
     "execution_count": 13,
     "metadata": {},
     "output_type": "execute_result"
    }
   ],
   "source": [
    "df.head()"
   ]
  },
  {
   "cell_type": "code",
   "execution_count": 14,
   "id": "53db6534-cf4b-4cd4-8361-f29888737b44",
   "metadata": {},
   "outputs": [
    {
     "data": {
      "text/plain": [
       "time           False\n",
       "datetime       False\n",
       "mid_price      False\n",
       "mid_diff       False\n",
       "state          False\n",
       "state_value    False\n",
       "dtype: bool"
      ]
     },
     "execution_count": 14,
     "metadata": {},
     "output_type": "execute_result"
    }
   ],
   "source": [
    "df.isnull().any()"
   ]
  },
  {
   "cell_type": "code",
   "execution_count": 15,
   "id": "182b9bfc-7e36-4e07-9e8a-a88f9e4b2b8e",
   "metadata": {},
   "outputs": [],
   "source": [
    "df = df[['time', 'datetime', 'mid_diff', 'mid_price', 'state', 'state_value']]"
   ]
  },
  {
   "cell_type": "code",
   "execution_count": 16,
   "id": "4d133b83-7507-4284-9d4c-e5da9a91e4c0",
   "metadata": {},
   "outputs": [
    {
     "data": {
      "text/html": [
       "<div>\n",
       "<style scoped>\n",
       "    .dataframe tbody tr th:only-of-type {\n",
       "        vertical-align: middle;\n",
       "    }\n",
       "\n",
       "    .dataframe tbody tr th {\n",
       "        vertical-align: top;\n",
       "    }\n",
       "\n",
       "    .dataframe thead th {\n",
       "        text-align: right;\n",
       "    }\n",
       "</style>\n",
       "<table border=\"1\" class=\"dataframe\">\n",
       "  <thead>\n",
       "    <tr style=\"text-align: right;\">\n",
       "      <th></th>\n",
       "      <th>time</th>\n",
       "      <th>datetime</th>\n",
       "      <th>mid_diff</th>\n",
       "      <th>mid_price</th>\n",
       "      <th>state</th>\n",
       "      <th>state_value</th>\n",
       "    </tr>\n",
       "  </thead>\n",
       "  <tbody>\n",
       "    <tr>\n",
       "      <th>0</th>\n",
       "      <td>1.597966</td>\n",
       "      <td>2012-06-21 09:46:02.122630873</td>\n",
       "      <td>-0.005</td>\n",
       "      <td>-0.005</td>\n",
       "      <td>2</td>\n",
       "      <td>-0.006568</td>\n",
       "    </tr>\n",
       "    <tr>\n",
       "      <th>1</th>\n",
       "      <td>4.126696</td>\n",
       "      <td>2012-06-21 09:46:04.651360767</td>\n",
       "      <td>0.115</td>\n",
       "      <td>0.110</td>\n",
       "      <td>5</td>\n",
       "      <td>0.068814</td>\n",
       "    </tr>\n",
       "  </tbody>\n",
       "</table>\n",
       "</div>"
      ],
      "text/plain": [
       "       time                      datetime  mid_diff  mid_price  state  \\\n",
       "0  1.597966 2012-06-21 09:46:02.122630873    -0.005     -0.005      2   \n",
       "1  4.126696 2012-06-21 09:46:04.651360767     0.115      0.110      5   \n",
       "\n",
       "   state_value  \n",
       "0    -0.006568  \n",
       "1     0.068814  "
      ]
     },
     "execution_count": 16,
     "metadata": {},
     "output_type": "execute_result"
    }
   ],
   "source": [
    "df.head(2)"
   ]
  },
  {
   "cell_type": "code",
   "execution_count": 17,
   "id": "d3e180bc-8bd6-4d13-ae89-15ab5744b67a",
   "metadata": {},
   "outputs": [],
   "source": [
    "%matplotlib inline\n",
    "#df.mid_price.plot()"
   ]
  },
  {
   "cell_type": "code",
   "execution_count": 18,
   "id": "bd559c6c-4b08-40e1-9498-f4e1a2685dc1",
   "metadata": {},
   "outputs": [],
   "source": [
    "%%capture\n",
    "timestamps_list = [df['time'].values]\n",
    "best_score = -1e100\n",
    "dd = []\n",
    "decay_candidates = np.linspace(0, 5000, 5000)\n",
    "best_decay = 0\n",
    "for i, decay in enumerate(decay_candidates):\n",
    "    hawkes_learner = HawkesExpKern(decay, verbose=False, max_iter=10000, tol=1e-10)\n",
    "    hawkes_learner.fit(timestamps_list)\n",
    "\n",
    "    hawkes_score = hawkes_learner.score()\n",
    "    dd.append(hawkes_score)\n",
    "    if hawkes_score > best_score:\n",
    "        #print('obtained {}\\n with {}\\n'.format(hawkes_score, decay))\n",
    "        best_hawkes = hawkes_learner\n",
    "        best_score = hawkes_score\n",
    "        best_decay = decay"
   ]
  },
  {
   "cell_type": "code",
   "execution_count": 19,
   "id": "e805a43f-1561-4c0d-bdfe-84aa715456f1",
   "metadata": {},
   "outputs": [],
   "source": [
    "fig, ax = plt.subplots(1,1, figsize = (15, 5))\n",
    "ax.plot(decay_candidates, dd)"
   ]
  },
  {
   "cell_type": "code",
   "execution_count": 20,
   "id": "9125f037-d446-4737-9f33-52dac82b1da9",
   "metadata": {},
   "outputs": [
    {
     "name": "stdout",
     "output_type": "stream",
     "text": [
      "n = 1 mu = [0.45509476] alpha = [[0.44611705]] \n",
      "beta = 1620.8104052026015, alpha_p = [[723.07115039]]\n"
     ]
    }
   ],
   "source": [
    "print(f'n = {best_hawkes.n_nodes}',\n",
    "      f'mu = {best_hawkes.baseline}', \n",
    "      f'alpha = {best_hawkes.adjacency}', '\\n'\n",
    "      f'beta = {best_decay}, alpha_p = {best_hawkes.adjacency * best_decay}, score = {best_score}')"
   ]
  },
  {
   "cell_type": "markdown",
   "id": "c2285b14-b65f-4c0d-bba3-757779196fdb",
   "metadata": {},
   "source": [
    "## Markov Process"
   ]
  },
  {
   "cell_type": "code",
   "execution_count": 21,
   "id": "b39283d6-d794-4d91-a4f3-f788f631d432",
   "metadata": {},
   "outputs": [],
   "source": [
    "#ts = hw.timestamps[0] #ts\n",
    "# Compute total milliseconds between 9:45 and 15:45\n",
    "# hours_diff = 15 + 45/60 - (9 + 45/60)  # 6 hours\n",
    "#total_milliseconds = hours_diff * 60 * 60 * 1000  # Convert hours to milliseconds\n",
    "\n",
    "# Rescale the values in ts\n",
    "#ts_rescaled = (ts - ts.min()) / (ts.max() - ts.min()) * total_milliseconds\n",
    "\n",
    "# Convert ts_rescaled to datetime\n",
    "#start_time = pd.Timestamp('2012-06-21 00:00:00') \n",
    "#datetime_array = start_time + pd.to_timedelta(ts, unit='s')\n",
    "\n",
    "# Convert ts_rescaled to seconds\n",
    "#ts_seconds1 = ts / 1\n",
    "\n",
    "# Create a DataFrame\n",
    "#df = pd.DataFrame({\n",
    "#    'datetime': datetime_array,\n",
    "#    'time': ts_seconds1\n",
    "#})"
   ]
  },
  {
   "cell_type": "code",
   "execution_count": null,
   "id": "37d418a1-885e-4569-b700-c70a6af359bc",
   "metadata": {},
   "outputs": [],
   "source": []
  },
  {
   "cell_type": "code",
   "execution_count": 22,
   "id": "b4b81842-7389-4f8a-9c70-7d58b8faf637",
   "metadata": {},
   "outputs": [],
   "source": [
    "#pdd = 0.46530078\n",
    "#puu = 0.45586017\n",
    "#P = [[pdd, 1-pdd],\n",
    "#    [1-puu, puu]]"
   ]
  },
  {
   "cell_type": "code",
   "execution_count": 23,
   "id": "4170b125-5407-492c-b5e8-6e0360c5f6f1",
   "metadata": {},
   "outputs": [],
   "source": [
    "#num_steps = len(ts)\n",
    "#start_state = 0\n",
    "#X = np.array(simulate_markov_chain(P, num_steps, start_state))[1:]\n",
    "#S = np.cumsum(X)\n",
    "#\n",
    "#df['jump'] = range(1, len(df) + 1)\n",
    "#df['mid_diff'] = X\n",
    "#df['mid_price'] = S\n",
    "#df = df[['time', 'datetime', 'mid_price', 'mid_diff']]"
   ]
  },
  {
   "cell_type": "code",
   "execution_count": 24,
   "id": "4a5a737a-a341-4b71-b94f-6095f954342d",
   "metadata": {},
   "outputs": [],
   "source": [
    "#S = df.mid_price\n",
    "#Sx = np.cumsum(np.ones_like(df.mid_price))\n",
    "#Si = np.cumsum(-np.ones_like(df.mid_price))\n",
    "#fig, ax = plt.subplots(1, 1, figsize=(20, 4))\n",
    "#ax.plot(ts, S, \".-\", label='Sample Data')\n",
    "#ax.plot(ts, Sx, \"-\", label='Ideal Max')\n",
    "#ax.plot(ts, Si, \"-\", label='Ideal Min')\n",
    "\n",
    "\n",
    "# Add labels and title\n",
    "#ax.set_xlabel('Time')\n",
    "#ax.set_ylabel('Stock')\n",
    "#ax.set_title('Time vs Value')\n",
    "#ax.legend()\n",
    "\n",
    "# Display the plot\n",
    "#plt.show()"
   ]
  },
  {
   "cell_type": "markdown",
   "id": "6855d5db-a677-41c0-adf3-acf408356af9",
   "metadata": {},
   "source": [
    "## Read data"
   ]
  },
  {
   "cell_type": "code",
   "execution_count": 25,
   "id": "05265379-5863-4fb7-a4d5-08e9958e8438",
   "metadata": {},
   "outputs": [],
   "source": [
    "#df.head()"
   ]
  },
  {
   "cell_type": "markdown",
   "id": "62fcd8df-e072-43f7-9d99-9c6e1835a680",
   "metadata": {},
   "source": [
    "## Transition probability"
   ]
  },
  {
   "cell_type": "code",
   "execution_count": 26,
   "id": "95d3ac27-5fbe-4d1e-ad5e-c2e186ff7eac",
   "metadata": {},
   "outputs": [
    {
     "name": "stdout",
     "output_type": "stream",
     "text": [
      "[[0.106914   0.12209106 0.17335582 0.10016863 0.09376054 0.40370995]\n",
      " [0.12272911 0.14089625 0.18974566 0.12071054 0.33831247 0.08760597]\n",
      " [0.12434949 0.12161052 0.32484251 0.26869351 0.08107368 0.07943029]\n",
      " [0.08265425 0.10593714 0.26949942 0.30355064 0.11816065 0.1201979 ]\n",
      " [0.1734609  0.32113145 0.12562396 0.15266223 0.11855241 0.10856905]\n",
      " [0.44200743 0.06914498 0.0936803  0.1669145  0.11226766 0.11598513]]\n"
     ]
    }
   ],
   "source": [
    "# Initialize transition matrix\n",
    "transition_matrix = np.zeros((n_state_tot, n_state_tot))\n",
    "\n",
    "# Compute transitions\n",
    "for i in range(len(df['state']) - 1):\n",
    "    current_state = df['state'].iloc[i]\n",
    "    next_state = df['state'].iloc[i + 1]\n",
    "    transition_matrix[current_state][next_state] += 1\n",
    "\n",
    "# Normalize to get probabilities\n",
    "transition_probs = transition_matrix / transition_matrix.sum(axis=1)[:, None]\n",
    "print(transition_probs)"
   ]
  },
  {
   "cell_type": "code",
   "execution_count": 27,
   "id": "14f4fbf7-f899-47b0-88cb-4206e3adcee6",
   "metadata": {},
   "outputs": [
    {
     "name": "stdout",
     "output_type": "stream",
     "text": [
      "[0.16825039 0.1405676  0.20710085 0.194962   0.13647472 0.15264444]\n",
      "================\n",
      "[0.16825039 0.1405676  0.20710085 0.194962   0.13647472 0.15264444]\n",
      "================\n",
      "1.0\n"
     ]
    }
   ],
   "source": [
    "# Assuming transition_probs is your transition matrix\n",
    "P = transition_probs\n",
    "\n",
    "# Create a matrix where each row is P - I\n",
    "matrix = P.T - np.eye(P.shape[0])\n",
    "\n",
    "# Replace the last row with ones to account for the probability constraint\n",
    "matrix[-1, :] = 1\n",
    "\n",
    "# Create the target vector, with a 1 at the end for the probability constraint\n",
    "target = np.zeros(P.shape[0])\n",
    "target[-1] = 1\n",
    "\n",
    "# Solve the linear system\n",
    "stationary_probs = np.linalg.solve(matrix, target)\n",
    "\n",
    "print(stationary_probs)\n",
    "print(\"================\")\n",
    "print(stationary_probs @ P)\n",
    "print(\"================\")\n",
    "print(np.sum(stationary_probs))"
   ]
  },
  {
   "cell_type": "markdown",
   "id": "44821bea-8163-42ea-88ad-27006fdd9cd5",
   "metadata": {},
   "source": [
    "## Hawkes process"
   ]
  },
  {
   "cell_type": "code",
   "execution_count": 28,
   "id": "e0ef7423-aeb9-4825-bedf-246a7a94a2a5",
   "metadata": {},
   "outputs": [],
   "source": [
    "#best_hawkes = hw\n",
    "#best_decay = decay"
   ]
  },
  {
   "cell_type": "code",
   "execution_count": 29,
   "id": "8b647053-c27f-4cd2-a532-587c98bb0074",
   "metadata": {},
   "outputs": [],
   "source": [
    "#best_hawkes.n_nodes, best_hawkes.baseline, best_hawkes.adjacency, best_decay\n",
    "#best_hawkes.coeffs "
   ]
  },
  {
   "cell_type": "markdown",
   "id": "54efc3e3-0b65-40a2-818e-b94c6902f831",
   "metadata": {},
   "source": [
    "## General compound"
   ]
  },
  {
   "cell_type": "markdown",
   "id": "db7bb823-301b-4f43-87a8-4ebf03449634",
   "metadata": {},
   "source": [
    "\\begin{equation}\n",
    "v(i) = b(i)^2 + \\sum_{j \\in S} (g(j) - g(i))^2 P(i, j) - 2b(i) \\sum_{j \\in S} (g(j) - g(i)) P(i, j)\n",
    "\\end{equation}"
   ]
  },
  {
   "cell_type": "code",
   "execution_count": 30,
   "id": "e9a36e2e-522d-419f-b984-6ac026ea784b",
   "metadata": {},
   "outputs": [],
   "source": [
    "def compute_v(b, g, P):\n",
    "    \"\"\"\n",
    "    Compute v based on the given formula.\n",
    "    \n",
    "    Parameters:\n",
    "    - i: the current state\n",
    "    - b: a function or dictionary that gives b(i) for each i\n",
    "    - g: a function or dictionary that gives g(i) for each i\n",
    "    - P: a 2D array or dictionary of dictionaries that gives P(i, j) for each pair i, j    \n",
    "    Returns:\n",
    "    - v\n",
    "    \"\"\"\n",
    "    v = np.zeros(b.shape)\n",
    "    S = np.array([i for i in range(len(b))])\n",
    "    for i in range(len(b)):\n",
    "        term1 = b[i]**2\n",
    "        term2 = np.sum([(g[j] - g[i])**2 * P[i][j] for j in S])\n",
    "        term3 = -2 * b[i] * np.sum([(g[j] - g[i]) * P[i][j] for j in S])\n",
    "        v[i] = term1 + term2 + term3\n",
    "    \n",
    "    return v"
   ]
  },
  {
   "cell_type": "code",
   "execution_count": 31,
   "id": "d76b45e5-00ca-4c03-807c-70e812eff55e",
   "metadata": {},
   "outputs": [],
   "source": [
    "# np.dot(stationary_probs, transition_probs), stationary_probs"
   ]
  },
  {
   "cell_type": "code",
   "execution_count": null,
   "id": "33f91d24-21a1-45d6-83e9-dd5e1abd5d80",
   "metadata": {},
   "outputs": [],
   "source": []
  },
  {
   "cell_type": "code",
   "execution_count": 32,
   "id": "5a22d66d-ec04-448e-8b94-756585feab52",
   "metadata": {},
   "outputs": [],
   "source": [
    "lam = best_hawkes.baseline\n",
    "alpha = best_hawkes.adjacency\n",
    "beta = best_decay\n",
    "mu_hat = alpha# (alpha*beta)/beta\n",
    "a = a_negative + a_positive\n",
    "a_star = np.dot(stationary_probs, a)\n",
    "b = a - a_star\n",
    "# # compute g \n",
    "P = transition_probs\n",
    "Pi = np.tile(stationary_probs, (len(stationary_probs), 1))\n",
    "# Identity matrix\n",
    "I = np.eye(n_state_tot)\n",
    "# Compute the inverse of P + Pi - I\n",
    "g = np.linalg.inv(P + Pi - I)@ b\n",
    "v =compute_v(b, g, P) \n",
    "sigma_2 = np.dot(stationary_probs, v)\n",
    "sigma = np.sqrt(sigma_2)\n",
    "sigma_star = sigma * np.sqrt(lam / (1 - mu_hat))"
   ]
  },
  {
   "cell_type": "code",
   "execution_count": 33,
   "id": "d8e7d737-517f-4b55-be8e-a99b38995cc1",
   "metadata": {},
   "outputs": [
    {
     "data": {
      "text/plain": [
       "(array([[0.106914  , 0.12209106, 0.17335582, 0.10016863, 0.09376054,\n",
       "         0.40370995],\n",
       "        [0.12272911, 0.14089625, 0.18974566, 0.12071054, 0.33831247,\n",
       "         0.08760597],\n",
       "        [0.12434949, 0.12161052, 0.32484251, 0.26869351, 0.08107368,\n",
       "         0.07943029],\n",
       "        [0.08265425, 0.10593714, 0.26949942, 0.30355064, 0.11816065,\n",
       "         0.1201979 ],\n",
       "        [0.1734609 , 0.32113145, 0.12562396, 0.15266223, 0.11855241,\n",
       "         0.10856905],\n",
       "        [0.44200743, 0.06914498, 0.0936803 , 0.1669145 , 0.11226766,\n",
       "         0.11598513]]),\n",
       " 0.03041608011688308,\n",
       " -0.0006430144525909067,\n",
       " array([[0.44611705]]),\n",
       " array([0.45509476]))"
      ]
     },
     "execution_count": 33,
     "metadata": {},
     "output_type": "execute_result"
    }
   ],
   "source": [
    "transition_probs, sigma, a_star, mu_hat, lam"
   ]
  },
  {
   "cell_type": "code",
   "execution_count": 44,
   "id": "202bb22e-aa4f-4b37-9fcf-cd1431722f7a",
   "metadata": {},
   "outputs": [
    {
     "data": {
      "text/plain": [
       "'-0.066& -0.021& -0.007& 0.006& 0.022& 0.069'"
      ]
     },
     "execution_count": 44,
     "metadata": {},
     "output_type": "execute_result"
    }
   ],
   "source": [
    "\"& \".join([(f'{x:.3f}') for x in a])"
   ]
  },
  {
   "cell_type": "code",
   "execution_count": 45,
   "id": "84ebb381-2f7c-4894-82d0-027b1f168d22",
   "metadata": {},
   "outputs": [
    {
     "data": {
      "text/plain": [
       "'0.168& 0.141& 0.207& 0.195& 0.136& 0.153& 0.030& 0.446'"
      ]
     },
     "execution_count": 45,
     "metadata": {},
     "output_type": "execute_result"
    }
   ],
   "source": [
    "\"& \".join([(f'{x:.3f}') for x in stationary_probs.tolist() + [sigma] + mu_hat[0].tolist()])"
   ]
  },
  {
   "cell_type": "code",
   "execution_count": 35,
   "id": "3a761415-cd75-4003-98b1-5a57f6b4749c",
   "metadata": {},
   "outputs": [],
   "source": [
    "df['mid_price2'] = np.cumsum(df['state_value'])\n",
    "df['datetime'] = pd.to_datetime(df['datetime'])"
   ]
  },
  {
   "cell_type": "code",
   "execution_count": 36,
   "id": "56b2b560-0f92-4147-878f-bd20c67e2d09",
   "metadata": {},
   "outputs": [
    {
     "data": {
      "image/png": "[encoded data removed]",
      "text/plain": [
       "<Figure size 2500x500 with 1 Axes>"
      ]
     },
     "metadata": {},
     "output_type": "display_data"
    }
   ],
   "source": [
    "%matplotlib inline\n",
    "import matplotlib\n",
    "fig, ax = plt.subplots(1,1, figsize  = (25,5))\n",
    "ax.plot(df.datetime, df.mid_price)\n",
    "ax.plot(df.datetime, df.mid_price2)\n",
    "ax.xaxis.set_major_formatter(matplotlib.dates.DateFormatter('%H:%M'))\n",
    "#ax.set_xlim([0, 21400])\n",
    "#ax.set_ylim([-5, 2])"
   ]
  },
  {
   "cell_type": "code",
   "execution_count": 37,
   "id": "687392e3-485d-443e-b530-edd6c3d523b4",
   "metadata": {},
   "outputs": [
    {
     "data": {
      "text/html": [
       "<div>\n",
       "<style scoped>\n",
       "    .dataframe tbody tr th:only-of-type {\n",
       "        vertical-align: middle;\n",
       "    }\n",
       "\n",
       "    .dataframe tbody tr th {\n",
       "        vertical-align: top;\n",
       "    }\n",
       "\n",
       "    .dataframe thead th {\n",
       "        text-align: right;\n",
       "    }\n",
       "</style>\n",
       "<table border=\"1\" class=\"dataframe\">\n",
       "  <thead>\n",
       "    <tr style=\"text-align: right;\">\n",
       "      <th></th>\n",
       "      <th>time</th>\n",
       "      <th>datetime</th>\n",
       "      <th>mid_diff</th>\n",
       "      <th>mid_price</th>\n",
       "      <th>state</th>\n",
       "      <th>state_value</th>\n",
       "      <th>mid_price2</th>\n",
       "    </tr>\n",
       "  </thead>\n",
       "  <tbody>\n",
       "    <tr>\n",
       "      <th>17619</th>\n",
       "      <td>21465.760957</td>\n",
       "      <td>2012-06-21 15:43:46.285621890</td>\n",
       "      <td>0.025</td>\n",
       "      <td>-11.330</td>\n",
       "      <td>4</td>\n",
       "      <td>0.022129</td>\n",
       "      <td>-11.339064</td>\n",
       "    </tr>\n",
       "    <tr>\n",
       "      <th>17620</th>\n",
       "      <td>21466.552304</td>\n",
       "      <td>2012-06-21 15:43:47.076968793</td>\n",
       "      <td>0.050</td>\n",
       "      <td>-11.280</td>\n",
       "      <td>5</td>\n",
       "      <td>0.068814</td>\n",
       "      <td>-11.270250</td>\n",
       "    </tr>\n",
       "    <tr>\n",
       "      <th>17621</th>\n",
       "      <td>21467.974032</td>\n",
       "      <td>2012-06-21 15:43:48.498696158</td>\n",
       "      <td>-0.055</td>\n",
       "      <td>-11.335</td>\n",
       "      <td>0</td>\n",
       "      <td>-0.066128</td>\n",
       "      <td>-11.336378</td>\n",
       "    </tr>\n",
       "    <tr>\n",
       "      <th>17622</th>\n",
       "      <td>21470.576940</td>\n",
       "      <td>2012-06-21 15:43:51.101604846</td>\n",
       "      <td>-0.020</td>\n",
       "      <td>-11.355</td>\n",
       "      <td>1</td>\n",
       "      <td>-0.020751</td>\n",
       "      <td>-11.357129</td>\n",
       "    </tr>\n",
       "    <tr>\n",
       "      <th>17623</th>\n",
       "      <td>21473.319845</td>\n",
       "      <td>2012-06-21 15:43:53.844509201</td>\n",
       "      <td>0.020</td>\n",
       "      <td>-11.335</td>\n",
       "      <td>4</td>\n",
       "      <td>0.022129</td>\n",
       "      <td>-11.335000</td>\n",
       "    </tr>\n",
       "  </tbody>\n",
       "</table>\n",
       "</div>"
      ],
      "text/plain": [
       "               time                      datetime  mid_diff  mid_price  state  \\\n",
       "17619  21465.760957 2012-06-21 15:43:46.285621890     0.025    -11.330      4   \n",
       "17620  21466.552304 2012-06-21 15:43:47.076968793     0.050    -11.280      5   \n",
       "17621  21467.974032 2012-06-21 15:43:48.498696158    -0.055    -11.335      0   \n",
       "17622  21470.576940 2012-06-21 15:43:51.101604846    -0.020    -11.355      1   \n",
       "17623  21473.319845 2012-06-21 15:43:53.844509201     0.020    -11.335      4   \n",
       "\n",
       "       state_value  mid_price2  \n",
       "17619     0.022129  -11.339064  \n",
       "17620     0.068814  -11.270250  \n",
       "17621    -0.066128  -11.336378  \n",
       "17622    -0.020751  -11.357129  \n",
       "17623     0.022129  -11.335000  "
      ]
     },
     "execution_count": 37,
     "metadata": {},
     "output_type": "execute_result"
    }
   ],
   "source": [
    "df.tail()"
   ]
  },
  {
   "cell_type": "code",
   "execution_count": null,
   "id": "69416205-f5a3-4d27-8d95-053a2a0ef663",
   "metadata": {},
   "outputs": [],
   "source": []
  },
  {
   "cell_type": "code",
   "execution_count": 71,
   "id": "6be1125e-8add-4123-bc66-611206ec9c5c",
   "metadata": {},
   "outputs": [],
   "source": [
    "def get_windows(df, a_star, lam, mu_hat, sigma):\n",
    "    df_ = df\n",
    "    df_ = df.set_index('datetime')\n",
    "    windows = range(360, 1200, 20)  # This will create a list [10, 20, 30, ..., 800]\n",
    "    std_values = {}\n",
    "    std_values_theory = {}\n",
    "    for window in windows:\n",
    "        window = str(window) + 'S'\n",
    "        mid_price =  df_['mid_price'].resample(window).apply(lambda x: x[-1] - x[0])\n",
    "        jump = df_['mid_price'].resample(window).size() * a_star\n",
    "        p_result = mid_price - jump\n",
    "\n",
    "        std_value = p_result.dropna().std()\n",
    "        std_values[window] = std_value\n",
    "        n = float(window.replace('S',''))\n",
    "        std_values_theory[window] = (np.sqrt(lam/(1 - mu_hat))*sigma*np.sqrt(n)).item()\n",
    "\n",
    "    # Plotting the results\n",
    "    #std_values, std_values_theory\n",
    "    return std_value, std_values_theory\n",
    "def mycurvefit(std_values, std_values_theory):\n",
    "    x = [int(key[:-1]) for key in std_values.keys()]\n",
    "    y = list(std_values.values())\n",
    "\n",
    "    def func(x, a, b):\n",
    "        return a * np.sqrt(x) + b\n",
    "    params, covariance = curve_fit(func, x, y)\n",
    "    a, b = params\n",
    "    y_pred = func(x, a, b)\n",
    "    y_true = list(std_values_theory.values())\n",
    "    #y_signal = y\n",
    "    return  y_pred, y_true"
   ]
  },
  {
   "cell_type": "code",
   "execution_count": 72,
   "id": "938a5dd6-028f-4f8d-84f0-1722d88730b2",
   "metadata": {},
   "outputs": [],
   "source": [
    "std_value, std_values_theory = get_windows(df, a_star, lam, mu_hat, sigma) \n",
    "y_pred, y_true = mycurvefit(std_values, std_values_theory)"
   ]
  },
  {
   "cell_type": "code",
   "execution_count": 73,
   "id": "1d14cec0-baca-4989-b496-6c3a7ad942c6",
   "metadata": {},
   "outputs": [
    {
     "data": {
      "text/plain": [
       "0.05737236325859343"
      ]
     },
     "execution_count": 73,
     "metadata": {},
     "output_type": "execute_result"
    }
   ],
   "source": [
    "mean_squared_error(y_true, y_pred, squared=False)"
   ]
  },
  {
   "cell_type": "code",
   "execution_count": 74,
   "id": "1142c8e0-2bba-4c56-a389-a0c1b70b019b",
   "metadata": {},
   "outputs": [
    {
     "name": "stdout",
     "output_type": "stream",
     "text": [
      "0.05737236325859343\n",
      "0.031088433936130734& -0.041175684238591984& 0.05737236325859343\n"
     ]
    }
   ],
   "source": [
    "from scipy.optimize import curve_fit\n",
    "from sklearn.metrics import mean_squared_error\n",
    "def mycurvefit(std_values, std_values_theory):\n",
    "    x = [int(key[:-1]) for key in std_values.keys()]\n",
    "    y = list(std_values.values())\n",
    "\n",
    "    def func(x, a, b):\n",
    "        return a * np.sqrt(x) + b\n",
    "    params, covariance = curve_fit(func, x, y)\n",
    "    a, b = params\n",
    "    y_pred = func(x, a, b)\n",
    "    y_true = list(std_values_theory.values())\n",
    "    #y_signal = y\n",
    "    return  y_pred, y_true, a, b\n",
    "y_pred, y_true, a, b = mycurvefit(std_values, std_values_theory)\n",
    "rmse = mean_squared_error(y_true, y_pred, squared=False)\n",
    "print(rmse)\n",
    "print(\"& \".join(map(str, [a, b, rmse])))"
   ]
  },
  {
   "cell_type": "code",
   "execution_count": 60,
   "id": "4635018e-f13e-4f17-b427-3e59b3684005",
   "metadata": {},
   "outputs": [
    {
     "data": {
      "image/png": "[encoded data removed]",
      "text/plain": [
       "<Figure size 500x500 with 1 Axes>"
      ]
     },
     "metadata": {},
     "output_type": "display_data"
    }
   ],
   "source": [
    "# Plotting the results\n",
    "plt.figure(figsize=(5, 5))\n",
    "plt.plot(list(std_values.keys()), list(std_values.values()), marker='o', label='Empirical')\n",
    "plt.plot(list(std_values_theory.keys()), list(std_values_theory.values()), marker='x', linestyle='--', label='Theoretical')\n",
    "#plt.plot(list(std_values_theory.keys()), func(x, a, b), linestyle='--', label='Fit')\n",
    "\n",
    "plt.xlabel('Window Size (seconds)')\n",
    "plt.ylabel('Standard Deviation')\n",
    "plt.title('GOOG Result across Window Sizes', y= 1.05)\n",
    "plt.legend()\n",
    "n = 5\n",
    "keys = list(std_values.keys())\n",
    "plt.xticks(keys[::n], keys[::n], rotation=90)\n",
    "plt.ylim([.1, 1.2])\n",
    "#plt.grid(True)\n",
    "plt.savefig(\"./pics/goog_std_ns.png\", dpi=300, bbox_inches='tight')\n",
    "plt.show()"
   ]
  },
  {
   "cell_type": "code",
   "execution_count": null,
   "id": "892ccd44-c288-4466-ad76-49525762e5ce",
   "metadata": {},
   "outputs": [],
   "source": []
  },
  {
   "cell_type": "code",
   "execution_count": null,
   "id": "f19bfcea-3d24-4953-a910-9f93166f498f",
   "metadata": {},
   "outputs": [],
   "source": []
  },
  {
   "cell_type": "code",
   "execution_count": null,
   "id": "3ffc3f30-8bd7-4f19-927e-a925db09edb3",
   "metadata": {},
   "outputs": [],
   "source": []
  },
  {
   "cell_type": "code",
   "execution_count": null,
   "id": "06a1a1b6-2ea9-44d5-a1b1-884ed563243e",
   "metadata": {},
   "outputs": [],
   "source": []
  },
  {
   "cell_type": "code",
   "execution_count": null,
   "id": "6caabc13-7168-49d6-94f8-96efa85e39db",
   "metadata": {},
   "outputs": [],
   "source": []
  },
  {
   "cell_type": "code",
   "execution_count": null,
   "id": "f7b4b0ff-4de3-440e-8c70-c5820a8b79e8",
   "metadata": {},
   "outputs": [],
   "source": []
  },
  {
   "cell_type": "code",
   "execution_count": null,
   "id": "dbf0dc3c-caaa-4d85-8e25-22215dbd539c",
   "metadata": {},
   "outputs": [],
   "source": []
  },
  {
   "cell_type": "code",
   "execution_count": null,
   "id": "cd72af20-3a70-4024-8907-a6e3e67660f5",
   "metadata": {},
   "outputs": [],
   "source": []
  },
  {
   "cell_type": "code",
   "execution_count": null,
   "id": "540fc76a-8abe-41e0-8cee-eaf2a36763e1",
   "metadata": {},
   "outputs": [],
   "source": []
  },
  {
   "cell_type": "code",
   "execution_count": null,
   "id": "a1ecf50f-1888-46e9-aff5-f9c68c5e09be",
   "metadata": {},
   "outputs": [],
   "source": []
  }
 ],
 "metadata": {
  "kernelspec": {
   "display_name": "ml",
   "language": "python",
   "name": "ml"
  },
  "language_info": {
   "codemirror_mode": {
    "name": "ipython",
    "version": 3
   },
   "file_extension": ".py",
   "mimetype": "text/x-python",
   "name": "python",
   "nbconvert_exporter": "python",
   "pygments_lexer": "ipython3",
   "version": "3.7.15"
  }
 },
 "nbformat": 4,
 "nbformat_minor": 5
}
