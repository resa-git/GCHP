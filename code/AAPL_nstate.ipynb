{
 "cells": [
  {
   "cell_type": "markdown",
   "id": "ff93934c-0d5b-4a0d-afb5-cdaaeb1ebd49",
   "metadata": {},
   "source": [
    "# Using manipulated data"
   ]
  },
  {
   "cell_type": "code",
   "execution_count": 1,
   "id": "0d2da3db-510b-4eaf-a462-7789892188dd",
   "metadata": {},
   "outputs": [],
   "source": [
    "%matplotlib inline"
   ]
  },
  {
   "cell_type": "code",
   "execution_count": 2,
   "id": "02f643b8-98da-42db-9535-b3641d2cade1",
   "metadata": {},
   "outputs": [],
   "source": [
    "import numpy as np\n",
    "import pandas as pd\n",
    "import matplotlib.pyplot as plt\n",
    "import tick\n",
    "from tick.base import TimeFunction\n",
    "from tick.hawkes import SimuHawkesExpKernels\n",
    "from tick.plot import plot_point_process\n",
    "from tick.hawkes import HawkesExpKern\n",
    "from tick.plot import plot_hawkes_kernel_norms\n",
    "import os\n",
    "from scipy.optimize import minimize_scalar"
   ]
  },
  {
   "cell_type": "code",
   "execution_count": 3,
   "id": "5af4971c-0644-4270-b416-b01df3e3e2bf",
   "metadata": {},
   "outputs": [],
   "source": [
    "# Set global font properties\n",
    "plt.rcParams['font.family'] = 'serif'\n",
    "plt.rcParams['font.serif'] = ['Times New Roman', 'Palatino', 'Georgia']\n",
    "plt.rcParams['font.size'] = 14"
   ]
  },
  {
   "cell_type": "code",
   "execution_count": 4,
   "id": "e195e4db-22dd-46b1-b83f-ed61c224d62c",
   "metadata": {},
   "outputs": [],
   "source": [
    "def simulate_markov_chain(P, num_steps, start_state=0, sc = 0.01):\n",
    "    \"\"\"\n",
    "    Simulate a Markov chain given a transition matrix P.\n",
    "    \n",
    "    Parameters:\n",
    "    - P: Transition matrix (2D numpy array)\n",
    "    - num_steps: Number of steps to simulate\n",
    "    - start_state: Initial state (default is 0)\n",
    "    \n",
    "    Returns:\n",
    "    - List of states over time\n",
    "    \"\"\"\n",
    "    np.random.seed(0)\n",
    "    # Ensure the matrix is a numpy array\n",
    "    P = np.array(P)\n",
    "    \n",
    "    # Initialize the current state and the list to store the sequence of states\n",
    "    current_state = start_state\n",
    "    states = [current_state]\n",
    "    Values = np.array([-sc, sc])\n",
    "    # Simulate the Markov chain\n",
    "    for _ in range(num_steps):\n",
    "        next_state = np.random.choice(len(P), p=P[current_state])\n",
    "        states.append(next_state)\n",
    "        current_state = next_state\n",
    "    val = [Values[s] for s in states]    \n",
    "    return val"
   ]
  },
  {
   "cell_type": "markdown",
   "id": "0db4dde5-4d2d-4d70-a46b-a6a2c1d9a623",
   "metadata": {},
   "source": [
    "## Read data"
   ]
  },
  {
   "cell_type": "code",
   "execution_count": 5,
   "id": "8881f20a-a226-45d4-b67b-08be6f245214",
   "metadata": {},
   "outputs": [],
   "source": [
    "stock = 'AAPL'\n",
    "lob_level = 1\n",
    "p = 'lobdataread'\n",
    "msgfile = os.path.join(os.getcwd(), f'{p}' ,\"data\", f'{stock}_2012-06-21_34200000_57600000_message_{lob_level}.csv')\n",
    "obfile =  os.path.join(os.getcwd(), f'{p}' ,\"data\", f'{stock}_2012-06-21_34200000_57600000_orderbook_{lob_level}.csv')\n",
    "df1=pd.read_csv(msgfile, sep=',', header=None, \n",
    "        names=['time', 'type', 'ord_id', 'size', 'price', 'dir'],\n",
    "        dtype={'time':np.float64, 'type':np.int32, 'ord_id':np.int32, \n",
    "               'size':np.int64, 'price':np.int64, 'dir':np.int32})\n",
    "\n",
    "df2=pd.read_csv(obfile, sep=',', header=None, \n",
    "        names=['ask_prc_L1', 'ask_sz_L1', 'bid_prc_L1', 'bid_sz_L1'],\n",
    "        dtype={'ask_prc_L1':np.float64, 'ask_sz_L1':np.int64, 'bid_prc_L1':np.float64, 'bid_sz_L1':np.int64})\n",
    "\n",
    "df3 = pd.concat([df1, df2], axis=1)\n",
    "df3 = df3.drop_duplicates(subset='time', keep='first')\n",
    "df3['mid_price'] = (df3['ask_prc_L1'] + df3['bid_prc_L1'])/2\n",
    "df3['datetime'] = pd.to_timedelta(df3['time'], unit='s') + pd.Timestamp(\"2012-06-21\")\n",
    "df3 = df3[(df3['datetime'].dt.time >= pd.Timestamp('2012-06-21 09:46:00').time()) & \n",
    "                 (df3['datetime'].dt.time <= pd.Timestamp('2012-06-21 15:44:00').time())]"
   ]
  },
  {
   "cell_type": "code",
   "execution_count": 6,
   "id": "f9434d3f-990c-4511-afda-69c3dde28c08",
   "metadata": {},
   "outputs": [],
   "source": [
    "df = df3[['time', 'datetime', 'mid_price']].copy()\n",
    "df['mid_price'] = df['mid_price']/10000 \n",
    "df.loc[:, 'mid_price'] = df['mid_price'] - df['mid_price'].iloc[0]\n",
    "df.loc[:, 'time'] = df['time'] - df['time'].iloc[0]\n",
    "df.reset_index(drop=True, inplace=True)\n",
    "df['mid_diff'] = df['mid_price'].diff()\n",
    "# Replace NaN with 0 at the beginning\n",
    "df['mid_diff'].fillna(0, inplace=True)\n",
    "threshold = 1e-6\n",
    "df = df[df['mid_diff'].abs() >= threshold]\n",
    "df.reset_index(drop=True, inplace=True)"
   ]
  },
  {
   "cell_type": "code",
   "execution_count": 7,
   "id": "9ada663d-0be3-43f6-99e1-750559570909",
   "metadata": {},
   "outputs": [
    {
     "data": {
      "text/html": [
       "<div>\n",
       "<style scoped>\n",
       "    .dataframe tbody tr th:only-of-type {\n",
       "        vertical-align: middle;\n",
       "    }\n",
       "\n",
       "    .dataframe tbody tr th {\n",
       "        vertical-align: top;\n",
       "    }\n",
       "\n",
       "    .dataframe thead th {\n",
       "        text-align: right;\n",
       "    }\n",
       "</style>\n",
       "<table border=\"1\" class=\"dataframe\">\n",
       "  <thead>\n",
       "    <tr style=\"text-align: right;\">\n",
       "      <th></th>\n",
       "      <th>time</th>\n",
       "      <th>datetime</th>\n",
       "      <th>mid_price</th>\n",
       "      <th>mid_diff</th>\n",
       "    </tr>\n",
       "  </thead>\n",
       "  <tbody>\n",
       "    <tr>\n",
       "      <th>0</th>\n",
       "      <td>0.058728</td>\n",
       "      <td>2012-06-21 09:46:00.805489419</td>\n",
       "      <td>0.005</td>\n",
       "      <td>0.005</td>\n",
       "    </tr>\n",
       "    <tr>\n",
       "      <th>1</th>\n",
       "      <td>0.354516</td>\n",
       "      <td>2012-06-21 09:46:01.101277444</td>\n",
       "      <td>0.000</td>\n",
       "      <td>-0.005</td>\n",
       "    </tr>\n",
       "  </tbody>\n",
       "</table>\n",
       "</div>"
      ],
      "text/plain": [
       "       time                      datetime  mid_price  mid_diff\n",
       "0  0.058728 2012-06-21 09:46:00.805489419      0.005     0.005\n",
       "1  0.354516 2012-06-21 09:46:01.101277444      0.000    -0.005"
      ]
     },
     "execution_count": 7,
     "metadata": {},
     "output_type": "execute_result"
    }
   ],
   "source": [
    "df.head(2)"
   ]
  },
  {
   "cell_type": "code",
   "execution_count": 8,
   "id": "5e4591eb-9aba-43ac-843a-cd1dd3b2d2a9",
   "metadata": {},
   "outputs": [],
   "source": [
    "n_state = [3, 3]\n",
    "n_state_neg = n_state[0]\n",
    "n_state_pos = n_state[1]\n",
    "n_state_tot = sum(n_state)\n",
    "\n",
    "# Split data into positive and negative\n",
    "df_positive = df[df['mid_diff'] >= 0]\n",
    "df_negative = df[df['mid_diff'] < 0]\n",
    "\n",
    "quantiles_values = np.linspace(0, 1, n_state_pos + 1 )[1:-1]\n",
    "quantiles_values = [int(x) for x in np.round(quantiles_values * 100)]\n",
    "# Calculate quantiles for positive and negative data\n",
    "quantiles_positive = df_positive['mid_diff'].quantile(list(np.linspace(0, 1, n_state_pos + 1 )[1:-1])).tolist()\n",
    "quantiles_negative = df_negative['mid_diff'].quantile(list(np.linspace(0, 1, n_state_neg + 1 )[1:-1])).tolist()\n",
    "\n",
    "# Remove duplicates\n",
    "quantiles_positive = sorted(list(set(quantiles_positive)))\n",
    "quantiles_negative = sorted(list(set(quantiles_negative)))\n",
    "\n",
    "# Calculate state values a(i) for positive data\n",
    "a_positive = []\n",
    "a_positive.append(df_positive[(df_positive['mid_diff'] <= quantiles_positive[0])]['mid_diff'].mean())\n",
    "for i in range(len(quantiles_positive) - 1):\n",
    "    a_positive.append(df_positive[(df_positive['mid_diff'] > quantiles_positive[i]) & \n",
    "                                  (df_positive['mid_diff'] <= quantiles_positive[i+1])]['mid_diff'].mean())\n",
    "a_positive.append(df_positive[(df_positive['mid_diff'] > quantiles_positive[-1])]['mid_diff'].mean())\n",
    "\n",
    "\n",
    "# Calculate state values a(i) for negative data\n",
    "a_negative = []\n",
    "a_negative.append(df_negative[(df_negative['mid_diff'] < quantiles_negative[0])]['mid_diff'].mean())\n",
    "for i in range(len(quantiles_negative) - 1):\n",
    "    a_negative.append(df_negative[(df_negative['mid_diff'] >= quantiles_negative[i]) & \n",
    "                                  (df_negative['mid_diff'] < quantiles_negative[i+1])]['mid_diff'].mean())\n",
    "a_negative.append(df_negative[(df_negative['mid_diff'] >= quantiles_negative[-1])]['mid_diff'].mean())\n"
   ]
  },
  {
   "cell_type": "code",
   "execution_count": null,
   "id": "b5ab2660-f6bb-4c30-856f-24739bd8ae6f",
   "metadata": {},
   "outputs": [],
   "source": []
  },
  {
   "cell_type": "code",
   "execution_count": 9,
   "id": "8ff4a15e-3064-4e43-9e50-b98a067385aa",
   "metadata": {},
   "outputs": [],
   "source": [
    "plt.figure(figsize=(10,5))\n",
    "plt.hist(df_positive[\"mid_diff\"], bins=30, alpha=0.7, label='Histogram of positive mid_diff')\n",
    "\n",
    "# Add vertical lines for quantiles\n",
    "for i, q in enumerate(quantiles_positive):\n",
    "    plt.axvline(q, color='r', linestyle='--', label=f'{quantiles_values[i]}% Quantile: {q:.4f}')\n",
    "\n",
    "# Add vertical lines for the specified values\n",
    "for i, v in enumerate(a_positive):\n",
    "    plt.axvline(v, color='g', linestyle=':', label=f'a({i + 4}): {v:.4f}')\n",
    "\n",
    "plt.legend()\n",
    "plt.xlabel('Price change')\n",
    "plt.ylabel('Frequency')\n",
    "plt.title('Histogram of price change with Quantiles for positive values')\n",
    "plt.tight_layout()\n",
    "plt.savefig(\"./pics/aapl_quant_pos_ns.png\", dpi=300, bbox_inches='tight')\n",
    "plt.show()"
   ]
  },
  {
   "cell_type": "code",
   "execution_count": 10,
   "id": "8bf60caa-2412-46b0-a894-5def1ed4a762",
   "metadata": {},
   "outputs": [],
   "source": [
    "plt.figure(figsize=(10,5))\n",
    "plt.hist(df_negative[\"mid_diff\"], bins=30, alpha=0.7, label='Histogram of positive mid_diff')\n",
    "\n",
    "# Add vertical lines for quantiles\n",
    "for i, q in enumerate(quantiles_negative):\n",
    "    plt.axvline(q, color='r', linestyle='--', label=f'{quantiles_values[i]}% Quantile: {q:.4f}')\n",
    "\n",
    "# Add vertical lines for the specified values\n",
    "for i, v in enumerate(a_negative):\n",
    "    plt.axvline(v, color='g', linestyle=':', label=f'a({i + 1}): {v:.4f}')\n",
    "\n",
    "plt.legend()\n",
    "plt.xlabel('Price change')\n",
    "plt.ylabel('Frequency')\n",
    "plt.title('Histogram of price change with Quantiles for negative values')\n",
    "plt.tight_layout()\n",
    "plt.savefig(\"./pics/aapl_quant_neg_ns.png\", dpi=300, bbox_inches='tight')\n",
    "plt.show()"
   ]
  },
  {
   "cell_type": "code",
   "execution_count": 11,
   "id": "d35b01a2-5053-4777-b5c0-2c256609c941",
   "metadata": {},
   "outputs": [],
   "source": [
    "# Assign states to price changes\n",
    "df['state'] = np.nan\n",
    "\n",
    "# Assign states for negative data\n",
    "df.loc[df['mid_diff'] < quantiles_negative[0], 'state'] = 0\n",
    "df.loc[df['mid_diff'] < quantiles_negative[0], 'state_value'] = a_negative[0]\n",
    "for i in range(1, len(quantiles_negative)):\n",
    "    df.loc[(df['mid_diff'] >= quantiles_negative[i-1]) & (df['mid_diff'] < quantiles_negative[i]), 'state'] = i\n",
    "    df.loc[(df['mid_diff'] >= quantiles_negative[i-1]) & (df['mid_diff'] < quantiles_negative[i]), 'state_value'] = a_negative[i]\n",
    "df.loc[(df['mid_diff'] >= quantiles_negative[-1])  & (df['mid_diff'] < 0), 'state'] = len(quantiles_negative)\n",
    "df.loc[(df['mid_diff'] >= quantiles_negative[-1])  & (df['mid_diff'] < 0), 'state_value'] = a_negative[-1]\n",
    "    \n",
    "    \n",
    "start_state_pos = len(a_negative) \n",
    "df.loc[(df['mid_diff'] <= quantiles_positive[0]) & (df['mid_diff'] >= 0) , 'state'] = start_state_pos \n",
    "df.loc[(df['mid_diff'] <= quantiles_positive[0]) & (df['mid_diff'] >= 0), 'state_value'] = a_positive[0]\n",
    "for i in range(1, len(quantiles_positive)):\n",
    "    df.loc[(df['mid_diff'] > quantiles_positive[i - 1]) & (df['mid_diff'] <= quantiles_positive[i]), 'state'] = start_state_pos + i\n",
    "    df.loc[(df['mid_diff'] > quantiles_positive[i - 1]) & (df['mid_diff'] <= quantiles_positive[i]), 'state_value'] = a_positive[i]\n",
    "df.loc[df['mid_diff'] > quantiles_positive[-1], 'state'] = start_state_pos + len(quantiles_positive)\n",
    "df.loc[df['mid_diff'] > quantiles_positive[-1], 'state_value'] =  a_positive[-1]\n",
    "df['state'] = df['state'].astype(int)"
   ]
  },
  {
   "cell_type": "code",
   "execution_count": 12,
   "id": "fe641dc3-34ad-44eb-a6f1-1b24692db61e",
   "metadata": {},
   "outputs": [
    {
     "data": {
      "text/html": [
       "<div>\n",
       "<style scoped>\n",
       "    .dataframe tbody tr th:only-of-type {\n",
       "        vertical-align: middle;\n",
       "    }\n",
       "\n",
       "    .dataframe tbody tr th {\n",
       "        vertical-align: top;\n",
       "    }\n",
       "\n",
       "    .dataframe thead th {\n",
       "        text-align: right;\n",
       "    }\n",
       "</style>\n",
       "<table border=\"1\" class=\"dataframe\">\n",
       "  <thead>\n",
       "    <tr style=\"text-align: right;\">\n",
       "      <th></th>\n",
       "      <th>time</th>\n",
       "      <th>datetime</th>\n",
       "      <th>mid_price</th>\n",
       "      <th>mid_diff</th>\n",
       "      <th>state</th>\n",
       "      <th>state_value</th>\n",
       "    </tr>\n",
       "  </thead>\n",
       "  <tbody>\n",
       "    <tr>\n",
       "      <th>0</th>\n",
       "      <td>0.058728</td>\n",
       "      <td>2012-06-21 09:46:00.805489419</td>\n",
       "      <td>0.005</td>\n",
       "      <td>0.005</td>\n",
       "      <td>3</td>\n",
       "      <td>0.005000</td>\n",
       "    </tr>\n",
       "    <tr>\n",
       "      <th>1</th>\n",
       "      <td>0.354516</td>\n",
       "      <td>2012-06-21 09:46:01.101277444</td>\n",
       "      <td>0.000</td>\n",
       "      <td>-0.005</td>\n",
       "      <td>2</td>\n",
       "      <td>-0.005000</td>\n",
       "    </tr>\n",
       "    <tr>\n",
       "      <th>2</th>\n",
       "      <td>0.391589</td>\n",
       "      <td>2012-06-21 09:46:01.138350507</td>\n",
       "      <td>-0.005</td>\n",
       "      <td>-0.005</td>\n",
       "      <td>2</td>\n",
       "      <td>-0.005000</td>\n",
       "    </tr>\n",
       "    <tr>\n",
       "      <th>3</th>\n",
       "      <td>0.422029</td>\n",
       "      <td>2012-06-21 09:46:01.168790433</td>\n",
       "      <td>-0.025</td>\n",
       "      <td>-0.020</td>\n",
       "      <td>0</td>\n",
       "      <td>-0.035802</td>\n",
       "    </tr>\n",
       "    <tr>\n",
       "      <th>4</th>\n",
       "      <td>0.422125</td>\n",
       "      <td>2012-06-21 09:46:01.168885770</td>\n",
       "      <td>-0.020</td>\n",
       "      <td>0.005</td>\n",
       "      <td>3</td>\n",
       "      <td>0.005000</td>\n",
       "    </tr>\n",
       "  </tbody>\n",
       "</table>\n",
       "</div>"
      ],
      "text/plain": [
       "       time                      datetime  mid_price  mid_diff  state  \\\n",
       "0  0.058728 2012-06-21 09:46:00.805489419      0.005     0.005      3   \n",
       "1  0.354516 2012-06-21 09:46:01.101277444      0.000    -0.005      2   \n",
       "2  0.391589 2012-06-21 09:46:01.138350507     -0.005    -0.005      2   \n",
       "3  0.422029 2012-06-21 09:46:01.168790433     -0.025    -0.020      0   \n",
       "4  0.422125 2012-06-21 09:46:01.168885770     -0.020     0.005      3   \n",
       "\n",
       "   state_value  \n",
       "0     0.005000  \n",
       "1    -0.005000  \n",
       "2    -0.005000  \n",
       "3    -0.035802  \n",
       "4     0.005000  "
      ]
     },
     "execution_count": 12,
     "metadata": {},
     "output_type": "execute_result"
    }
   ],
   "source": [
    "df.head()"
   ]
  },
  {
   "cell_type": "code",
   "execution_count": 13,
   "id": "53db6534-cf4b-4cd4-8361-f29888737b44",
   "metadata": {},
   "outputs": [
    {
     "data": {
      "text/plain": [
       "time           False\n",
       "datetime       False\n",
       "mid_price      False\n",
       "mid_diff       False\n",
       "state          False\n",
       "state_value    False\n",
       "dtype: bool"
      ]
     },
     "execution_count": 13,
     "metadata": {},
     "output_type": "execute_result"
    }
   ],
   "source": [
    "df.isnull().any()"
   ]
  },
  {
   "cell_type": "code",
   "execution_count": 14,
   "id": "182b9bfc-7e36-4e07-9e8a-a88f9e4b2b8e",
   "metadata": {},
   "outputs": [],
   "source": [
    "df = df[['time', 'datetime', 'mid_diff', 'mid_price', 'state', 'state_value']]"
   ]
  },
  {
   "cell_type": "code",
   "execution_count": 15,
   "id": "4d133b83-7507-4284-9d4c-e5da9a91e4c0",
   "metadata": {},
   "outputs": [
    {
     "data": {
      "text/html": [
       "<div>\n",
       "<style scoped>\n",
       "    .dataframe tbody tr th:only-of-type {\n",
       "        vertical-align: middle;\n",
       "    }\n",
       "\n",
       "    .dataframe tbody tr th {\n",
       "        vertical-align: top;\n",
       "    }\n",
       "\n",
       "    .dataframe thead th {\n",
       "        text-align: right;\n",
       "    }\n",
       "</style>\n",
       "<table border=\"1\" class=\"dataframe\">\n",
       "  <thead>\n",
       "    <tr style=\"text-align: right;\">\n",
       "      <th></th>\n",
       "      <th>time</th>\n",
       "      <th>datetime</th>\n",
       "      <th>mid_diff</th>\n",
       "      <th>mid_price</th>\n",
       "      <th>state</th>\n",
       "      <th>state_value</th>\n",
       "    </tr>\n",
       "  </thead>\n",
       "  <tbody>\n",
       "    <tr>\n",
       "      <th>0</th>\n",
       "      <td>0.058728</td>\n",
       "      <td>2012-06-21 09:46:00.805489419</td>\n",
       "      <td>0.005</td>\n",
       "      <td>0.005</td>\n",
       "      <td>3</td>\n",
       "      <td>0.005</td>\n",
       "    </tr>\n",
       "    <tr>\n",
       "      <th>1</th>\n",
       "      <td>0.354516</td>\n",
       "      <td>2012-06-21 09:46:01.101277444</td>\n",
       "      <td>-0.005</td>\n",
       "      <td>0.000</td>\n",
       "      <td>2</td>\n",
       "      <td>-0.005</td>\n",
       "    </tr>\n",
       "  </tbody>\n",
       "</table>\n",
       "</div>"
      ],
      "text/plain": [
       "       time                      datetime  mid_diff  mid_price  state  \\\n",
       "0  0.058728 2012-06-21 09:46:00.805489419     0.005      0.005      3   \n",
       "1  0.354516 2012-06-21 09:46:01.101277444    -0.005      0.000      2   \n",
       "\n",
       "   state_value  \n",
       "0        0.005  \n",
       "1       -0.005  "
      ]
     },
     "execution_count": 15,
     "metadata": {},
     "output_type": "execute_result"
    }
   ],
   "source": [
    "df.head(2)"
   ]
  },
  {
   "cell_type": "code",
   "execution_count": 16,
   "id": "d3e180bc-8bd6-4d13-ae89-15ab5744b67a",
   "metadata": {},
   "outputs": [],
   "source": [
    "%matplotlib inline\n",
    "#df.mid_price.plot()"
   ]
  },
  {
   "cell_type": "code",
   "execution_count": 17,
   "id": "bd559c6c-4b08-40e1-9498-f4e1a2685dc1",
   "metadata": {},
   "outputs": [
    {
     "name": "stdout",
     "output_type": "stream",
     "text": [
      "Optimal Decay Value: 3879.3241282424347\n",
      "Maximum Hawkes Score: 262.1285165428113\n"
     ]
    }
   ],
   "source": [
    "timestamps_list = [df['time'].values]\n",
    "# Define a function to compute the negative hawkes score for a given decay\n",
    "def negative_hawkes_score(decay):\n",
    "    hawkes_learner = HawkesExpKern(decay, verbose=False, max_iter=10000, tol=1e-10)\n",
    "    hawkes_learner.fit(timestamps_list)\n",
    "    return -hawkes_learner.score()\n",
    "\n",
    "# Use minimize_scalar to find the decay that minimizes the negative hawkes score\n",
    "result = minimize_scalar(negative_hawkes_score, bounds=(500, 5000), method='bounded')\n",
    "\n",
    "# Extract the optimal decay and the maximum hawkes score from the result\n",
    "optimal_decay = result.x\n",
    "max_score = -result.fun\n",
    "\n",
    "print(\"Optimal Decay Value:\", optimal_decay)\n",
    "print(\"Maximum Hawkes Score:\", max_score)\n",
    "best_hawkes = HawkesExpKern(optimal_decay, verbose=False, max_iter=10000, tol=1e-10)\n",
    "best_hawkes.fit(timestamps_list)\n",
    "best_decay = optimal_decay\n",
    "best_score = best_hawkes.score()"
   ]
  },
  {
   "cell_type": "code",
   "execution_count": 18,
   "id": "9125f037-d446-4737-9f33-52dac82b1da9",
   "metadata": {},
   "outputs": [
    {
     "name": "stdout",
     "output_type": "stream",
     "text": [
      "n = 1 mu = [1.62152753] alpha = [[0.30508407]] \n",
      "beta = 3879.3241282424347, alpha_p = [[1183.51999011]], score = 262.1285165428113\n"
     ]
    }
   ],
   "source": [
    "print(f'n = {best_hawkes.n_nodes}',\n",
    "      f'mu = {best_hawkes.baseline}', \n",
    "      f'alpha = {best_hawkes.adjacency}', '\\n'\n",
    "      f'beta = {best_decay}, alpha_p = {best_hawkes.adjacency * best_decay}, score = {best_score}')"
   ]
  },
  {
   "cell_type": "markdown",
   "id": "c2285b14-b65f-4c0d-bba3-757779196fdb",
   "metadata": {},
   "source": [
    "## Markov Process"
   ]
  },
  {
   "cell_type": "markdown",
   "id": "62fcd8df-e072-43f7-9d99-9c6e1835a680",
   "metadata": {},
   "source": [
    "## Transition probability"
   ]
  },
  {
   "cell_type": "code",
   "execution_count": 19,
   "id": "95d3ac27-5fbe-4d1e-ad5e-c2e186ff7eac",
   "metadata": {},
   "outputs": [
    {
     "name": "stdout",
     "output_type": "stream",
     "text": [
      "[[0.125      0.12020614 0.18480345 0.08473154 0.10438639 0.38087248]\n",
      " [0.1432786  0.1490508  0.18766034 0.13930221 0.27873268 0.10197537]\n",
      " [0.14926519 0.1713095  0.23799079 0.24106164 0.10879579 0.0915771 ]\n",
      " [0.09799408 0.10851694 0.23961416 0.23698345 0.171106   0.14578538]\n",
      " [0.10451796 0.2890977  0.13206333 0.19024327 0.15021238 0.13386536]\n",
      " [0.38353636 0.10249785 0.08994709 0.18346253 0.12378491 0.11677126]]\n"
     ]
    }
   ],
   "source": [
    "# Initialize transition matrix\n",
    "transition_matrix = np.zeros((n_state_tot, n_state_tot))\n",
    "\n",
    "# Compute transitions\n",
    "for i in range(len(df['state']) - 1):\n",
    "    current_state = df['state'].iloc[i]\n",
    "    next_state = df['state'].iloc[i + 1]\n",
    "    transition_matrix[current_state][next_state] += 1\n",
    "\n",
    "# Normalize to get probabilities\n",
    "transition_probs = transition_matrix / transition_matrix.sum(axis=1)[:, None]\n",
    "print(transition_probs)"
   ]
  },
  {
   "cell_type": "code",
   "execution_count": 20,
   "id": "14f4fbf7-f899-47b0-88cb-4206e3adcee6",
   "metadata": {},
   "outputs": [
    {
     "name": "stdout",
     "output_type": "stream",
     "text": [
      "[0.16596069 0.15506458 0.18135299 0.18143355 0.15454395 0.16164425]\n",
      "================\n",
      "[0.16596069 0.15506458 0.18135299 0.18143355 0.15454395 0.16164425]\n",
      "================\n",
      "1.0\n"
     ]
    }
   ],
   "source": [
    "# Assuming transition_probs is your transition matrix\n",
    "P = transition_probs\n",
    "\n",
    "# Create a matrix where each row is P - I\n",
    "matrix = P.T - np.eye(P.shape[0])\n",
    "\n",
    "# Replace the last row with ones to account for the probability constraint\n",
    "matrix[-1, :] = 1\n",
    "\n",
    "# Create the target vector, with a 1 at the end for the probability constraint\n",
    "target = np.zeros(P.shape[0])\n",
    "target[-1] = 1\n",
    "\n",
    "# Solve the linear system\n",
    "stationary_probs = np.linalg.solve(matrix, target)\n",
    "\n",
    "print(stationary_probs)\n",
    "print(\"================\")\n",
    "print(stationary_probs @ P)\n",
    "print(\"================\")\n",
    "print(np.sum(stationary_probs))"
   ]
  },
  {
   "cell_type": "code",
   "execution_count": 21,
   "id": "3e8711d5-1e6a-49fb-8f7b-c7552a2a4d33",
   "metadata": {},
   "outputs": [
    {
     "data": {
      "text/plain": [
       "'0.149 &0.161 &0.195 &0.193 &0.157 &0.146'"
      ]
     },
     "execution_count": 21,
     "metadata": {},
     "output_type": "execute_result"
    }
   ],
   "source": [
    "float_list = [0.14862596, 0.16054869, 0.19520363, 0.19252834, 0.15702904, 0.14606435]\n",
    "\" &\".join([f\"{number:.3f}\" for number in float_list])\n"
   ]
  },
  {
   "cell_type": "markdown",
   "id": "54efc3e3-0b65-40a2-818e-b94c6902f831",
   "metadata": {},
   "source": [
    "## General compound"
   ]
  },
  {
   "cell_type": "markdown",
   "id": "db7bb823-301b-4f43-87a8-4ebf03449634",
   "metadata": {},
   "source": [
    "\\begin{equation}\n",
    "v(i) = b(i)^2 + \\sum_{j \\in S} (g(j) - g(i))^2 P(i, j) - 2b(i) \\sum_{j \\in S} (g(j) - g(i)) P(i, j)\n",
    "\\end{equation}"
   ]
  },
  {
   "cell_type": "code",
   "execution_count": 22,
   "id": "e9a36e2e-522d-419f-b984-6ac026ea784b",
   "metadata": {},
   "outputs": [],
   "source": [
    "def compute_v(b, g, P):\n",
    "    \"\"\"\n",
    "    Compute v based on the given formula.\n",
    "    \n",
    "    Parameters:\n",
    "    - i: the current state\n",
    "    - b: a function or dictionary that gives b(i) for each i\n",
    "    - g: a function or dictionary that gives g(i) for each i\n",
    "    - P: a 2D array or dictionary of dictionaries that gives P(i, j) for each pair i, j    \n",
    "    Returns:\n",
    "    - v\n",
    "    \"\"\"\n",
    "    v = np.zeros(b.shape)\n",
    "    S = np.array([i for i in range(len(b))])\n",
    "    for i in range(len(b)):\n",
    "        term1 = b[i]**2\n",
    "        term2 = np.sum([(g[j] - g[i])**2 * P[i][j] for j in S])\n",
    "        term3 = -2 * b[i] * np.sum([(g[j] - g[i]) * P[i][j] for j in S])\n",
    "        v[i] = term1 + term2 + term3\n",
    "    \n",
    "    return v"
   ]
  },
  {
   "cell_type": "code",
   "execution_count": 23,
   "id": "d76b45e5-00ca-4c03-807c-70e812eff55e",
   "metadata": {},
   "outputs": [],
   "source": [
    "# np.dot(stationary_probs, transition_probs), stationary_probs"
   ]
  },
  {
   "cell_type": "code",
   "execution_count": null,
   "id": "33f91d24-21a1-45d6-83e9-dd5e1abd5d80",
   "metadata": {},
   "outputs": [],
   "source": []
  },
  {
   "cell_type": "code",
   "execution_count": 24,
   "id": "5a22d66d-ec04-448e-8b94-756585feab52",
   "metadata": {},
   "outputs": [],
   "source": [
    "lam = best_hawkes.baseline\n",
    "alpha = best_hawkes.adjacency\n",
    "beta = best_decay\n",
    "mu_hat = alpha# (alpha*beta)/beta\n",
    "a = a_negative + a_positive\n",
    "a_star = np.dot(stationary_probs, a)\n",
    "b = a - a_star\n",
    "# # compute g \n",
    "P = transition_probs\n",
    "Pi = np.tile(stationary_probs, (len(stationary_probs), 1))\n",
    "# Identity matrix\n",
    "I = np.eye(n_state_tot)\n",
    "# Compute the inverse of P + Pi - I\n",
    "g = np.linalg.inv(P + Pi - I)@ b\n",
    "v =compute_v(b, g, P) \n",
    "sigma_2 = np.dot(stationary_probs, v)\n",
    "sigma = np.sqrt(sigma_2)\n",
    "sigma_star = sigma * np.sqrt(lam / (1 - mu_hat))"
   ]
  },
  {
   "cell_type": "code",
   "execution_count": 25,
   "id": "d8e7d737-517f-4b55-be8e-a99b38995cc1",
   "metadata": {},
   "outputs": [
    {
     "data": {
      "text/plain": [
       "(array([[0.125     , 0.12020614, 0.18480345, 0.08473154, 0.10438639,\n",
       "         0.38087248],\n",
       "        [0.1432786 , 0.1490508 , 0.18766034, 0.13930221, 0.27873268,\n",
       "         0.10197537],\n",
       "        [0.14926519, 0.1713095 , 0.23799079, 0.24106164, 0.10879579,\n",
       "         0.0915771 ],\n",
       "        [0.09799408, 0.10851694, 0.23961416, 0.23698345, 0.171106  ,\n",
       "         0.14578538],\n",
       "        [0.10451796, 0.2890977 , 0.13206333, 0.19024327, 0.15021238,\n",
       "         0.13386536],\n",
       "        [0.38353636, 0.10249785, 0.08994709, 0.18346253, 0.12378491,\n",
       "         0.11677126]]),\n",
       " 0.017929291162189102,\n",
       " -0.00016344329636916688,\n",
       " array([[0.30508407]]),\n",
       " array([1.62152753]))"
      ]
     },
     "execution_count": 25,
     "metadata": {},
     "output_type": "execute_result"
    }
   ],
   "source": [
    "transition_probs, sigma, a_star, mu_hat, lam"
   ]
  },
  {
   "cell_type": "code",
   "execution_count": 26,
   "id": "aa113e7d-bbe3-4afd-8767-4b5a16059420",
   "metadata": {},
   "outputs": [
    {
     "data": {
      "text/plain": [
       "'-0.036& -0.012& -0.005& 0.005& 0.012& 0.036'"
      ]
     },
     "execution_count": 26,
     "metadata": {},
     "output_type": "execute_result"
    }
   ],
   "source": [
    "\"& \".join([(f'{x:.3f}') for x in a])"
   ]
  },
  {
   "cell_type": "code",
   "execution_count": 27,
   "id": "39772f38-4e75-4941-a59c-74fc1f55efc4",
   "metadata": {},
   "outputs": [
    {
     "data": {
      "text/plain": [
       "'0.166& 0.155& 0.181& 0.181& 0.155& 0.162& 0.018& 0.305'"
      ]
     },
     "execution_count": 27,
     "metadata": {},
     "output_type": "execute_result"
    }
   ],
   "source": [
    "\"& \".join([(f'{x:.3f}') for x in stationary_probs.tolist() + [sigma] + mu_hat[0].tolist()])"
   ]
  },
  {
   "cell_type": "code",
   "execution_count": null,
   "id": "2b1137fe-511b-41c5-b1c3-50486d4114be",
   "metadata": {},
   "outputs": [],
   "source": []
  },
  {
   "cell_type": "code",
   "execution_count": 28,
   "id": "84ebb381-2f7c-4894-82d0-027b1f168d22",
   "metadata": {},
   "outputs": [],
   "source": [
    "#for w in range(10, 20, 10):\n",
    "#    print(str(w) + 'S')"
   ]
  },
  {
   "cell_type": "code",
   "execution_count": 29,
   "id": "3a761415-cd75-4003-98b1-5a57f6b4749c",
   "metadata": {},
   "outputs": [],
   "source": [
    "df['mid_price2'] = np.cumsum(df['state_value'])\n",
    "df['datetime'] = pd.to_datetime(df['datetime'])"
   ]
  },
  {
   "cell_type": "code",
   "execution_count": 30,
   "id": "56b2b560-0f92-4147-878f-bd20c67e2d09",
   "metadata": {},
   "outputs": [
    {
     "data": {
      "image/png": "[encoded data removed]",
      "text/plain": [
       "<Figure size 2500x500 with 1 Axes>"
      ]
     },
     "metadata": {},
     "output_type": "display_data"
    }
   ],
   "source": [
    "%matplotlib inline\n",
    "import matplotlib\n",
    "fig, ax = plt.subplots(1,1, figsize  = (25,5))\n",
    "ax.plot(df.datetime, df.mid_price)\n",
    "ax.plot(df.datetime, df.mid_price2)\n",
    "ax.xaxis.set_major_formatter(matplotlib.dates.DateFormatter('%H:%M'))\n",
    "#ax.set_xlim([0, 21400])\n",
    "#ax.set_ylim([-5, 2])"
   ]
  },
  {
   "cell_type": "code",
   "execution_count": 31,
   "id": "687392e3-485d-443e-b530-edd6c3d523b4",
   "metadata": {},
   "outputs": [
    {
     "data": {
      "text/html": [
       "<div>\n",
       "<style scoped>\n",
       "    .dataframe tbody tr th:only-of-type {\n",
       "        vertical-align: middle;\n",
       "    }\n",
       "\n",
       "    .dataframe tbody tr th {\n",
       "        vertical-align: top;\n",
       "    }\n",
       "\n",
       "    .dataframe thead th {\n",
       "        text-align: right;\n",
       "    }\n",
       "</style>\n",
       "<table border=\"1\" class=\"dataframe\">\n",
       "  <thead>\n",
       "    <tr style=\"text-align: right;\">\n",
       "      <th></th>\n",
       "      <th>time</th>\n",
       "      <th>datetime</th>\n",
       "      <th>mid_diff</th>\n",
       "      <th>mid_price</th>\n",
       "      <th>state</th>\n",
       "      <th>state_value</th>\n",
       "      <th>mid_price2</th>\n",
       "    </tr>\n",
       "  </thead>\n",
       "  <tbody>\n",
       "    <tr>\n",
       "      <th>50273</th>\n",
       "      <td>21473.523172</td>\n",
       "      <td>2012-06-21 15:43:54.269933030</td>\n",
       "      <td>-0.005</td>\n",
       "      <td>-8.250</td>\n",
       "      <td>2</td>\n",
       "      <td>-0.005000</td>\n",
       "      <td>-8.274234</td>\n",
       "    </tr>\n",
       "    <tr>\n",
       "      <th>50274</th>\n",
       "      <td>21473.982259</td>\n",
       "      <td>2012-06-21 15:43:54.729019855</td>\n",
       "      <td>0.005</td>\n",
       "      <td>-8.245</td>\n",
       "      <td>3</td>\n",
       "      <td>0.005000</td>\n",
       "      <td>-8.269234</td>\n",
       "    </tr>\n",
       "    <tr>\n",
       "      <th>50275</th>\n",
       "      <td>21473.982356</td>\n",
       "      <td>2012-06-21 15:43:54.729117047</td>\n",
       "      <td>0.015</td>\n",
       "      <td>-8.230</td>\n",
       "      <td>5</td>\n",
       "      <td>0.035773</td>\n",
       "      <td>-8.233461</td>\n",
       "    </tr>\n",
       "    <tr>\n",
       "      <th>50276</th>\n",
       "      <td>21474.132465</td>\n",
       "      <td>2012-06-21 15:43:54.879226032</td>\n",
       "      <td>0.010</td>\n",
       "      <td>-8.220</td>\n",
       "      <td>4</td>\n",
       "      <td>0.011730</td>\n",
       "      <td>-8.221730</td>\n",
       "    </tr>\n",
       "    <tr>\n",
       "      <th>50277</th>\n",
       "      <td>21477.379741</td>\n",
       "      <td>2012-06-21 15:43:58.126501952</td>\n",
       "      <td>0.010</td>\n",
       "      <td>-8.210</td>\n",
       "      <td>4</td>\n",
       "      <td>0.011730</td>\n",
       "      <td>-8.210000</td>\n",
       "    </tr>\n",
       "  </tbody>\n",
       "</table>\n",
       "</div>"
      ],
      "text/plain": [
       "               time                      datetime  mid_diff  mid_price  state  \\\n",
       "50273  21473.523172 2012-06-21 15:43:54.269933030    -0.005     -8.250      2   \n",
       "50274  21473.982259 2012-06-21 15:43:54.729019855     0.005     -8.245      3   \n",
       "50275  21473.982356 2012-06-21 15:43:54.729117047     0.015     -8.230      5   \n",
       "50276  21474.132465 2012-06-21 15:43:54.879226032     0.010     -8.220      4   \n",
       "50277  21477.379741 2012-06-21 15:43:58.126501952     0.010     -8.210      4   \n",
       "\n",
       "       state_value  mid_price2  \n",
       "50273    -0.005000   -8.274234  \n",
       "50274     0.005000   -8.269234  \n",
       "50275     0.035773   -8.233461  \n",
       "50276     0.011730   -8.221730  \n",
       "50277     0.011730   -8.210000  "
      ]
     },
     "execution_count": 31,
     "metadata": {},
     "output_type": "execute_result"
    }
   ],
   "source": [
    "df.tail()"
   ]
  },
  {
   "cell_type": "code",
   "execution_count": 32,
   "id": "6be1125e-8add-4123-bc66-611206ec9c5c",
   "metadata": {},
   "outputs": [],
   "source": [
    "df_ = df\n",
    "df_ = df.set_index('datetime')\n",
    "windows = range(360, 1200, 20)  # This will create a list [10, 20, 30, ..., 800]\n",
    "std_values = {}\n",
    "std_values_theory = {}\n",
    "for window in windows:\n",
    "    window = str(window) + 'S'\n",
    "    mid_price =  df_['mid_price'].resample(window).apply(lambda x: x[-1] - x[0])\n",
    "    jump = df_['mid_price'].resample(window).size() * a_star\n",
    "    p_result = mid_price - jump\n",
    "                  \n",
    "    std_value = p_result.dropna().std()\n",
    "    std_values[window] = std_value\n",
    "    n = float(window.replace('S',''))\n",
    "    std_values_theory[window] = (np.sqrt(lam/(1 - mu_hat))*sigma*np.sqrt(n)).item()\n",
    "\n",
    "# Plotting the results\n",
    "#std_values, std_values_theory\n",
    "x = [int(key[:-1]) for key in std_values.keys()]\n",
    "y = list(std_values.values())\n",
    "# Fit 2nd order polynomial\n",
    "z2 = np.polyfit(x, y, 2)\n",
    "p2 = np.poly1d(z2)\n",
    "\n",
    "# Fit 3rd order polynomial\n",
    "z3 = np.polyfit(x, y, 3)\n",
    "p3 = np.poly1d(z3)"
   ]
  },
  {
   "cell_type": "code",
   "execution_count": 33,
   "id": "c94b3df0-614f-4ddb-aaa8-e95275d9f3d9",
   "metadata": {},
   "outputs": [
    {
     "data": {
      "text/plain": [
       "0.9109263900407344"
      ]
     },
     "execution_count": 33,
     "metadata": {},
     "output_type": "execute_result"
    }
   ],
   "source": [
    "std_value"
   ]
  },
  {
   "cell_type": "code",
   "execution_count": 34,
   "id": "ee412e79-fe95-4e8b-9866-d5c956a8d437",
   "metadata": {},
   "outputs": [
    {
     "name": "stdout",
     "output_type": "stream",
     "text": [
      "0.005829567473008749\n",
      "0.02772320027904797& -0.0035489907665897974& 0.005829567473008749\n"
     ]
    }
   ],
   "source": [
    "from scipy.optimize import curve_fit\n",
    "from sklearn.metrics import mean_squared_error\n",
    "def mycurvefit(std_values, std_values_theory):\n",
    "    x = [int(key[:-1]) for key in std_values.keys()]\n",
    "    y = list(std_values.values())\n",
    "\n",
    "    def func(x, a, b):\n",
    "        return a * np.sqrt(x) + b\n",
    "    params, covariance = curve_fit(func, x, y)\n",
    "    a, b = params\n",
    "    y_pred = func(x, a, b)\n",
    "    y_true = list(std_values_theory.values())\n",
    "    #y_signal = y\n",
    "    return  y_pred, y_true, a, b\n",
    "y_pred, y_true, a, b = mycurvefit(std_values, std_values_theory)\n",
    "rmse = mean_squared_error(y_true, y_pred, squared=False)\n",
    "print(rmse)\n",
    "print(\"& \".join(map(str, [a, b, rmse])))"
   ]
  },
  {
   "cell_type": "code",
   "execution_count": 35,
   "id": "4635018e-f13e-4f17-b427-3e59b3684005",
   "metadata": {},
   "outputs": [
    {
     "data": {
      "image/png": "[encoded data removed]",
      "text/plain": [
       "<Figure size 500x500 with 1 Axes>"
      ]
     },
     "metadata": {},
     "output_type": "display_data"
    }
   ],
   "source": [
    "# Plotting the results\n",
    "plt.figure(figsize=(5, 5))\n",
    "plt.plot(list(std_values.keys()), list(std_values.values()), marker='o', label='Empirical')\n",
    "plt.plot(list(std_values_theory.keys()), list(std_values_theory.values()), marker='x', linestyle='--', label='Theoretical')\n",
    "plt.xlabel('Window Size (seconds)')\n",
    "plt.ylabel('Standard Deviation')\n",
    "plt.title('AMZN Result across Window Sizes', y= 1.05)\n",
    "plt.legend()\n",
    "n = 5\n",
    "keys = list(std_values.keys())\n",
    "plt.xticks(keys[::n], keys[::n], rotation=90)\n",
    "plt.ylim([.1, 1.2])\n",
    "#plt.xticks(rotation=90)\n",
    "plt.savefig(\"./pics/aapl_std_ns.png\", dpi=300, bbox_inches='tight')\n",
    "#plt.grid(True)\n",
    "plt.show()"
   ]
  },
  {
   "cell_type": "code",
   "execution_count": null,
   "id": "892ccd44-c288-4466-ad76-49525762e5ce",
   "metadata": {},
   "outputs": [],
   "source": []
  },
  {
   "cell_type": "code",
   "execution_count": null,
   "id": "f19bfcea-3d24-4953-a910-9f93166f498f",
   "metadata": {},
   "outputs": [],
   "source": []
  },
  {
   "cell_type": "code",
   "execution_count": null,
   "id": "3ffc3f30-8bd7-4f19-927e-a925db09edb3",
   "metadata": {},
   "outputs": [],
   "source": []
  },
  {
   "cell_type": "code",
   "execution_count": null,
   "id": "06a1a1b6-2ea9-44d5-a1b1-884ed563243e",
   "metadata": {},
   "outputs": [],
   "source": []
  },
  {
   "cell_type": "code",
   "execution_count": null,
   "id": "6caabc13-7168-49d6-94f8-96efa85e39db",
   "metadata": {},
   "outputs": [],
   "source": []
  },
  {
   "cell_type": "code",
   "execution_count": null,
   "id": "f7b4b0ff-4de3-440e-8c70-c5820a8b79e8",
   "metadata": {},
   "outputs": [],
   "source": []
  },
  {
   "cell_type": "code",
   "execution_count": null,
   "id": "dbf0dc3c-caaa-4d85-8e25-22215dbd539c",
   "metadata": {},
   "outputs": [],
   "source": []
  },
  {
   "cell_type": "code",
   "execution_count": null,
   "id": "cd72af20-3a70-4024-8907-a6e3e67660f5",
   "metadata": {},
   "outputs": [],
   "source": []
  },
  {
   "cell_type": "code",
   "execution_count": null,
   "id": "540fc76a-8abe-41e0-8cee-eaf2a36763e1",
   "metadata": {},
   "outputs": [],
   "source": []
  },
  {
   "cell_type": "code",
   "execution_count": null,
   "id": "a1ecf50f-1888-46e9-aff5-f9c68c5e09be",
   "metadata": {},
   "outputs": [],
   "source": []
  }
 ],
 "metadata": {
  "kernelspec": {
   "display_name": "ml",
   "language": "python",
   "name": "ml"
  },
  "language_info": {
   "codemirror_mode": {
    "name": "ipython",
    "version": 3
   },
   "file_extension": ".py",
   "mimetype": "text/x-python",
   "name": "python",
   "nbconvert_exporter": "python",
   "pygments_lexer": "ipython3",
   "version": "3.7.15"
  }
 },
 "nbformat": 4,
 "nbformat_minor": 5
}
