{
 "cells": [
  {
   "cell_type": "markdown",
   "id": "ff93934c-0d5b-4a0d-afb5-cdaaeb1ebd49",
   "metadata": {},
   "source": [
    "# Using manipulated data"
   ]
  },
  {
   "cell_type": "code",
   "execution_count": 1,
   "id": "0d2da3db-510b-4eaf-a462-7789892188dd",
   "metadata": {},
   "outputs": [],
   "source": [
    "%matplotlib inline"
   ]
  },
  {
   "cell_type": "code",
   "execution_count": 2,
   "id": "02f643b8-98da-42db-9535-b3641d2cade1",
   "metadata": {},
   "outputs": [],
   "source": [
    "import numpy as np\n",
    "import pandas as pd\n",
    "import matplotlib.pyplot as plt\n",
    "import tick\n",
    "from tick.base import TimeFunction\n",
    "from tick.hawkes import SimuHawkesExpKernels\n",
    "from tick.plot import plot_point_process\n",
    "from tick.hawkes import HawkesExpKern\n",
    "from tick.plot import plot_hawkes_kernel_norms\n",
    "import os\n",
    "from scipy.optimize import curve_fit\n",
    "from sklearn.metrics import mean_squared_error"
   ]
  },
  {
   "cell_type": "code",
   "execution_count": 3,
   "id": "10c0af20-eefe-4de9-9e73-6656b16b6ccf",
   "metadata": {},
   "outputs": [],
   "source": [
    "# Set global font properties\n",
    "plt.rcParams['font.family'] = 'serif'\n",
    "plt.rcParams['font.serif'] = ['Times New Roman', 'Palatino', 'Georgia']\n",
    "plt.rcParams['font.size'] = 14"
   ]
  },
  {
   "cell_type": "code",
   "execution_count": 4,
   "id": "e195e4db-22dd-46b1-b83f-ed61c224d62c",
   "metadata": {},
   "outputs": [],
   "source": [
    "def simulate_markov_chain(P, num_steps, start_state=0, sc = 0.01):\n",
    "    \"\"\"\n",
    "    Simulate a Markov chain given a transition matrix P.\n",
    "    \n",
    "    Parameters:\n",
    "    - P: Transition matrix (2D numpy array)\n",
    "    - num_steps: Number of steps to simulate\n",
    "    - start_state: Initial state (default is 0)\n",
    "    \n",
    "    Returns:\n",
    "    - List of states over time\n",
    "    \"\"\"\n",
    "    #np.random.seed(0)\n",
    "    # Ensure the matrix is a numpy array\n",
    "    P = np.array(P)\n",
    "    \n",
    "    # Initialize the current state and the list to store the sequence of states\n",
    "    current_state = start_state\n",
    "    states = [current_state]\n",
    "    Values = np.array([-sc, sc])\n",
    "    # Simulate the Markov chain\n",
    "    for _ in range(num_steps):\n",
    "        next_state = np.random.choice(len(P), p=P[current_state])\n",
    "        states.append(next_state)\n",
    "        current_state = next_state\n",
    "    val = [Values[s] for s in states]    \n",
    "    return val"
   ]
  },
  {
   "cell_type": "code",
   "execution_count": 5,
   "id": "fc16fdcc-f532-42c9-81bc-269697ff41b3",
   "metadata": {},
   "outputs": [],
   "source": [
    "def get_windows(df, a_star, lam, mu_hat, sigma):\n",
    "    df_ = df\n",
    "    df_ = df.set_index('datetime')\n",
    "    windows = range(360, 1200, 20)  # This will create a list [10, 20, 30, ..., 800]\n",
    "    std_values = {}\n",
    "    std_values_theory = {}\n",
    "    for window in windows:\n",
    "        window = str(window) + 'S'\n",
    "        mid_price =  df_['mid_price'].resample(window).apply(lambda x: x[-1] - x[0])\n",
    "        jump = df_['mid_price'].resample(window).size() * a_star\n",
    "        p_result = mid_price - jump\n",
    "\n",
    "        std_value = p_result.dropna().std()\n",
    "        std_values[window] = std_value\n",
    "        n = float(window.replace('S',''))\n",
    "        std_values_theory[window] = (np.sqrt(lam/(1 - mu_hat))*sigma*np.sqrt(n)).item()\n",
    "\n",
    "    # Plotting the results\n",
    "    #std_values, std_values_theory\n",
    "    return std_value, std_values_theory\n",
    "\n",
    "def mycurvefit(std_values, std_values_theory):\n",
    "    x = [int(key[:-1]) for key in std_values.keys()]\n",
    "    y = list(std_values.values())\n",
    "\n",
    "    def func(x, a, b):\n",
    "        return a * np.sqrt(x) + b\n",
    "    params, covariance = curve_fit(func, x, y)\n",
    "    a, b = params\n",
    "    y_pred = func(x, a, b)\n",
    "    y_true = list(std_values_theory.values())\n",
    "    #y_signal = y\n",
    "    return  y_pred, y_true, a, b"
   ]
  },
  {
   "cell_type": "code",
   "execution_count": 6,
   "id": "e9a36e2e-522d-419f-b984-6ac026ea784b",
   "metadata": {},
   "outputs": [],
   "source": [
    "def compute_v(b, g, P):\n",
    "    \"\"\"\n",
    "    Compute v based on the given formula.\n",
    "    \n",
    "    Parameters:\n",
    "    - i: the current state\n",
    "    - b: a function or dictionary that gives b(i) for each i\n",
    "    - g: a function or dictionary that gives g(i) for each i\n",
    "    - P: a 2D array or dictionary of dictionaries that gives P(i, j) for each pair i, j    \n",
    "    Returns:\n",
    "    - v\n",
    "    \"\"\"\n",
    "    v = np.zeros(b.shape)\n",
    "    S = np.array([i for i in range(len(b))])\n",
    "    for i in range(len(b)):\n",
    "        term1 = b[i]**2\n",
    "        term2 = np.sum([(g[j] - g[i])**2 * P[i][j] for j in S])\n",
    "        term3 = -2 * b[i] * np.sum([(g[j] - g[i]) * P[i][j] for j in S])\n",
    "        v[i] = term1 + term2 + term3\n",
    "    \n",
    "    return v"
   ]
  },
  {
   "cell_type": "code",
   "execution_count": 7,
   "id": "c564b94a",
   "metadata": {},
   "outputs": [],
   "source": [
    "def simulate_all(seed):\n",
    "    adjacency = np.array([[0.2]]) #alpha\n",
    "    decay = 3 # beta\n",
    "    baselines = np.array([1]) #lambda\n",
    "    stat = {}\n",
    "    stat[\"alpha\"] = adjacency[0] * decay\n",
    "    stat[\"beta\"] =  decay\n",
    "    stat[\"lam\"] = baselines[0]\n",
    "    \n",
    "    \n",
    "    hw = SimuHawkesExpKernels(adjacency, decay, baseline=baselines, seed=seed,verbose=False)\n",
    "    hw.track_intensity(0.1)\n",
    "    hw.end_time = 21470.779758\n",
    "    hw.simulate()\n",
    "\n",
    "    ts = hw.timestamps[0] #ts\n",
    "    # Convert ts_rescaled to datetime\n",
    "    start_time = pd.Timestamp('2012-06-21 00:00:00') \n",
    "    datetime_array = start_time + pd.to_timedelta(ts, unit='s')\n",
    "\n",
    "    # Create a DataFrame\n",
    "    df = pd.DataFrame({\n",
    "        'datetime': datetime_array,\n",
    "        'time': ts\n",
    "    })\n",
    "\n",
    "    pdd = 0.4635\n",
    "    puu = 0.4576\n",
    "    P = [[pdd, 1-pdd],\n",
    "        [1-puu, puu]]\n",
    "\n",
    "    num_steps = len(ts)\n",
    "    start_state = 0\n",
    "\n",
    "    df['mid_diff'] = np.array(simulate_markov_chain(P, num_steps, start_state))[1:]\n",
    "    df['mid_price'] = df['mid_diff'].cumsum()\n",
    "    df = df[['time', 'datetime', 'mid_price', 'mid_diff']]\n",
    "    df['state'] = np.where(df['mid_diff'] >= 0, 1, 0)\n",
    "    df['state'] = df['state'].astype('int')\n",
    "\n",
    "\n",
    "    # Assuming transition_probs is your transition matrix\n",
    "    transition_probs = P\n",
    "    P = np.array(P)\n",
    "    # Create a matrix where each row is P - I\n",
    "    matrix = P.T - np.eye(P.shape[0])\n",
    "\n",
    "    # Replace the last row with ones to account for the probability constraint\n",
    "    matrix[-1, :] = 1\n",
    "\n",
    "    # Create the target vector, with a 1 at the end for the probability constraint\n",
    "    target = np.zeros(P.shape[0])\n",
    "    target[-1] = 1\n",
    "\n",
    "    # Solve the linear system\n",
    "    stationary_probs = np.linalg.solve(matrix, target)\n",
    "\n",
    "    best_hawkes = hw\n",
    "    best_decay = decay\n",
    "\n",
    "    n_state_tot = 2\n",
    "    lam = best_hawkes.baseline\n",
    "    alpha = best_hawkes.adjacency\n",
    "    beta = best_decay\n",
    "    mu_hat = alpha# (alpha*beta)/beta\n",
    "    a = np.array([-0.01, 0.01])#a_negative + a_positive)\n",
    "    a_star = np.dot(stationary_probs, a)\n",
    "    b = a - a_star\n",
    "    # # compute g \n",
    "    P = transition_probs\n",
    "    Pi = np.tile(stationary_probs, (len(stationary_probs), 1))\n",
    "    # Identity matrix\n",
    "    I = np.eye(n_state_tot)\n",
    "    # Compute the inverse of P + Pi - I\n",
    "    g = np.linalg.inv(P + Pi - I)@ b\n",
    "    v =compute_v(b, g, P) \n",
    "    sigma_2 = np.dot(stationary_probs, v)\n",
    "    sigma = np.sqrt(sigma_2)\n",
    "    sigma_star = sigma * np.sqrt(lam / (1 - mu_hat))\n",
    "    \n",
    "    stat[\"sigma\"] = sigma\n",
    "    stat[\"a_star\"] = a_star\n",
    "    stat[\"mu_hat\"] = mu_hat\n",
    "    stat[\"pi\"] = stationary_probs\n",
    "    stat[\"p\"] = P\n",
    "    df_ = df\n",
    "    df_ = df.set_index('datetime')\n",
    "    windows = range(360, 1200, 20)  # This will create a list [10, 20, 30, ..., 800]\n",
    "    std_values = {}\n",
    "    std_values_theory = {}\n",
    "    for window in windows:\n",
    "        window = str(window) + 'S'\n",
    "        mid_price =  df_['mid_price'].resample(window).apply(lambda x: x[-1] - x[0])\n",
    "        jump = df_['mid_price'].resample(window).size() * a_star\n",
    "        p_result = mid_price - jump\n",
    "\n",
    "        std_value = p_result.dropna().std()\n",
    "        std_values[window] = std_value\n",
    "        n = float(window.replace('S',''))\n",
    "        std_values_theory[window] = (np.sqrt(lam/(1 - mu_hat))*sigma*np.sqrt(n)).item()\n",
    "    return df, std_values, std_values_theory, stat, hw\n",
    "    # Plotting the results\n",
    "    #std_values, std_values_theory\n"
   ]
  },
  {
   "cell_type": "code",
   "execution_count": 8,
   "id": "8f81696d-a24d-4119-a001-f0a70c7afd66",
   "metadata": {},
   "outputs": [],
   "source": [
    "df, _, _, stat, hw = simulate_all(int(12))"
   ]
  },
  {
   "cell_type": "code",
   "execution_count": 9,
   "id": "df3605b2-0d07-4ac5-a6d9-94cf5816969c",
   "metadata": {},
   "outputs": [
    {
     "data": {
      "text/plain": [
       "{'alpha': array([0.6]),\n",
       " 'beta': 3,\n",
       " 'lam': 1,\n",
       " 'sigma': 0.009239666602883547,\n",
       " 'a_star': -5.468532764853179e-05,\n",
       " 'mu_hat': array([[0.2]]),\n",
       " 'pi': array([0.50273427, 0.49726573]),\n",
       " 'p': [[0.4635, 0.5365], [0.5424, 0.4576]]}"
      ]
     },
     "execution_count": 9,
     "metadata": {},
     "output_type": "execute_result"
    }
   ],
   "source": [
    "stat"
   ]
  },
  {
   "cell_type": "code",
   "execution_count": 10,
   "id": "0a1490db-ba2d-4bb0-868a-84e4bd89af70",
   "metadata": {},
   "outputs": [
    {
     "data": {
      "text/plain": [
       "'1& 0.6000000000000001& 3'"
      ]
     },
     "execution_count": 10,
     "metadata": {},
     "output_type": "execute_result"
    }
   ],
   "source": [
    "\"& \".join(map(str, [stat[\"lam\"], stat[\"alpha\"][0], stat[\"beta\"]]))"
   ]
  },
  {
   "cell_type": "code",
   "execution_count": 11,
   "id": "90a0520f-5cbd-4f0f-97c7-094842a012db",
   "metadata": {},
   "outputs": [
    {
     "data": {
      "text/plain": [
       "'0.4576& 0.4635& 0.009239666602883547& 0.2& -5.468532764853179e-05'"
      ]
     },
     "execution_count": 11,
     "metadata": {},
     "output_type": "execute_result"
    }
   ],
   "source": [
    "\"& \".join(map(str, [stat[\"p\"][-1][-1], stat[\"p\"][0][0], stat[\"sigma\"], stat[\"mu_hat\"][0][0], stat[\"a_star\"]]))"
   ]
  },
  {
   "cell_type": "code",
   "execution_count": 12,
   "id": "a36227fe-83a2-4779-8609-2b7827763bfe",
   "metadata": {},
   "outputs": [],
   "source": [
    "import matplotlib.pyplot as plt\n",
    "\n",
    "# Extracting the data\n",
    "x_data = hw.intensity_tracked_times\n",
    "y_data = hw.tracked_intensity[0]\n",
    "\n",
    "# Convert seconds to hours and minutes for plotting\n",
    "time_as_float = x_data / 3600# // 3600 + (x_data % 3600) / 60\n",
    "\n",
    "# Plotting\n",
    "fig, ax1 = plt.subplots(figsize=(15,5))\n",
    "\n",
    "# Plot intensity on the left y-axis\n",
    "ax1.set_xlabel('Time')\n",
    "ax1.set_ylabel('Intensity', color='k')\n",
    "ax1.plot(time_as_float, y_data, color='k', alpha = 0.6,  label='Intensity')\n",
    "ax1.tick_params(axis='y', labelcolor='k')\n",
    "\n",
    "# Create a second y-axis for the mid_price\n",
    "ax2 = ax1.twinx()\n",
    "ax2.set_ylabel('Mid Price', color='b')\n",
    "# Use the 'datetime' column for the x-axis values\n",
    "xx_time = df['datetime'].dt.hour + df['datetime'].dt.minute / 60\n",
    "ax2.plot(xx_time, df['mid_price'], color='b', label='Mid Price')\n",
    "ax2.tick_params(axis='y', labelcolor='b')\n",
    "\n",
    "# Format x-axis to show only hours and minutes\n",
    "ax1.xaxis.set_major_formatter(plt.FuncFormatter(lambda x, _: '{:02d}:{:02d}'.format(int(x), int((x*60) % 60))))\n",
    "\n",
    "#start_hour = 5\n",
    "#end_hour = 8\n",
    "#ax1.set_xlim(start_hour, end_hour) \n",
    "\n",
    "plt.title('Intensity and Mid Price over Time')\n",
    "plt.tight_layout()\n",
    "plt.savefig(\"./pics/synth_intensity_and_price.png\", dpi=300, bbox_inches='tight')\n",
    "plt.show()\n"
   ]
  },
  {
   "cell_type": "code",
   "execution_count": 13,
   "id": "305c1c86-8d81-4529-993e-abd0b36f8741",
   "metadata": {},
   "outputs": [],
   "source": [
    "sd = np.random.choice(20000, 400)"
   ]
  },
  {
   "cell_type": "code",
   "execution_count": 14,
   "id": "bc410a27",
   "metadata": {},
   "outputs": [],
   "source": [
    "stdv = []\n",
    "stdt = []\n",
    "for s in sd:\n",
    "    _, ss, stt, _, _ = simulate_all(int(s))\n",
    "    stdv.append(ss)\n",
    "    stdt.append(stt)"
   ]
  },
  {
   "cell_type": "code",
   "execution_count": 15,
   "id": "b534a3a9-516a-47b2-9c86-3e3048a3420a",
   "metadata": {},
   "outputs": [],
   "source": [
    "def get_avg(data):\n",
    "    sums = {key: \n",
    "            0 for key in data[0].keys()}\n",
    "    for d in data:\n",
    "        for key, value in d.items():\n",
    "            sums[key] += value\n",
    "    averages = {key: value / len(data) for key, value in sums.items()}\n",
    "    return averages"
   ]
  },
  {
   "cell_type": "code",
   "execution_count": 16,
   "id": "31fe614d-1ea6-4da3-ad37-ce2a876077cd",
   "metadata": {},
   "outputs": [],
   "source": [
    "std_values = get_avg(stdv)\n",
    "std_values_theory = get_avg(stdt)"
   ]
  },
  {
   "cell_type": "code",
   "execution_count": 17,
   "id": "33e9d809-637d-4895-9508-e1a57743357c",
   "metadata": {},
   "outputs": [
    {
     "data": {
      "text/plain": [
       "0.007430760978036538"
      ]
     },
     "execution_count": 17,
     "metadata": {},
     "output_type": "execute_result"
    }
   ],
   "source": [
    "y_pred, y_true, a, b = mycurvefit(std_values, std_values_theory)\n",
    "rmse = mean_squared_error(y_true, y_pred, squared=False)\n",
    "rmse"
   ]
  },
  {
   "cell_type": "code",
   "execution_count": 18,
   "id": "6d9ea485-ea6b-4578-af96-2eed13a23e60",
   "metadata": {},
   "outputs": [
    {
     "data": {
      "text/plain": [
       "'0.009637188074985866& 0.01223054919548248& 0.007430760978036538'"
      ]
     },
     "execution_count": 18,
     "metadata": {},
     "output_type": "execute_result"
    }
   ],
   "source": [
    "\"& \".join(map(str, [a, b, rmse]))"
   ]
  },
  {
   "cell_type": "code",
   "execution_count": 19,
   "id": "314673f9-40d4-4ebd-96c1-6548547529f3",
   "metadata": {},
   "outputs": [],
   "source": [
    "%matplotlib inline"
   ]
  },
  {
   "cell_type": "code",
   "execution_count": 20,
   "id": "2986c95a-1410-42a6-be8c-21629107547f",
   "metadata": {},
   "outputs": [
    {
     "data": {
      "image/png": "[encoded data removed]",
      "text/plain": [
       "<Figure size 500x500 with 1 Axes>"
      ]
     },
     "metadata": {},
     "output_type": "display_data"
    }
   ],
   "source": [
    "# 10 Plotting the results\n",
    "plt.figure(figsize=(5, 5))\n",
    "plt.plot(list(std_values.keys()), list(std_values.values()), marker='o', label='Simulated')\n",
    "plt.plot(list(std_values_theory.keys()), list(std_values_theory.values()), marker='x', linestyle='--', label='Theoretical')\n",
    "plt.xlabel('Window Size (seconds)')\n",
    "plt.ylabel('Standard Deviation')\n",
    "plt.title('Synthetic Result across Window Sizes', y= 1.05)\n",
    "plt.legend()\n",
    "n = 5\n",
    "keys = list(std_values.keys())\n",
    "plt.xticks(keys[::n], keys[::n], rotation=90)\n",
    "plt.ylim([.1, 0.4])\n",
    "#plt.grid(True)\n",
    "plt.savefig(\"./pics/synth_std_ns_1.png\", dpi=300, bbox_inches='tight')\n",
    "plt.show()"
   ]
  },
  {
   "cell_type": "code",
   "execution_count": null,
   "id": "f1ad456b-e418-48cf-b568-922d74b3738c",
   "metadata": {},
   "outputs": [],
   "source": []
  },
  {
   "cell_type": "code",
   "execution_count": null,
   "id": "70706642-03d7-40ec-950c-f5abeedd5084",
   "metadata": {},
   "outputs": [],
   "source": []
  },
  {
   "cell_type": "code",
   "execution_count": null,
   "id": "c41d9c64-258a-44ba-b897-527756048110",
   "metadata": {},
   "outputs": [],
   "source": []
  },
  {
   "cell_type": "code",
   "execution_count": null,
   "id": "0ead2772-e817-4b27-8100-a135ac544587",
   "metadata": {},
   "outputs": [],
   "source": []
  },
  {
   "cell_type": "code",
   "execution_count": null,
   "id": "d3849fdc",
   "metadata": {},
   "outputs": [],
   "source": []
  },
  {
   "cell_type": "code",
   "execution_count": null,
   "id": "ab73d008",
   "metadata": {},
   "outputs": [],
   "source": []
  },
  {
   "cell_type": "code",
   "execution_count": null,
   "id": "540fc76a-8abe-41e0-8cee-eaf2a36763e1",
   "metadata": {},
   "outputs": [],
   "source": []
  },
  {
   "cell_type": "code",
   "execution_count": null,
   "id": "a1ecf50f-1888-46e9-aff5-f9c68c5e09be",
   "metadata": {},
   "outputs": [],
   "source": []
  }
 ],
 "metadata": {
  "kernelspec": {
   "display_name": "ml",
   "language": "python",
   "name": "ml"
  },
  "language_info": {
   "codemirror_mode": {
    "name": "ipython",
    "version": 3
   },
   "file_extension": ".py",
   "mimetype": "text/x-python",
   "name": "python",
   "nbconvert_exporter": "python",
   "pygments_lexer": "ipython3",
   "version": "3.7.15"
  }
 },
 "nbformat": 4,
 "nbformat_minor": 5
}
