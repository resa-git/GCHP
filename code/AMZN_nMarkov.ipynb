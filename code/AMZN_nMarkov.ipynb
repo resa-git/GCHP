{
 "cells": [
  {
   "cell_type": "markdown",
   "id": "ff93934c-0d5b-4a0d-afb5-cdaaeb1ebd49",
   "metadata": {},
   "source": [
    "# Using manipulated data"
   ]
  },
  {
   "cell_type": "code",
   "execution_count": 1,
   "id": "0d2da3db-510b-4eaf-a462-7789892188dd",
   "metadata": {},
   "outputs": [],
   "source": [
    "%matplotlib inline"
   ]
  },
  {
   "cell_type": "code",
   "execution_count": 2,
   "id": "02f643b8-98da-42db-9535-b3641d2cade1",
   "metadata": {},
   "outputs": [],
   "source": [
    "import numpy as np\n",
    "import pandas as pd\n",
    "import matplotlib.pyplot as plt\n",
    "import tick\n",
    "from tick.base import TimeFunction\n",
    "from tick.hawkes import SimuHawkesExpKernels\n",
    "from tick.plot import plot_point_process\n",
    "from tick.hawkes import HawkesExpKern\n",
    "from tick.plot import plot_hawkes_kernel_norms\n",
    "import os\n",
    "from collections import defaultdict\n",
    "from scipy.optimize import minimize_scalar"
   ]
  },
  {
   "cell_type": "code",
   "execution_count": 3,
   "id": "3fc65598-fed3-450b-a4b7-020c45611a69",
   "metadata": {},
   "outputs": [],
   "source": [
    "# Set global font properties\n",
    "plt.rcParams['font.family'] = 'serif'\n",
    "plt.rcParams['font.serif'] = ['Times New Roman', 'Palatino', 'Georgia']\n",
    "plt.rcParams['font.size'] = 14"
   ]
  },
  {
   "cell_type": "code",
   "execution_count": 4,
   "id": "e195e4db-22dd-46b1-b83f-ed61c224d62c",
   "metadata": {},
   "outputs": [],
   "source": [
    "def simulate_all(baselines, adjacency, decay, end_time, seed = 0):\n",
    "    stat = {}\n",
    "    #adjacency = np.array([[0.64149858]]) #alpha\n",
    "    #decay = 1205.6028014007004 # beta\n",
    "    #baselines = np.array([0.38069134]) #lambda\n",
    "    stat[\"alpha\"] = adjacency[0] * decay\n",
    "    stat[\"beta\"] =  decay\n",
    "    stat[\"lam\"] = baselines[0]\n",
    "    \n",
    "    \n",
    "    hw = SimuHawkesExpKernels(adjacency, decay, baseline=baselines, seed=seed,verbose=False)\n",
    "    hw.track_intensity(0.1)\n",
    "    hw.end_time = end_time\n",
    "    hw.simulate()\n",
    "\n",
    "    ts = hw.timestamps[0] #ts\n",
    "    # Convert ts_rescaled to datetime\n",
    "    start_time = pd.Timestamp('2012-06-21 00:00:00') \n",
    "    datetime_array = start_time + pd.to_timedelta(ts, unit='s')\n",
    "\n",
    "    # Create a DataFrame\n",
    "    df = pd.DataFrame({\n",
    "        'datetime': datetime_array,\n",
    "        'time': ts\n",
    "    })\n",
    "    return df\n",
    "\n",
    "def nth_order_markov_chain(df, n):\n",
    "    # Initialize transition counts\n",
    "    transition_counts = defaultdict(lambda: defaultdict(int))\n",
    "    \n",
    "    # Count transitions\n",
    "    for i in range(len(df) - n):\n",
    "        current_states = tuple(df.iloc[i:i+n]['state'])\n",
    "        next_state = df.iloc[i+n]['state']\n",
    "        transition_counts[current_states][next_state] += 1\n",
    "\n",
    "    # Normalize to get transition probabilities\n",
    "    transition_probs = defaultdict(dict)\n",
    "    for current_states, next_states_counts in transition_counts.items():\n",
    "        total_transitions = sum(next_states_counts.values())\n",
    "        for next_state, count in next_states_counts.items():\n",
    "            transition_probs[current_states][next_state] = count / total_transitions\n",
    "\n",
    "    return transition_probs\n",
    "def simulate_markov_chain(transition_probs, initial_state, num_steps, dstate, seed = 0):\n",
    "    \"\"\"\n",
    "    Simulate an n-th order Markov chain.\n",
    "    \n",
    "    Parameters:\n",
    "    - transition_probs: Transition probabilities (dict of dicts).\n",
    "    - initial_state: Initial sequence of states (tuple).\n",
    "    - num_steps: Number of steps to simulate.\n",
    "    \n",
    "    Returns:\n",
    "    - List of simulated states.\n",
    "    \"\"\"\n",
    "    if seed is not None:\n",
    "        np.random.seed(seed)  # Set the seed if provided\n",
    "    n = len(initial_state)\n",
    "    current_state = initial_state\n",
    "    simulated_states = list(current_state)\n",
    "    \n",
    "    for _ in range(num_steps):\n",
    "        next_states = transition_probs.get(current_state)\n",
    "        if not next_states:\n",
    "            # If current state is not in transition_probs, break\n",
    "            break\n",
    "        next_state = np.random.choice(list(next_states.keys()), p=list(next_states.values()))\n",
    "        simulated_states.append(next_state)\n",
    "        current_state = tuple(simulated_states[-n:])\n",
    "    state_to_value_dict = dstate['state_value'].to_dict()\n",
    "    seq_values = list(map(state_to_value_dict.get, simulated_states))\n",
    "    #df[\"mid_price2\"] = seq_values\n",
    "    return seq_values, simulated_states\n",
    "    #return df"
   ]
  },
  {
   "cell_type": "markdown",
   "id": "0db4dde5-4d2d-4d70-a46b-a6a2c1d9a623",
   "metadata": {},
   "source": [
    "## Read data"
   ]
  },
  {
   "cell_type": "code",
   "execution_count": 5,
   "id": "8881f20a-a226-45d4-b67b-08be6f245214",
   "metadata": {},
   "outputs": [],
   "source": [
    "stock = 'AMZN'\n",
    "lob_level = 1\n",
    "p = 'lobdataread'\n",
    "msgfile = os.path.join(os.getcwd(), f'{p}' ,\"data\", f'{stock}_2012-06-21_34200000_57600000_message_{lob_level}.csv')\n",
    "obfile =  os.path.join(os.getcwd(), f'{p}' ,\"data\", f'{stock}_2012-06-21_34200000_57600000_orderbook_{lob_level}.csv')\n",
    "df1=pd.read_csv(msgfile, sep=',', header=None, \n",
    "        names=['time', 'type', 'ord_id', 'size', 'price', 'dir'],\n",
    "        dtype={'time':np.float64, 'type':np.int32, 'ord_id':np.int32, \n",
    "               'size':np.int64, 'price':np.int64, 'dir':np.int32})\n",
    "\n",
    "df2=pd.read_csv(obfile, sep=',', header=None, \n",
    "        names=['ask_prc_L1', 'ask_sz_L1', 'bid_prc_L1', 'bid_sz_L1'],\n",
    "        dtype={'ask_prc_L1':np.float64, 'ask_sz_L1':np.int64, 'bid_prc_L1':np.float64, 'bid_sz_L1':np.int64})\n",
    "\n",
    "df3 = pd.concat([df1, df2], axis=1)\n",
    "df3 = df3.drop_duplicates(subset='time', keep='first')\n",
    "df3['mid_price'] = (df3['ask_prc_L1'] + df3['bid_prc_L1'])/2\n",
    "df3['datetime'] = pd.to_timedelta(df3['time'], unit='s') + pd.Timestamp(\"2012-06-21\")\n",
    "df3 = df3[(df3['datetime'].dt.time >= pd.Timestamp('2012-06-21 09:46:00').time()) & \n",
    "                 (df3['datetime'].dt.time <= pd.Timestamp('2012-06-21 15:44:00').time())]"
   ]
  },
  {
   "cell_type": "code",
   "execution_count": 6,
   "id": "f9434d3f-990c-4511-afda-69c3dde28c08",
   "metadata": {},
   "outputs": [],
   "source": [
    "df = df3[['time', 'datetime', 'mid_price']].copy()\n",
    "df['mid_price'] = df['mid_price']/10000 \n",
    "df.loc[:, 'mid_price'] = df['mid_price'] - df['mid_price'].iloc[0]\n",
    "df.loc[:, 'time'] = df['time'] - df['time'].iloc[0]\n",
    "df.reset_index(drop=True, inplace=True)\n",
    "df['mid_diff'] = df['mid_price'].diff()\n",
    "# Replace NaN with 0 at the beginning\n",
    "df['mid_diff'].fillna(0, inplace=True)\n",
    "threshold = 1e-6\n",
    "df = df[df['mid_diff'].abs() >= threshold]\n",
    "df.reset_index(drop=True, inplace=True)"
   ]
  },
  {
   "cell_type": "code",
   "execution_count": 7,
   "id": "9ada663d-0be3-43f6-99e1-750559570909",
   "metadata": {},
   "outputs": [
    {
     "data": {
      "text/html": [
       "<div>\n",
       "<style scoped>\n",
       "    .dataframe tbody tr th:only-of-type {\n",
       "        vertical-align: middle;\n",
       "    }\n",
       "\n",
       "    .dataframe tbody tr th {\n",
       "        vertical-align: top;\n",
       "    }\n",
       "\n",
       "    .dataframe thead th {\n",
       "        text-align: right;\n",
       "    }\n",
       "</style>\n",
       "<table border=\"1\" class=\"dataframe\">\n",
       "  <thead>\n",
       "    <tr style=\"text-align: right;\">\n",
       "      <th></th>\n",
       "      <th>time</th>\n",
       "      <th>datetime</th>\n",
       "      <th>mid_price</th>\n",
       "      <th>mid_diff</th>\n",
       "    </tr>\n",
       "  </thead>\n",
       "  <tbody>\n",
       "    <tr>\n",
       "      <th>0</th>\n",
       "      <td>3.364486</td>\n",
       "      <td>2012-06-21 09:46:05.948977122</td>\n",
       "      <td>-0.015</td>\n",
       "      <td>-0.015</td>\n",
       "    </tr>\n",
       "    <tr>\n",
       "      <th>1</th>\n",
       "      <td>3.364625</td>\n",
       "      <td>2012-06-21 09:46:05.949116138</td>\n",
       "      <td>-0.020</td>\n",
       "      <td>-0.005</td>\n",
       "    </tr>\n",
       "  </tbody>\n",
       "</table>\n",
       "</div>"
      ],
      "text/plain": [
       "       time                      datetime  mid_price  mid_diff\n",
       "0  3.364486 2012-06-21 09:46:05.948977122     -0.015    -0.015\n",
       "1  3.364625 2012-06-21 09:46:05.949116138     -0.020    -0.005"
      ]
     },
     "execution_count": 7,
     "metadata": {},
     "output_type": "execute_result"
    }
   ],
   "source": [
    "df.head(2)"
   ]
  },
  {
   "cell_type": "code",
   "execution_count": 8,
   "id": "5e4591eb-9aba-43ac-843a-cd1dd3b2d2a9",
   "metadata": {},
   "outputs": [],
   "source": [
    "n_state = [3, 3]\n",
    "n_state_neg = n_state[0]\n",
    "n_state_pos = n_state[1]\n",
    "n_state_tot = sum(n_state)\n",
    "\n",
    "# Split data into positive and negative\n",
    "df_positive = df[df['mid_diff'] >= 0]\n",
    "df_negative = df[df['mid_diff'] < 0]\n",
    "\n",
    "\n",
    "# Calculate quantiles for positive and negative data\n",
    "quantiles_positive = df_positive['mid_diff'].quantile(list(np.linspace(0, 1, n_state_pos + 1 )[1:-1])).tolist()\n",
    "quantiles_negative = df_negative['mid_diff'].quantile(list(np.linspace(0, 1, n_state_neg + 1 )[1:-1])).tolist()\n",
    "\n",
    "# Remove duplicates\n",
    "quantiles_positive = sorted(list(set(quantiles_positive)))\n",
    "quantiles_negative = sorted(list(set(quantiles_negative)))\n",
    "\n",
    "# Calculate state values a(i) for positive data\n",
    "a_positive = []\n",
    "a_positive.append(df_positive[(df_positive['mid_diff'] <= quantiles_positive[0])]['mid_diff'].mean())\n",
    "for i in range(len(quantiles_positive) - 1):\n",
    "    a_positive.append(df_positive[(df_positive['mid_diff'] > quantiles_positive[i]) & \n",
    "                                  (df_positive['mid_diff'] <= quantiles_positive[i+1])]['mid_diff'].mean())\n",
    "a_positive.append(df_positive[(df_positive['mid_diff'] > quantiles_positive[-1])]['mid_diff'].mean())\n",
    "\n",
    "\n",
    "# Calculate state values a(i) for negative data\n",
    "a_negative = []\n",
    "a_negative.append(df_negative[(df_negative['mid_diff'] < quantiles_negative[0])]['mid_diff'].mean())\n",
    "for i in range(len(quantiles_negative) - 1):\n",
    "    a_negative.append(df_negative[(df_negative['mid_diff'] >= quantiles_negative[i]) & \n",
    "                                  (df_negative['mid_diff'] < quantiles_negative[i+1])]['mid_diff'].mean())\n",
    "a_negative.append(df_negative[(df_negative['mid_diff'] >= quantiles_negative[-1])]['mid_diff'].mean())\n"
   ]
  },
  {
   "cell_type": "code",
   "execution_count": 9,
   "id": "d35b01a2-5053-4777-b5c0-2c256609c941",
   "metadata": {},
   "outputs": [],
   "source": [
    "# Assign states to price changes\n",
    "df['state'] = np.nan\n",
    "\n",
    "# Assign states for negative data\n",
    "df.loc[df['mid_diff'] < quantiles_negative[0], 'state'] = 0\n",
    "df.loc[df['mid_diff'] < quantiles_negative[0], 'state_value'] = a_negative[0]\n",
    "for i in range(1, len(quantiles_negative)):\n",
    "    df.loc[(df['mid_diff'] >= quantiles_negative[i-1]) & (df['mid_diff'] < quantiles_negative[i]), 'state'] = i\n",
    "    df.loc[(df['mid_diff'] >= quantiles_negative[i-1]) & (df['mid_diff'] < quantiles_negative[i]), 'state_value'] = a_negative[i]\n",
    "df.loc[(df['mid_diff'] >= quantiles_negative[-1])  & (df['mid_diff'] < 0), 'state'] = len(quantiles_negative)\n",
    "df.loc[(df['mid_diff'] >= quantiles_negative[-1])  & (df['mid_diff'] < 0), 'state_value'] = a_negative[-1]\n",
    "    \n",
    "    \n",
    "start_state_pos = len(a_negative) \n",
    "df.loc[(df['mid_diff'] <= quantiles_positive[0]) & (df['mid_diff'] >= 0) , 'state'] = start_state_pos \n",
    "df.loc[(df['mid_diff'] <= quantiles_positive[0]) & (df['mid_diff'] >= 0), 'state_value'] = a_positive[0]\n",
    "for i in range(1, len(quantiles_positive)):\n",
    "    df.loc[(df['mid_diff'] > quantiles_positive[i - 1]) & (df['mid_diff'] <= quantiles_positive[i]), 'state'] = start_state_pos + i\n",
    "    df.loc[(df['mid_diff'] > quantiles_positive[i - 1]) & (df['mid_diff'] <= quantiles_positive[i]), 'state_value'] = a_positive[i]\n",
    "df.loc[df['mid_diff'] > quantiles_positive[-1], 'state'] = start_state_pos + len(quantiles_positive)\n",
    "df.loc[df['mid_diff'] > quantiles_positive[-1], 'state_value'] =  a_positive[-1]\n",
    "df['state'] = df['state'].astype(int)"
   ]
  },
  {
   "cell_type": "code",
   "execution_count": 10,
   "id": "fe641dc3-34ad-44eb-a6f1-1b24692db61e",
   "metadata": {},
   "outputs": [
    {
     "data": {
      "text/html": [
       "<div>\n",
       "<style scoped>\n",
       "    .dataframe tbody tr th:only-of-type {\n",
       "        vertical-align: middle;\n",
       "    }\n",
       "\n",
       "    .dataframe tbody tr th {\n",
       "        vertical-align: top;\n",
       "    }\n",
       "\n",
       "    .dataframe thead th {\n",
       "        text-align: right;\n",
       "    }\n",
       "</style>\n",
       "<table border=\"1\" class=\"dataframe\">\n",
       "  <thead>\n",
       "    <tr style=\"text-align: right;\">\n",
       "      <th></th>\n",
       "      <th>time</th>\n",
       "      <th>datetime</th>\n",
       "      <th>mid_price</th>\n",
       "      <th>mid_diff</th>\n",
       "      <th>state</th>\n",
       "      <th>state_value</th>\n",
       "    </tr>\n",
       "  </thead>\n",
       "  <tbody>\n",
       "    <tr>\n",
       "      <th>0</th>\n",
       "      <td>3.364486</td>\n",
       "      <td>2012-06-21 09:46:05.948977122</td>\n",
       "      <td>-0.015</td>\n",
       "      <td>-0.015</td>\n",
       "      <td>0</td>\n",
       "      <td>-0.028456</td>\n",
       "    </tr>\n",
       "    <tr>\n",
       "      <th>1</th>\n",
       "      <td>3.364625</td>\n",
       "      <td>2012-06-21 09:46:05.949116138</td>\n",
       "      <td>-0.020</td>\n",
       "      <td>-0.005</td>\n",
       "      <td>2</td>\n",
       "      <td>-0.005000</td>\n",
       "    </tr>\n",
       "  </tbody>\n",
       "</table>\n",
       "</div>"
      ],
      "text/plain": [
       "       time                      datetime  mid_price  mid_diff  state  \\\n",
       "0  3.364486 2012-06-21 09:46:05.948977122     -0.015    -0.015      0   \n",
       "1  3.364625 2012-06-21 09:46:05.949116138     -0.020    -0.005      2   \n",
       "\n",
       "   state_value  \n",
       "0    -0.028456  \n",
       "1    -0.005000  "
      ]
     },
     "execution_count": 10,
     "metadata": {},
     "output_type": "execute_result"
    }
   ],
   "source": [
    "df.head(2)"
   ]
  },
  {
   "cell_type": "code",
   "execution_count": 11,
   "id": "53db6534-cf4b-4cd4-8361-f29888737b44",
   "metadata": {},
   "outputs": [
    {
     "data": {
      "text/plain": [
       "time           False\n",
       "datetime       False\n",
       "mid_price      False\n",
       "mid_diff       False\n",
       "state          False\n",
       "state_value    False\n",
       "dtype: bool"
      ]
     },
     "execution_count": 11,
     "metadata": {},
     "output_type": "execute_result"
    }
   ],
   "source": [
    "df.isnull().any()"
   ]
  },
  {
   "cell_type": "code",
   "execution_count": 12,
   "id": "182b9bfc-7e36-4e07-9e8a-a88f9e4b2b8e",
   "metadata": {},
   "outputs": [],
   "source": [
    "df = df[['time', 'datetime', 'mid_diff', 'mid_price', 'state', 'state_value']]"
   ]
  },
  {
   "cell_type": "code",
   "execution_count": 13,
   "id": "4d133b83-7507-4284-9d4c-e5da9a91e4c0",
   "metadata": {},
   "outputs": [
    {
     "data": {
      "text/html": [
       "<div>\n",
       "<style scoped>\n",
       "    .dataframe tbody tr th:only-of-type {\n",
       "        vertical-align: middle;\n",
       "    }\n",
       "\n",
       "    .dataframe tbody tr th {\n",
       "        vertical-align: top;\n",
       "    }\n",
       "\n",
       "    .dataframe thead th {\n",
       "        text-align: right;\n",
       "    }\n",
       "</style>\n",
       "<table border=\"1\" class=\"dataframe\">\n",
       "  <thead>\n",
       "    <tr style=\"text-align: right;\">\n",
       "      <th></th>\n",
       "      <th>time</th>\n",
       "      <th>datetime</th>\n",
       "      <th>mid_diff</th>\n",
       "      <th>mid_price</th>\n",
       "      <th>state</th>\n",
       "      <th>state_value</th>\n",
       "    </tr>\n",
       "  </thead>\n",
       "  <tbody>\n",
       "    <tr>\n",
       "      <th>0</th>\n",
       "      <td>3.364486</td>\n",
       "      <td>2012-06-21 09:46:05.948977122</td>\n",
       "      <td>-0.015</td>\n",
       "      <td>-0.015</td>\n",
       "      <td>0</td>\n",
       "      <td>-0.028456</td>\n",
       "    </tr>\n",
       "    <tr>\n",
       "      <th>1</th>\n",
       "      <td>3.364625</td>\n",
       "      <td>2012-06-21 09:46:05.949116138</td>\n",
       "      <td>-0.005</td>\n",
       "      <td>-0.020</td>\n",
       "      <td>2</td>\n",
       "      <td>-0.005000</td>\n",
       "    </tr>\n",
       "  </tbody>\n",
       "</table>\n",
       "</div>"
      ],
      "text/plain": [
       "       time                      datetime  mid_diff  mid_price  state  \\\n",
       "0  3.364486 2012-06-21 09:46:05.948977122    -0.015     -0.015      0   \n",
       "1  3.364625 2012-06-21 09:46:05.949116138    -0.005     -0.020      2   \n",
       "\n",
       "   state_value  \n",
       "0    -0.028456  \n",
       "1    -0.005000  "
      ]
     },
     "execution_count": 13,
     "metadata": {},
     "output_type": "execute_result"
    }
   ],
   "source": [
    "df.head(2)"
   ]
  },
  {
   "cell_type": "code",
   "execution_count": 14,
   "id": "d3e180bc-8bd6-4d13-ae89-15ab5744b67a",
   "metadata": {},
   "outputs": [],
   "source": [
    "%matplotlib inline\n",
    "#df.mid_price.plot()"
   ]
  },
  {
   "cell_type": "markdown",
   "id": "00ad755c-a171-489c-a302-2fc77a16b45f",
   "metadata": {},
   "source": [
    "## Hawkes process"
   ]
  },
  {
   "cell_type": "code",
   "execution_count": 15,
   "id": "bd559c6c-4b08-40e1-9498-f4e1a2685dc1",
   "metadata": {},
   "outputs": [
    {
     "name": "stdout",
     "output_type": "stream",
     "text": [
      "Optimal Decay Value: 1205.7552168460784\n",
      "Maximum Hawkes Score: 692.9856742937149\n"
     ]
    }
   ],
   "source": [
    "timestamps_list = [df['time'].values]\n",
    "# Define a function to compute the negative hawkes score for a given decay\n",
    "def negative_hawkes_score(decay):\n",
    "    hawkes_learner = HawkesExpKern(decay, verbose=False, max_iter=10000, tol=1e-10)\n",
    "    hawkes_learner.fit(timestamps_list)\n",
    "    return -hawkes_learner.score()\n",
    "\n",
    "# Use minimize_scalar to find the decay that minimizes the negative hawkes score\n",
    "result = minimize_scalar(negative_hawkes_score, bounds=(500, 5000), method='bounded')\n",
    "\n",
    "# Extract the optimal decay and the maximum hawkes score from the result\n",
    "optimal_decay = result.x\n",
    "max_score = -result.fun\n",
    "\n",
    "print(\"Optimal Decay Value:\", optimal_decay)\n",
    "print(\"Maximum Hawkes Score:\", max_score)\n",
    "best_hawkes = HawkesExpKern(optimal_decay, verbose=False, max_iter=10000, tol=1e-10)\n",
    "best_hawkes.fit(timestamps_list)\n",
    "best_decay = optimal_decay\n",
    "best_score = best_hawkes.score()"
   ]
  },
  {
   "cell_type": "code",
   "execution_count": 16,
   "id": "e805a43f-1561-4c0d-bdfe-84aa715456f1",
   "metadata": {},
   "outputs": [],
   "source": [
    "#best_hawkes = hw\n",
    "#best_decay = decay"
   ]
  },
  {
   "cell_type": "code",
   "execution_count": 17,
   "id": "9125f037-d446-4737-9f33-52dac82b1da9",
   "metadata": {},
   "outputs": [
    {
     "name": "stdout",
     "output_type": "stream",
     "text": [
      "n = 1 mu = [0.3808394] alpha = [[0.64147762]] \n",
      "beta = 1205.7552168460784, alpha_p = [[773.46499037]]\n"
     ]
    }
   ],
   "source": [
    "print(f'n = {best_hawkes.n_nodes}',\n",
    "      f'mu = {best_hawkes.baseline}', \n",
    "      f'alpha = {best_hawkes.adjacency}', '\\n'\n",
    "      f'beta = {best_decay}, alpha_p = {best_hawkes.adjacency * best_decay}')"
   ]
  },
  {
   "cell_type": "markdown",
   "id": "c2285b14-b65f-4c0d-bba3-757779196fdb",
   "metadata": {},
   "source": [
    "## Markov Process"
   ]
  },
  {
   "cell_type": "markdown",
   "id": "6855d5db-a677-41c0-adf3-acf408356af9",
   "metadata": {},
   "source": [
    "## Read data"
   ]
  },
  {
   "cell_type": "code",
   "execution_count": 18,
   "id": "05265379-5863-4fb7-a4d5-08e9958e8438",
   "metadata": {},
   "outputs": [],
   "source": [
    "dstate = df.drop_duplicates(subset='state')[['state', 'state_value']].sort_values(by='state').set_index('state')"
   ]
  },
  {
   "cell_type": "markdown",
   "id": "62fcd8df-e072-43f7-9d99-9c6e1835a680",
   "metadata": {},
   "source": [
    "## Transition probability"
   ]
  },
  {
   "cell_type": "code",
   "execution_count": 19,
   "id": "f996900d-bb94-440e-a722-87a2fe7ac522",
   "metadata": {},
   "outputs": [],
   "source": [
    "transition_probs = nth_order_markov_chain(df, n = 4)"
   ]
  },
  {
   "cell_type": "code",
   "execution_count": 20,
   "id": "bf0619c1-4ebd-44d9-8f7d-9f06fce4bda7",
   "metadata": {},
   "outputs": [],
   "source": [
    "dd = simulate_all(best_hawkes.baseline, best_hawkes.adjacency, best_decay, 21469.625623, 0)\n",
    "#dd.head(-1)"
   ]
  },
  {
   "cell_type": "code",
   "execution_count": 21,
   "id": "32551d71-ec3b-47c5-a2f4-19c8e69d6064",
   "metadata": {},
   "outputs": [],
   "source": [
    "def get_stat_real(df, col = \"mid_price\", a_star = 1, seed = 0):\n",
    "    df_ = df.copy()\n",
    "    df_ = df_.set_index('datetime')\n",
    "    windows = range(360, 1200, 20)  # This will create a list [10, 20, 30, ..., 800]\n",
    "    std_values = {}\n",
    "    for window in windows:\n",
    "        window = str(window) + 'S'\n",
    "        mid_price =  df_[col].resample(window).apply(lambda x: x[-1] - x[0])\n",
    "        jump = df_[col].resample(window).size() * a_star\n",
    "        p_result = mid_price - jump\n",
    "        std_value = p_result.dropna().std()\n",
    "        std_values[window] = std_value\n",
    "\n",
    "    return std_values\n",
    "\n",
    "def get_stat_sim(df, col, transition_probs, initial_state, dstate, a_star = 1, seed = 0):\n",
    "    df_ = df.copy()\n",
    "    num_steps = len(df_)\n",
    "    s, _ = simulate_markov_chain(transition_probs, initial_state, num_steps - len(initial_state), dstate, seed)\n",
    "    df_[col] = np.cumsum(s)\n",
    "    std_values_sim = get_stat_real(df_, col = col, a_star = a_star, seed = seed)\n",
    "    return std_values_sim\n"
   ]
  },
  {
   "cell_type": "code",
   "execution_count": 22,
   "id": "9a01a6e1-4e20-40b7-a7f8-04dabc1bf437",
   "metadata": {},
   "outputs": [],
   "source": [
    "#fig, ax = plt.subplots(1,1, figsize = (30, 5))\n",
    "#ax.plot(s3['state'].resample('1S'))#, s30[0:10]['state'])\n"
   ]
  },
  {
   "cell_type": "code",
   "execution_count": 23,
   "id": "78129821-d914-42a3-8498-ddd5a1603d80",
   "metadata": {},
   "outputs": [],
   "source": [
    "np.random.seed(1000)\n",
    "sd = np.random.choice(20000, 20)"
   ]
  },
  {
   "cell_type": "code",
   "execution_count": 24,
   "id": "03acf7c3-9505-40b3-a589-36db6e9fd5d8",
   "metadata": {},
   "outputs": [],
   "source": [
    "stdv = []\n",
    "stds = []\n",
    "for s in sd:\n",
    "    initial_state = (0, 2, 3, 4)  # For a 2nd order Markov chain\n",
    "    a_star = -5.468532764853179e-05\n",
    "    sv = get_stat_real(df, col = \"mid_price\", a_star = a_star, seed = s)\n",
    "    dg = simulate_all(best_hawkes.baseline, best_hawkes.adjacency, best_decay, 21469.625623, 0)\n",
    "    svsim = get_stat_sim(dg, \"mid_price\", transition_probs, initial_state, dstate, a_star, seed = s)\n",
    "    #sv, svsim, _, _ =  get_stat(df, transition_probs, initial_state, dstate, a_star, s)\n",
    "    stdv.append(sv)\n",
    "    stds.append(svsim)"
   ]
  },
  {
   "cell_type": "code",
   "execution_count": 25,
   "id": "e0ef7423-aeb9-4825-bedf-246a7a94a2a5",
   "metadata": {},
   "outputs": [],
   "source": [
    "def get_avg(data):\n",
    "    sums = {key: 0 for key in data[0].keys()}\n",
    "    for d in data:\n",
    "        for key, value in d.items():\n",
    "            sums[key] += value\n",
    "    averages = {key: value / len(data) for key, value in sums.items()}\n",
    "    return averages"
   ]
  },
  {
   "cell_type": "code",
   "execution_count": 26,
   "id": "442ba048-341e-45ec-9501-29c52b5b1726",
   "metadata": {},
   "outputs": [],
   "source": [
    "std_values = get_avg(stdv)\n",
    "std_values_sim = get_avg(stds)"
   ]
  },
  {
   "cell_type": "code",
   "execution_count": 27,
   "id": "56b2b560-0f92-4147-878f-bd20c67e2d09",
   "metadata": {},
   "outputs": [],
   "source": [
    "%matplotlib inline\n",
    "#import matplotlib\n",
    "#fig, ax = plt.subplots(1,1, figsize  = (25,5))\n",
    "#ax.plot(df.datetime, df.mid_price)\n",
    "#ax.plot(df.datetime, df.mid_price2)\n",
    "#ax.xaxis.set_major_formatter(matplotlib.dates.DateFormatter('%H:%M'))\n",
    "#ax.set_xlim([0, 21400])\n",
    "#ax.set_ylim([-5, 2])"
   ]
  },
  {
   "cell_type": "code",
   "execution_count": 28,
   "id": "cbd8aa45-1ad5-468a-98e5-a46e4bbe8adf",
   "metadata": {},
   "outputs": [
    {
     "name": "stdout",
     "output_type": "stream",
     "text": [
      "0.030943179814477355\n",
      "0.015132399004827705& 0.0912273370232847& 0.030943179814477355\n"
     ]
    }
   ],
   "source": [
    "from scipy.optimize import curve_fit\n",
    "from sklearn.metrics import mean_squared_error\n",
    "def mycurvefit(std_values, std_values_theory):\n",
    "    x = [int(key[:-1]) for key in std_values.keys()]\n",
    "    y = list(std_values.values())\n",
    "\n",
    "    def func(x, a, b):\n",
    "        return a * np.sqrt(x) + b\n",
    "    params, covariance = curve_fit(func, x, y)\n",
    "    a, b = params\n",
    "    y_pred = func(x, a, b)\n",
    "    y_true = list(std_values_theory.values())\n",
    "    #y_signal = y\n",
    "    return  y_pred, y_true, a, b\n",
    "y_pred, y_true, a, b = mycurvefit(std_values, std_values_sim)\n",
    "rmse = mean_squared_error(y_true, y_pred, squared=False)\n",
    "print(rmse)\n",
    "print(\"& \".join(map(str, [a, b, rmse])))"
   ]
  },
  {
   "cell_type": "code",
   "execution_count": 29,
   "id": "76c48463-0340-4981-86e8-232520a8b8c9",
   "metadata": {},
   "outputs": [
    {
     "data": {
      "image/png": "[encoded data removed]",
      "text/plain": [
       "<Figure size 500x500 with 1 Axes>"
      ]
     },
     "metadata": {},
     "output_type": "display_data"
    }
   ],
   "source": [
    "# 10 Plotting the results\n",
    "plt.figure(figsize=(5, 5))\n",
    "plt.plot(list(std_values.keys()), list(std_values.values()), marker='o', label='Empirical')\n",
    "plt.plot(list(std_values_sim.keys()), list(std_values_sim.values()), marker='x', linestyle='--', label='Simulation')\n",
    "plt.xlabel('Window Size (seconds)')\n",
    "plt.ylabel('Standard Deviation')\n",
    "plt.title('AMZN across Window Sizes', y= 1.05)\n",
    "plt.legend()\n",
    "n = 5\n",
    "keys = list(std_values.keys())\n",
    "plt.xticks(keys[::n], keys[::n], rotation=90)\n",
    "plt.ylim([.1, 0.8])\n",
    "#plt.grid(True)\n",
    "plt.savefig(\"./pics/amzn_std_n_markov.png\", dpi=300, bbox_inches='tight')\n",
    "plt.show()"
   ]
  },
  {
   "cell_type": "code",
   "execution_count": null,
   "id": "06a1a1b6-2ea9-44d5-a1b1-884ed563243e",
   "metadata": {},
   "outputs": [],
   "source": []
  },
  {
   "cell_type": "code",
   "execution_count": null,
   "id": "6caabc13-7168-49d6-94f8-96efa85e39db",
   "metadata": {},
   "outputs": [],
   "source": []
  },
  {
   "cell_type": "code",
   "execution_count": null,
   "id": "f7b4b0ff-4de3-440e-8c70-c5820a8b79e8",
   "metadata": {},
   "outputs": [],
   "source": []
  },
  {
   "cell_type": "code",
   "execution_count": null,
   "id": "dbf0dc3c-caaa-4d85-8e25-22215dbd539c",
   "metadata": {},
   "outputs": [],
   "source": []
  },
  {
   "cell_type": "code",
   "execution_count": null,
   "id": "cd72af20-3a70-4024-8907-a6e3e67660f5",
   "metadata": {},
   "outputs": [],
   "source": []
  },
  {
   "cell_type": "code",
   "execution_count": null,
   "id": "540fc76a-8abe-41e0-8cee-eaf2a36763e1",
   "metadata": {},
   "outputs": [],
   "source": []
  },
  {
   "cell_type": "code",
   "execution_count": null,
   "id": "a1ecf50f-1888-46e9-aff5-f9c68c5e09be",
   "metadata": {},
   "outputs": [],
   "source": []
  }
 ],
 "metadata": {
  "kernelspec": {
   "display_name": "ml",
   "language": "python",
   "name": "ml"
  },
  "language_info": {
   "codemirror_mode": {
    "name": "ipython",
    "version": 3
   },
   "file_extension": ".py",
   "mimetype": "text/x-python",
   "name": "python",
   "nbconvert_exporter": "python",
   "pygments_lexer": "ipython3",
   "version": "3.7.15"
  }
 },
 "nbformat": 4,
 "nbformat_minor": 5
}
